{
 "cells": [
  {
   "cell_type": "code",
   "execution_count": 1,
   "metadata": {},
   "outputs": [
    {
     "data": {
      "text/html": [
       "<style>.container { width:95% !important; }</style>"
      ],
      "text/plain": [
       "<IPython.core.display.HTML object>"
      ]
     },
     "metadata": {},
     "output_type": "display_data"
    }
   ],
   "source": [
    "from IPython.core.display import display, HTML\n",
    "display(HTML(\"<style>.container { width:95% !important; }</style>\"))"
   ]
  },
  {
   "cell_type": "code",
   "execution_count": 1,
   "metadata": {},
   "outputs": [],
   "source": [
    "import numpy as np\n",
    "import numpy.matlib\n",
    "import matplotlib.pyplot as plt\n",
    "from sympy import *\n",
    "from sympy.physics.mechanics import dynamicsymbols, init_vprinting, msubs\n",
    "from IPython.display import Image\n",
    "from IPython.core.display import HTML\n",
    "import scipy.integrate\n",
    "import math\n",
    "from numpy.linalg import matrix_power\n",
    "from scipy.linalg import expm\n",
    "\n",
    "%matplotlib notebook"
   ]
  },
  {
   "cell_type": "code",
   "execution_count": 2,
   "metadata": {},
   "outputs": [],
   "source": [
    "def discretize_ss(A, B, dt):\n",
    "    A_B = np.block([[A, B],\n",
    "                [np.zeros((B.shape[1], A.shape[0])), np.zeros((B.shape[1], B.shape[1]))]])\n",
    "    #print(\"A shape:\", A.shape)\n",
    "    #print(\"B shape:\", B.shape)\n",
    "    #print(\"A_B:\", A_B)\n",
    "\n",
    "    eAt_d = scipy.linalg.expm(A_B * dt)\n",
    "\n",
    "    A_d_temp = eAt_d[:A.shape[0], :A.shape[0]]\n",
    "\n",
    "    B_d_temp = eAt_d[:B.shape[0], A.shape[0]:]\n",
    "\n",
    "    return (A_d_temp, B_d_temp)"
   ]
  },
  {
   "cell_type": "code",
   "execution_count": 31,
   "metadata": {},
   "outputs": [],
   "source": [
    "def get_integrated_position_trajectory(initial_pos, vel_desired):\n",
    "    x_ref_temp = np.zeros((n, N))\n",
    "\n",
    "    pos_desired = initial_pos\n",
    "    for i in range(0, N):\n",
    "        pos_desired += vel_desired * dt\n",
    "        x_ref_temp[:, i] = np.array([0, 0, 0, 0, pos_desired, 1, 0, 0, 0, 0, vel_desired, 0, -9.81])\n",
    "        \n",
    "    return x_ref_temp"
   ]
  },
  {
   "cell_type": "code",
   "execution_count": null,
   "metadata": {
    "scrolled": false
   },
   "outputs": [
    {
     "name": "stdout",
     "output_type": "stream",
     "text": [
      "Minimum possible Force in X and Y direction: -200.0\n",
      "Maximum possible Force in X and Y direction: 200.0\n",
      "Entering main MPC loop...\n"
     ]
    }
   ],
   "source": [
    "############################ MPC for full point mass model #######################################################\n",
    "from casadi import *\n",
    "\n",
    "dt = 1/30 # [s] (sampling time interval)\n",
    "N = 30 # Prediction horizon Length\n",
    "\n",
    "f_min = -1000 # Minimum Force \n",
    "f_max = 1000 # Maximum Force. Replace with max force in x, z, and z\n",
    "\n",
    "phi = SX.sym('phi') # Orientation Euler Angle 1\n",
    "theta = SX.sym('theta') # Orientation Euler Angle 2\n",
    "psi = SX.sym('psi') # Orientatoin Euler Angle 3\n",
    "\n",
    "omega_x = SX.sym('omega_x')\n",
    "omega_y = SX.sym('omega_y')\n",
    "omega_z = SX.sym('omega_z')\n",
    "\n",
    "p_x = SX.sym('p_x') # position X\n",
    "p_y = SX.sym('p_y') # position Y\n",
    "p_z = SX.sym('p_z') # position Z\n",
    "\n",
    "v_x = SX.sym('v_x') # velocity X\n",
    "v_y = SX.sym('v_y') # velocity Y\n",
    "v_z = SX.sym('v_z') # velocity Z\n",
    "\n",
    "g_constant = SX.sym('g') # gravity state / constant (is augmented to allow state space form), might be seperated again for readability\n",
    "\n",
    "states = [phi, theta, psi, p_x, p_y, p_z, omega_x, omega_y, omega_z, v_x, v_y, v_z, g_constant]\n",
    "n = len(states)\n",
    "\n",
    "f_x_l = SX.sym('f_x_l') # Force in X on left foot\n",
    "f_y_l = SX.sym('f_y_l') # Force in Y on left foot\n",
    "f_z_l = SX.sym('f_z_l') # Force in Z on left foot\n",
    "\n",
    "f_x_r = SX.sym('f_x_r') # Force in X on right foot\n",
    "f_y_r = SX.sym('f_y_r') # Force in Y on right foot\n",
    "f_z_r = SX.sym('f_z_r') # Force in Z on right foot\n",
    "\n",
    "controls = [f_x_l, f_y_l, f_z_l, f_x_r, f_y_r, f_z_r]\n",
    "m = len(controls)\n",
    "\n",
    "U = SX.sym('U', m, N) # Control action matrix (that will be determined by the NLP solver)\n",
    "X = SX.sym('X', n, N + 1) # State Matrix (that will also be determined by the NLP solver due to the chosen multiple-shooting method). The + 1 is for x0\n",
    "P_rows = n\n",
    "P_cols = 1 + N + n * N + m * N + m # last m for D matrix (used for contact constraint)\n",
    "P = SX.sym('P', P_rows, P_cols) # Parameter Matrix containing states and reference states. n + n to have n elements for the initial state and n elements for the reference state.\n",
    "\n",
    "#print(\"U shape after init:\", U.shape)\n",
    "#print(\"X shape after init:\", X.shape)\n",
    "\n",
    "objective_function = 0 # expression for the objective function\n",
    "\n",
    "# lbx = lower bounds on optimization variable(s)\n",
    "# ubx = upper bounds on optimization variable(s)\n",
    "# lbg = lower bounds on constraints vector (should also be a vector), for equality constraints, just set lbg=ubg=k, where k is the constraint value\n",
    "# ubg = upper bounds on constraints vector (should also be a vector)\n",
    "\n",
    "lbx = []\n",
    "ubx = []\n",
    "lbg = []\n",
    "ubg = []\n",
    "\n",
    "g = [] # Constraint vector (both equality and inequality)\n",
    "\n",
    "g += [X[:, 0] - P[:, 0]] # equality constraint x0 (chosen by solver) - x0 (input as parameter by user) = 0\n",
    "\n",
    "lbg += [0] * n # n zeroes for equality constraints. These exist to ensure solver and actual initial state are the same.\n",
    "ubg += [0] * n # n zeroes for equality constraints. These exist to ensure solver and actual initial state are the same.\n",
    "\n",
    "#print(\"lbg length after initial state constraint:\", len(lbg))\n",
    "\n",
    "#Proven to be reasonbly stable:\n",
    "#Q = np.diag([1000,1000,1000,10000,10000,50000,10,10,10,10,10,10,0])\n",
    "#R = np.diag([0.01, 0.01, 0.01, 0.01, 0.01, 0.01])\n",
    "\n",
    "Q = np.diag([1000,1000,1000,10000,10000,50000,10,10,10,10,10,10,0])\n",
    "\n",
    "R = np.diag([0.01, 0.01, 0.01, 0.01, 0.01, 0.01])\n",
    "\n",
    "t = 0\n",
    "\n",
    "# state is phi, theta, psi, p_x, p_y, p_z, omega_x, omega_y, omega_z, v_x, v_y, v_z, gravity constant\n",
    "\n",
    "x_t = [0, 0, 0, 0, 0, 1.48, 0, 0, 0, 0, 0, 0, -9.81]\n",
    "\n",
    "state_history = [x_t]\n",
    "reference_state_history = []\n",
    "optimal_state_history = []\n",
    "optimal_control_history = []\n",
    "control_history = []\n",
    "r_left_history = []\n",
    "r_right_history = []\n",
    "t_history = [t]\n",
    "\n",
    "contact_history = []\n",
    "\n",
    "#x_ref = get_integrated_position_trajectory(x_t[5])\n",
    "\n",
    "#x_ref = [0, 0, 0, 0, 0, 1, 0, 0, 0, 0, 0, 0, -9.81]\n",
    "\n",
    "#x_ref = np.tile(np.array(x_ref).reshape(n, 1), N)\n",
    "\n",
    "x_ref = get_integrated_position_trajectory(x_t[4], 0.2)\n",
    "\n",
    "m_value = 30 # kg\n",
    "\n",
    "P_param = np.zeros((P_rows, P_cols))\n",
    "\n",
    "P_param[:, 0] = np.array(x_t)\n",
    "P_param[:, 1:N+1] = x_ref\n",
    "\n",
    "swing_left = True\n",
    "swing_right = False\n",
    "\n",
    "#Diagonal ones where contact is not present. First 3 rows is left foot, second 3 rows is right foot\n",
    "D = np.array([[int(swing_left == True), 0, 0, 0, 0, 0],\n",
    "              [0, int(swing_left == True), 0, 0, 0, 0],\n",
    "              [0, 0, int(swing_left == True), 0, 0, 0],\n",
    "              [0, 0, 0, int(swing_right == True), 0, 0],\n",
    "              [0, 0, 0, 0, int(swing_right == True), 0],\n",
    "              [0, 0, 0, 0, 0, int(swing_right == True)]]) #Swing = no contact (and thus 1 any force == 0 must mean force is 0)\n",
    "\n",
    "contact_history.append([D[0, 0], D[3, 3]])\n",
    "\n",
    "\n",
    "P_param[:m, 1+N+n*N + m*N:1+N+n*N + m*N + m] = D\n",
    "\n",
    "for i in range(N):\n",
    "    #print(\"i:\", i)\n",
    "    \n",
    "    state = X[:, i] # extract state at current time step\n",
    "    control = U[:, i] # extract control input at current time step\n",
    "    \n",
    "    # Add the symbolic cost for each time step to the objective function \n",
    "    objective_function = objective_function + (state - P[:, i+1]).T @ Q @ (state - P[:, i+1]) + control.T @ R @ control\n",
    "    \n",
    "    #This is the equality constraint required for multiple shooting, so that the solver respects the system dynamics\n",
    "    next_state = X[:, i+1]\n",
    "    A_d_t = P[:, 1+N+(i*n):1+N+(i*n)+n]\n",
    "    B_d_t = P[:, 1 + N + n*N +(i*m):1 + N + n*N + (i*m)+m]\n",
    "    \n",
    "    #print(\"A_d_t.shape:\", A_d_t.shape)\n",
    "    #print(\"B_d_t.shape:\", B_d_t.shape)\n",
    "    next_state_simulation = A_d_t @ state + B_d_t @ control\n",
    "    #print(\"next_state_simulation:\", next_state_simulation)\n",
    "    #print(\"next state simulation type:\", type(next_state_simulation))\n",
    "    \n",
    "    g += [next_state - next_state_simulation]\n",
    "    \n",
    "    lbg += [0] * n # n zeroes for equality constraints enforcing system dynamcis on every state\n",
    "    ubg += [0] * n # n zeroes for equality constraints enforcing system dynamcis on every state\n",
    "        \n",
    "\n",
    "adjust_friction_constraints = True\n",
    "mu = 0.2\n",
    "\n",
    "adjust_contact_constraints_equality = True\n",
    "adjust_contact_constraints_bounds = False\n",
    "\n",
    "if adjust_contact_constraints_equality:\n",
    "\n",
    "    for i in range(N): # Contact constraints.\n",
    "        \n",
    "        if i % m == 0:\n",
    "            g += [P[:m, 1+N+n*N + m*N:1+N+n*N + m*N + m] @ U[:, i]]\n",
    "            lbg += [0] * m\n",
    "            ubg += [0] * m\n",
    "\n",
    "for i in range(N): # Friction cone constraints. Seperate loops to have a nice structure in constraints\n",
    "\n",
    "    if adjust_friction_constraints:\n",
    "        if i % m == 0:\n",
    "            \n",
    "            f_x_left = U[0, i]\n",
    "            f_y_left = U[1, i]\n",
    "            f_z_left = U[2, i]\n",
    "            \n",
    "            f_x_right = U[3, i]\n",
    "            f_y_right = U[4, i]\n",
    "            f_z_right = U[5, i]\n",
    "            \n",
    "            # -mu * f_z < f_x\n",
    "            g += [-mu * f_z_left - f_x_left]\n",
    "            lbg += [-inf]\n",
    "            ubg += [0]\n",
    "            \n",
    "            # f_x < mu * f_z\n",
    "            g += [f_x_left - mu * f_z_left]\n",
    "            lbg += [-inf]\n",
    "            ubg += [0]\n",
    "            \n",
    "            # -mu * f_z < f_y\n",
    "            g += [-mu * f_z_left - f_y_left]\n",
    "            lbg += [-inf]\n",
    "            ubg += [0]\n",
    "            \n",
    "            # f_y < mu * f_z\n",
    "            g += [f_y_left - mu * f_z_left]\n",
    "            lbg += [-inf]\n",
    "            ubg += [0]\n",
    "            \n",
    "            # -mu * f_z < f_x\n",
    "            g += [-mu * f_z_right - f_x_right]\n",
    "            lbg += [-inf]\n",
    "            ubg += [0]\n",
    "            \n",
    "            # f_x < mu * f_z\n",
    "            g += [f_x_right - mu * f_z_right]\n",
    "            lbg += [-inf]\n",
    "            ubg += [0]\n",
    "            \n",
    "            # -mu * f_z < f_y\n",
    "            g += [-mu * f_z_right - f_y_right]\n",
    "            lbg += [-inf]\n",
    "            ubg += [0]\n",
    "            \n",
    "            # f_y < mu * f_z\n",
    "            g += [f_y_right - mu * f_z_right]\n",
    "            lbg += [-inf]\n",
    "            ubg += [0]  \n",
    "            \n",
    "optimization_variables = [X.reshape((n * (N+1), 1)), U.reshape((m * N, 1))]\n",
    "\n",
    "nlp = {'x':vertcat(*optimization_variables), 'f':objective_function, 'g':vertcat(*g), 'p':P}\n",
    "\n",
    "opts = {}\n",
    "opts[\"print_time\"] = 0\n",
    "#opts[\"expand\"] = False\n",
    "opts['ipopt'] = {\"max_iter\":50, \"print_level\":0, \"acceptable_tol\":1e-7, \"acceptable_obj_change_tol\":1e-5}\n",
    "\n",
    "solver = nlpsol('solver', 'ipopt', nlp, opts);\n",
    "\n",
    "# Initialization values for solver. These should be filled with at least a linear interpolation between initial and desired state to improve performance.\n",
    "# They are updated every iteration.\n",
    "\n",
    "U_t = np.zeros((m, N))\n",
    "X_t = np.tile(np.array(x_t).reshape(n, 1), N+1).reshape(n, N+1)\n",
    "\n",
    "#print(\"U_t shape after init:\", U_t.shape)\n",
    "#print(\"X_t shape after init:\", X_t.shape)\n",
    "\n",
    "simulation_time = 15 # [s]\n",
    "    \n",
    "iterations = 0\n",
    "\n",
    "r_left_contact = True\n",
    "r_right_contact = True\n",
    "\n",
    "I_body = np.array([[0.836, 0., 0.],\n",
    "                    [0., 1.2288, 0.],\n",
    "                    [0., 0., 1.4843]]) # Inertia in the body frame (meaning around CoM of torso).\n",
    "\n",
    "Ixx = I_body[0, 0]\n",
    "Ixy = I_body[0, 1]\n",
    "Ixz = I_body[0, 2]\n",
    "\n",
    "Iyx = I_body[1, 0]\n",
    "Iyy = I_body[1, 1]\n",
    "Iyz = I_body[1, 2]\n",
    "\n",
    "Izx = I_body[2, 0]\n",
    "Izy = I_body[2, 1]\n",
    "Izz = I_body[2, 2]\n",
    "\n",
    "for i in range(0, n * (N+1) + m * N):\n",
    "    \n",
    "    # TODO: Add state constraints\n",
    "    if i <= n * (N+1) - 1: # Loop is still inside the state decision variable region in the vector.\n",
    "        lbx += [-inf]\n",
    "        ubx += [inf]\n",
    "    else:\n",
    "        \n",
    "        lbx += [f_min]\n",
    "        ubx += [f_max]\n",
    "        \n",
    "if adjust_contact_constraints_bounds:\n",
    "\n",
    "    for i in range(0, m * N):\n",
    "        if i % m == 0 or i == n * (N+1):\n",
    "\n",
    "            index = n * (N+1)\n",
    "\n",
    "            if not r_left_contact:\n",
    "                lbx[index] = ubx[index] = 0.\n",
    "                lbx[index + 1] = ubx[index + 1] = 0.\n",
    "                lbx[index + 2] = ubx[index + 2] = 0.\n",
    "\n",
    "            if not r_right_contact:\n",
    "                lbx[index + 3] = ubx[index + 3] = 0.\n",
    "                lbx[index + 4] = ubx[index + 4] = 0.\n",
    "                lbx[index + 5] = ubx[index + 5] = 0.\n",
    "            \n",
    "print(\"Minimum possible Force in X and Y direction:\", mu * f_min)\n",
    "print(\"Maximum possible Force in X and Y direction:\", mu * f_max)\n",
    "\n",
    "use_C_code = False\n",
    "\n",
    "solver.generate_dependencies('nlp.c')\n",
    "\n",
    "if use_C_code:\n",
    "\n",
    "    print(\"Compiling C Code for solver...\")\n",
    "\n",
    "    solver.generate_dependencies('nlp.c')\n",
    "    import os\n",
    "    os.system(\"gcc -O2 -fPIC -shared nlp.c -o nlp.so\")\n",
    "    solver = nlpsol(\"solver\", \"ipopt\", \"nlp.so\", opts)\n",
    "\n",
    "    print(\"Finished compiling.\")\n",
    "    \n",
    "X_t = X_t.reshape((n * (N+1), 1))\n",
    "U_t = U_t.reshape((m * N, 1))\n",
    "\n",
    "print(\"Entering main MPC loop...\")\n",
    "\n",
    "foot_behind_left = not swing_left # this is because it will be inverted on the first contact switch\n",
    "foot_behind_right = not swing_right\n",
    "\n",
    "pos_desired = 0\n",
    "vel_desired = 0.2\n",
    "\n",
    "step_length = 0.2\n",
    "\n",
    "r_y_left = r_y_right = 0\n",
    "\n",
    "contact_swap_interval = 15\n",
    "\n",
    "while t < simulation_time:\n",
    "    # In C++: Update I_world based on rotation matrix angles -> Update A_d and B_d based on I world and r_l, r_r changes -> Pass A_d and B_d as parameters\n",
    "    \n",
    "    if iterations % contact_swap_interval == 0 and True:\n",
    "        swing_left = not swing_left\n",
    "        swing_right = not swing_right\n",
    "        D = np.array([[int(swing_left == True), 0, 0, 0, 0, 0],\n",
    "                      [0, int(swing_left == True), 0, 0, 0, 0],\n",
    "                      [0, 0, int(swing_left == True), 0, 0, 0],\n",
    "                      [0, 0, 0, int(swing_right == True), 0, 0],\n",
    "                      [0, 0, 0, 0, int(swing_right == True), 0],\n",
    "                      [0, 0, 0, 0, 0, int(swing_right == True)]]) #Swing = no contact (and thus 1 any force == 0 must mean force is 0)\n",
    "        \n",
    "        P_param[:m, 1+N+n*N + m*N:1+N+n*N + m*N + m] = D\n",
    "        \n",
    "        if iterations % (contact_swap_interval * 2) == 0:\n",
    "        \n",
    "            if foot_behind_left:\n",
    "                r_y_left = -step_length\n",
    "            else:\n",
    "                r_y_left = step_length\n",
    "            foot_behind_left = not foot_behind_left\n",
    "\n",
    "            if foot_behind_right:\n",
    "                r_y_right = -step_length\n",
    "            else:\n",
    "                r_y_right = step_length\n",
    "            foot_behind_right = not foot_behind_right\n",
    "                \n",
    "        # Location of the force vector being applied by the left foot.\n",
    "        r_x_left = 0.15\n",
    "        #r_y_left = 0\n",
    "        r_z_left = -x_t[5]\n",
    "\n",
    "        # Location of the force vector being applied by the right foot.\n",
    "        r_x_right = -0.15\n",
    "        #r_y_right = 0\n",
    "        r_z_right = -x_t[5]\n",
    "        \n",
    "    contact_history.append([D[0, 0], D[3, 3]])\n",
    "        \n",
    "    x_ref = np.zeros((n, N))\n",
    "    \n",
    "    pos_desired += vel_desired * dt\n",
    "    for i in range(N):\n",
    "        x_ref[:, i] = np.array([0, 0, 0, 0, pos_desired, 1.48, 0, 0, 0, 0, vel_desired, 0, -9.81])\n",
    "\n",
    "    P_param[:, 1:N+1] = x_ref\n",
    "\n",
    "    reference_state_history.append(x_ref[:, 0].reshape(n,1)) # or -1\n",
    "    \n",
    "    for i in range(N):\n",
    "\n",
    "        phi_t = x_ref[0, i]\n",
    "        theta_t = x_ref[1, i]\n",
    "        psi_t = x_ref[2, i]\n",
    "\n",
    "        I_world = np.array([[(Ixx*cos(psi_t) + Iyx*sin(psi_t))*cos(psi_t) + (Ixy*cos(psi_t) + Iyy*sin(psi_t))*sin(psi_t), -(Ixx*cos(psi_t) + Iyx*sin(psi_t))*sin(psi_t) + (Ixy*cos(psi_t) + Iyy*sin(psi_t))*cos(psi_t), Ixz*cos(psi_t) + Iyz*sin(psi_t)], [(-Ixx*sin(psi_t) + Iyx*cos(psi_t))*cos(psi_t) + (-Ixy*sin(psi_t) + Iyy*cos(psi_t))*sin(psi_t), -(-Ixx*sin(psi_t) + Iyx*cos(psi_t))*sin(psi_t) + (-Ixy*sin(psi_t) + Iyy*cos(psi_t))*cos(psi_t), -Ixz*sin(psi_t) + Iyz*cos(psi_t)], [Ixy*sin(psi_t) + Izx*cos(psi_t), Ixy*cos(psi_t) - Izx*sin(psi_t), Izz]])\n",
    "\n",
    "        # Skew symmetric versions for the 3x1 foot position vector resembling the matrix version of the cross product of two vectors. This is needed for the matrix form.\n",
    "        r_left_skew_symmetric = np.array([[0, -r_z_left, r_y_left],\n",
    "                                        [r_z_left, 0, -r_x_left],\n",
    "                                        [-r_y_left, r_x_left, 0]]) \n",
    "\n",
    "        r_right_skew_symmetric = np.array([[0, -r_z_right, r_y_right],\n",
    "                                        [r_z_right, 0, -r_x_right],\n",
    "                                        [-r_y_right, r_x_right, 0]])\n",
    "\n",
    "        A_c = np.array([[0, 0, 0, 0, 0, 0, math.cos(psi_t), math.sin(psi_t), 0, 0, 0, 0, 0],\n",
    "                        [0, 0, 0, 0, 0, 0, -math.sin(psi_t), math.cos(psi_t), 0, 0, 0, 0, 0],\n",
    "                        [0, 0, 0, 0, 0, 0, 0, 0, 1, 0, 0, 0, 0],\n",
    "\n",
    "                        [0, 0, 0, 0, 0, 0, 0, 0, 0, 1, 0, 0, 0],\n",
    "                        [0, 0, 0, 0, 0, 0, 0, 0, 0, 0, 1, 0, 0],\n",
    "                        [0, 0, 0, 0, 0, 0, 0, 0, 0, 0, 0, 1, 0],\n",
    "\n",
    "                        [0, 0, 0, 0, 0, 0, 0, 0, 0, 0, 0, 0, 0],\n",
    "                        [0, 0, 0, 0, 0, 0, 0, 0, 0, 0, 0, 0, 0],\n",
    "                        [0, 0, 0, 0, 0, 0, 0, 0, 0, 0, 0, 0, 0],\n",
    "\n",
    "                        [0, 0, 0, 0, 0, 0, 0, 0, 0, 0, 0, 0, 0],\n",
    "                        [0, 0, 0, 0, 0, 0, 0, 0, 0, 0, 0, 0, 0],\n",
    "                        [0, 0, 0, 0, 0, 0, 0, 0, 0, 0, 0, 0, 1],\n",
    "\n",
    "                        [0, 0, 0, 0, 0, 0, 0, 0, 0, 0, 0, 0, 0]])\n",
    "\n",
    "        B_c = np.block([[0, 0, 0, 0, 0, 0],\n",
    "                        [0, 0, 0, 0, 0, 0],\n",
    "                        [0, 0, 0, 0, 0, 0],\n",
    "                        [0, 0, 0, 0, 0, 0],\n",
    "                        [0, 0, 0, 0, 0, 0],\n",
    "                        [0, 0, 0, 0, 0, 0],\n",
    "                        [I_world @ r_left_skew_symmetric, I_world @ r_right_skew_symmetric],\n",
    "                        [1/m_value, 0, 0, 1/m_value, 0, 0],\n",
    "                        [0, 1/m_value, 0, 0, 1/m_value, 0],\n",
    "                        [0, 0, 1/m_value, 0, 0, 1/m_value],\n",
    "                        [0, 0, 0, 0, 0, 0]])\n",
    "\n",
    "        A_d, B_d = discretize_ss(A_c, B_c, dt)\n",
    "        \n",
    "        P_param[:, 1 + N + (i*n):1 + N + (i*n)+n] = A_d\n",
    "        P_param[:, 1 + N + n * N + (i*m):1 + N + n * N + (i*m)+m] = B_d\n",
    "    \n",
    "    state_history.append(x_t)\n",
    "    control_history.append(np.array(u_t).reshape(m,1))\n",
    "    r_left_history.append([r_x_left, r_y_left, r_z_left])\n",
    "    r_right_history.append([r_x_right, r_y_right, r_z_right])\n",
    "    \n",
    "    x0_solver = vertcat(*[X_t, U_t])\n",
    "    sol = solver(x0=x0_solver, lbx=lbx, ubx=ubx, lbg=lbg, ubg=ubg, p=DM(P_param))\n",
    "    \n",
    "    t_history.append(t)\n",
    "    optimal_state_history.append(X_t)\n",
    "    optimal_control_history.append(U_t)\n",
    "    \n",
    "    u_t = sol['x'][n * (N+1):n * (N+1) + m]\n",
    "    \n",
    "    x_t = A_d @ np.array(x_t).reshape(n,1) + B_d @ np.array(u_t).reshape(m,1)\n",
    "    P_param[:, 0] = x_t.reshape(13)\n",
    "    \n",
    "    X_t[:-n] = sol['x'][n:n * (N+1)]\n",
    "    X_t[-n:] = sol['x'][-n - m * N: n * (N+1)]\n",
    "    \n",
    "    U_t[:-m] = sol['x'][m + n * (N+1):]\n",
    "    U_t[-m:] = sol['x'][-m:]\n",
    "    \n",
    "    #X_t = sol['x'][0: n * (N+1)]\n",
    "    #U_t = sol['x'][n * (N+1):]\n",
    "\n",
    "    t += dt\n",
    "    iterations += 1\n",
    "    \n",
    "print(\"Final MPC iterations:\", iterations)\n",
    "print(\"Steady state error:\\n\", (x_ref[: ,-1].reshape(n,1) - x_t))\n",
    "#print(\"Steady state error:\", np.array(state_history[-1]) - np.array(x_ref))\n",
    "#print(\"Test:\", np.linalg.norm(np.array(x_t[0:3]).reshape(3,1) - np.array(x_ref[0:3]).reshape(3,1)))    \n",
    "\n",
    "plt.rcParams['figure.figsize'] = [10, 4] #inches\n",
    "\n",
    "fig = plt.figure()\n",
    "ax = fig.add_subplot(111)\n",
    "\n",
    "ax.plot(t_history, [x[3] for x in state_history],label=\"pos_x\")\n",
    "ax.plot(t_history, [x[4] for x in state_history],label=\"pos_y\")\n",
    "ax.plot(t_history, [x[5] for x in state_history],label=\"pos_z\")\n",
    "\n",
    "t_history_interval = int(len(t_history) / int(len(t_history) / N)) # I know this is ugly, but who cares :)\n",
    "\n",
    "ax.plot(t_history[:-1], [x[3][0] for x in reference_state_history], label=\"pos_x_ref\", linestyle='--')\n",
    "ax.plot(t_history[:-1], [x[4][0] for x in reference_state_history], label=\"pos_y_ref\", linestyle='--')\n",
    "ax.plot(t_history[:-1], [x[5][0] for x in reference_state_history], label=\"pos_z_ref\", linestyle='--')\n",
    "plt.legend()\n",
    "\n",
    "fig = plt.figure()\n",
    "ax = fig.add_subplot(111)\n",
    "\n",
    "ax.plot(t_history, [x[0] for x in contact_history], label=\"contact_left\")\n",
    "ax.plot(t_history, [x[1] for x in contact_history], label=\"contact_right\")\n",
    "\n",
    "ax.plot(t_history[:-1], [x[1] for x in r_left_history], label=\"r_y_left\")\n",
    "ax.plot(t_history[:-1], [x[2] for x in r_left_history], label=\"r_z_left\")\n",
    "\n",
    "ax.plot(t_history[:-1], [x[1] for x in r_right_history], label=\"r_y_right\")\n",
    "ax.plot(t_history[:-1], [x[2] for x in r_right_history], label=\"r_z_right\")\n",
    "plt.legend()\n",
    "\n",
    "fig = plt.figure()\n",
    "ax = fig.add_subplot(111)\n",
    "\n",
    "ax.plot(t_history, [x[9] for x in state_history],label=\"vel_x\")\n",
    "ax.plot(t_history, [x[10] for x in state_history],label=\"vel_y\")\n",
    "ax.plot(t_history, [x[11] for x in state_history],label=\"vel_z\")\n",
    "\n",
    "ax.plot(t_history[:-1], [x[9][0] for x in reference_state_history], label=\"vel_x_ref\", linestyle='--')\n",
    "ax.plot(t_history[:-1], [x[10][0] for x in reference_state_history], label=\"vel_y_ref\", linestyle='--')\n",
    "ax.plot(t_history[:-1], [x[11][0] for x in reference_state_history], label=\"vel_z_ref\", linestyle='--')\n",
    "plt.legend()\n",
    "\n",
    "fig = plt.figure()\n",
    "ax = fig.add_subplot(111)\n",
    "\n",
    "ax.plot(t_history, [x[0] for x in state_history],label=\"phi\")\n",
    "ax.plot(t_history, [x[1] for x in state_history],label=\"theta\")\n",
    "ax.plot(t_history, [x[2] for x in state_history],label=\"psi\")\n",
    "\n",
    "#ax.plot(t_history[:t_history_interval:] * N, x_ref[0, :], label=\"phi_ref\", linestyle='--')\n",
    "#ax.plot(t_history[:t_history_interval:], x_ref[1, :], label=\"theta_ref\", linestyle='--')\n",
    "#ax.plot(t_history[:t_history_interval:], x_ref[2, :], label=\"psi_ref\", linestyle='--')\n",
    "plt.legend()\n",
    "\n",
    "fig = plt.figure()\n",
    "ax = fig.add_subplot(111)\n",
    "\n",
    "ax.plot(t_history[:-1], [x[0] for x in control_history], label=\"f_x_left\")\n",
    "ax.plot(t_history[:-1], [x[1] for x in control_history], label=\"f_y_left\")\n",
    "ax.plot(t_history[:-1], [x[2] for x in control_history], label=\"f_z_left\")\n",
    "\n",
    "# no minus needed because f_min is already negative, maybe change that.\n",
    "ax.plot(t_history[:-1], [-mu * f[2] for f in control_history], label=\"lower_limit_x\", linestyle='--')\n",
    "ax.plot(t_history[:-1], [-mu * f[2] for f in control_history], label=\"lower_limit_y\", linestyle='--')\n",
    "ax.plot(t_history, np.ones(len(t_history)) * f_min, label=\"lower_limit_z\", linestyle='--')\n",
    "\n",
    "ax.plot(t_history[:-1], [mu * f[2] for f in control_history], label=\"upper_limit_x\", linestyle='--')\n",
    "ax.plot(t_history[:-1], [mu * f[2] for f in control_history], label=\"upper_limit_y\", linestyle='--')\n",
    "ax.plot(t_history, np.ones(len(t_history)) * f_max, label=\"upper_limit_z\", linestyle='--')\n",
    "plt.legend()\n",
    "\n",
    "fig = plt.figure()\n",
    "ax = fig.add_subplot(111)\n",
    "\n",
    "ax.plot(t_history[:-1], [x[3] for x in control_history], label=\"f_x_right\")\n",
    "ax.plot(t_history[:-1], [x[4] for x in control_history], label=\"f_y_right\")\n",
    "ax.plot(t_history[:-1], [x[5] for x in control_history], label=\"f_z_right\")\n",
    "\n",
    "# no minus needed because f_min is already negative, maybe change that.\n",
    "\n",
    "ax.plot(t_history[:-1], [-mu * f[5] for f in control_history], label=\"lower_limit_x\", linestyle='--')\n",
    "ax.plot(t_history[:-1], [-mu * f[5] for f in control_history], label=\"lower_limit_y\", linestyle='--')\n",
    "ax.plot(t_history, np.ones(len(t_history)) * f_min, label=\"lower_limit_z\", linestyle='--')\n",
    "\n",
    "ax.plot(t_history[:-1], [mu * f[5] for f in control_history], label=\"upper_limit_x\", linestyle='--')\n",
    "ax.plot(t_history[:-1], [mu * f[5] for f in control_history], label=\"upper_limit_y\", linestyle='--')\n",
    "ax.plot(t_history, np.ones(len(t_history)) * f_max, label=\"upper_limit_z\", linestyle='--')\n",
    "plt.legend()\n",
    "\n",
    "plot_optimal_state_history = False\n",
    "\n",
    "if plot_optimal_state_history:\n",
    "\n",
    "    fig = plt.figure()\n",
    "    ax = fig.add_subplot(111)\n",
    "\n",
    "    for optimal_states in optimal_state_history:\n",
    "        ax.plot(optimal_states[3:13:], label=\"pos_x\")\n",
    "        ax.plot(optimal_states[4:13:], label=\"pos_y\")\n",
    "        ax.plot(optimsal_states[5:13:], label=\"pos_z\")"
   ]
  },
  {
   "cell_type": "code",
   "execution_count": 10,
   "metadata": {
    "scrolled": true
   },
   "outputs": [
    {
     "ename": "TypeError",
     "evalue": "'Symbol' object cannot be interpreted as an integer",
     "output_type": "error",
     "traceback": [
      "\u001b[0;31m---------------------------------------------------------------------------\u001b[0m",
      "\u001b[0;31mTypeError\u001b[0m                                 Traceback (most recent call last)",
      "\u001b[0;32m<ipython-input-10-be6792dc30f7>\u001b[0m in \u001b[0;36m<module>\u001b[0;34m\u001b[0m\n\u001b[1;32m      9\u001b[0m \u001b[0mx_ref\u001b[0m \u001b[0;34m=\u001b[0m \u001b[0;34m[\u001b[0m\u001b[0;36m0\u001b[0m\u001b[0;34m,\u001b[0m \u001b[0;36m0\u001b[0m\u001b[0;34m,\u001b[0m \u001b[0;36m0\u001b[0m\u001b[0;34m,\u001b[0m \u001b[0;36m0.5\u001b[0m\u001b[0;34m,\u001b[0m \u001b[0;36m0.5\u001b[0m\u001b[0;34m,\u001b[0m \u001b[0;36m0.5\u001b[0m\u001b[0;34m,\u001b[0m \u001b[0;36m0\u001b[0m\u001b[0;34m,\u001b[0m \u001b[0;36m0\u001b[0m\u001b[0;34m,\u001b[0m \u001b[0;36m0\u001b[0m\u001b[0;34m,\u001b[0m \u001b[0;36m0\u001b[0m\u001b[0;34m,\u001b[0m \u001b[0;36m0\u001b[0m\u001b[0;34m,\u001b[0m \u001b[0;36m0\u001b[0m\u001b[0;34m,\u001b[0m \u001b[0;34m-\u001b[0m\u001b[0;36m9.81\u001b[0m\u001b[0;34m]\u001b[0m\u001b[0;34m\u001b[0m\u001b[0;34m\u001b[0m\u001b[0m\n\u001b[1;32m     10\u001b[0m \u001b[0;34m\u001b[0m\u001b[0m\n\u001b[0;32m---> 11\u001b[0;31m \u001b[0mU_t\u001b[0m \u001b[0;34m=\u001b[0m \u001b[0mnp\u001b[0m\u001b[0;34m.\u001b[0m\u001b[0mzeros\u001b[0m\u001b[0;34m(\u001b[0m\u001b[0;34m(\u001b[0m\u001b[0mm\u001b[0m\u001b[0;34m,\u001b[0m \u001b[0mN\u001b[0m\u001b[0;34m)\u001b[0m\u001b[0;34m)\u001b[0m\u001b[0;34m\u001b[0m\u001b[0;34m\u001b[0m\u001b[0m\n\u001b[0m\u001b[1;32m     12\u001b[0m \u001b[0mX_t\u001b[0m \u001b[0;34m=\u001b[0m \u001b[0mnp\u001b[0m\u001b[0;34m.\u001b[0m\u001b[0mtile\u001b[0m\u001b[0;34m(\u001b[0m\u001b[0mnp\u001b[0m\u001b[0;34m.\u001b[0m\u001b[0marray\u001b[0m\u001b[0;34m(\u001b[0m\u001b[0mx_t\u001b[0m\u001b[0;34m)\u001b[0m\u001b[0;34m.\u001b[0m\u001b[0mreshape\u001b[0m\u001b[0;34m(\u001b[0m\u001b[0mn\u001b[0m\u001b[0;34m,\u001b[0m \u001b[0;36m1\u001b[0m\u001b[0;34m)\u001b[0m\u001b[0;34m,\u001b[0m \u001b[0mN\u001b[0m\u001b[0;34m+\u001b[0m\u001b[0;36m1\u001b[0m\u001b[0;34m)\u001b[0m\u001b[0;34m.\u001b[0m\u001b[0mreshape\u001b[0m\u001b[0;34m(\u001b[0m\u001b[0mn\u001b[0m\u001b[0;34m,\u001b[0m \u001b[0mN\u001b[0m\u001b[0;34m+\u001b[0m\u001b[0;36m1\u001b[0m\u001b[0;34m)\u001b[0m\u001b[0;34m\u001b[0m\u001b[0;34m\u001b[0m\u001b[0m\n\u001b[1;32m     13\u001b[0m \u001b[0;34m\u001b[0m\u001b[0m\n",
      "\u001b[0;31mTypeError\u001b[0m: 'Symbol' object cannot be interpreted as an integer"
     ]
    }
   ],
   "source": [
    "solver.generate_dependencies('nlp.c')\n",
    "import os\n",
    "os.system(\"gcc -fPIC -shared -O3 nlp.c -o nlp.so\")\n",
    "\n",
    "opts[\"print_time\"] = 1\n",
    "solver = nlpsol(\"solver\", \"ipopt\", \"nlp.so\", opts)\n",
    "\n",
    "x_t = [0.3, 0.3, 0.3, 0, 0, 1, 0, 0, 0, 0, 0, 0, -9.81]\n",
    "x_ref = [0, 0, 0, 0.5, 0.5, 0.5, 0, 0, 0, 0, 0, 0, -9.81]\n",
    "\n",
    "U_t = np.zeros((m, N))\n",
    "X_t = np.tile(np.array(x_t).reshape(n, 1), N+1).reshape(n, N+1)\n",
    "\n",
    "x0_solver = vertcat(*[X_t.reshape((n * (N+1), 1)), U_t.reshape((m * N, 1))])\n",
    "\n",
    "sol = solver(x0=x0_solver, lbx=lbx, ubx=ubx, lbg=lbg, ubg=ubg, p=P_param)"
   ]
  },
  {
   "cell_type": "code",
   "execution_count": 9,
   "metadata": {},
   "outputs": [],
   "source": [
    "m = Symbol(\"m\") # Total mass of the Robot including Legs (combined into point mass)\n",
    "g_constant = Symbol(\"g\") # Gravity acceleration constant used in g-vector\n",
    "g = Matrix([0, 0, -g_constant])"
   ]
  },
  {
   "cell_type": "code",
   "execution_count": 4,
   "metadata": {
    "scrolled": true
   },
   "outputs": [
    {
     "data": {
      "text/latex": [
       "$\\displaystyle \\left[\\begin{matrix}Ixx & Ixy & Ixz\\\\Iyx & Iyy & Iyz\\\\Izx & Ixy & Izz\\end{matrix}\\right]$"
      ],
      "text/plain": [
       "Matrix([\n",
       "[Ixx, Ixy, Ixz],\n",
       "[Iyx, Iyy, Iyz],\n",
       "[Izx, Ixy, Izz]])"
      ]
     },
     "execution_count": 4,
     "metadata": {},
     "output_type": "execute_result"
    }
   ],
   "source": [
    "# Symbols for inertia tensor of the point mass\n",
    "\n",
    "Ixx, Ixy, Ixz = symbols(\"Ixx Ixy Ixz\")\n",
    "Iyx, Iyy, Iyz = symbols(\"Iyx Iyy Iyz\")\n",
    "Izx, Izy, Izz = symbols(\"Izx Izy Izz\")\n",
    "\n",
    "# Inertia Tensor of the Robot (as a point mass) in body frame coordinates.\n",
    "# This should include Torso and Legs in zero configuration\n",
    "\n",
    "I_body = Matrix([[Ixx, Ixy, Ixz],\n",
    "                [Iyx, Iyy, Iyz],\n",
    "                [Izx, Ixy, Izz]])\n",
    "\n",
    "I_body"
   ]
  },
  {
   "cell_type": "code",
   "execution_count": 5,
   "metadata": {
    "scrolled": true
   },
   "outputs": [
    {
     "data": {
      "text/latex": [
       "$\\displaystyle \\left[\\begin{matrix}f_{x l}\\\\f_{y l}\\\\f_{z l}\\end{matrix}\\right]$"
      ],
      "text/plain": [
       "Matrix([\n",
       "[f_x_l],\n",
       "[f_y_l],\n",
       "[f_z_l]])"
      ]
     },
     "execution_count": 5,
     "metadata": {},
     "output_type": "execute_result"
    }
   ],
   "source": [
    "f_x_l, f_y_l, f_z_l = symbols(\"f_x_l f_y_l f_z_l\") # Symbols for left reaction force vector\n",
    "\n",
    "f_l = Matrix([f_x_l, f_y_l, f_z_l])  # 3x1 Reaction force vector of the left leg\n",
    "\n",
    "f_l"
   ]
  },
  {
   "cell_type": "code",
   "execution_count": 6,
   "metadata": {},
   "outputs": [
    {
     "data": {
      "text/latex": [
       "$\\displaystyle \\left[\\begin{matrix}f_{x r}\\\\f_{y r}\\\\f_{z r}\\end{matrix}\\right]$"
      ],
      "text/plain": [
       "Matrix([\n",
       "[f_x_r],\n",
       "[f_y_r],\n",
       "[f_z_r]])"
      ]
     },
     "execution_count": 6,
     "metadata": {},
     "output_type": "execute_result"
    }
   ],
   "source": [
    "f_x_r, f_y_r, f_z_r = symbols(\"f_x_r f_y_r f_z_r\") # Symbols for right reaction force vector\n",
    "\n",
    "f_r = Matrix([f_x_r, f_y_r, f_z_r])  # 3x1 Reaction force vector of the right leg\n",
    "\n",
    "f_r"
   ]
  },
  {
   "cell_type": "code",
   "execution_count": 7,
   "metadata": {},
   "outputs": [],
   "source": [
    "# Explanation for Rigid Body Dynamics of a point mass:\n",
    "# https://phys.libretexts.org/Bookshelves/University_Physics/Book%3A_University_Physics_(OpenStax)/Map%3A_University_Physics_I_-_Mechanics%2C_Sound%2C_Oscillations%2C_and_Waves_(OpenStax)/10%3A_Fixed-Axis_Rotation__Introduction/10.08%3A_Newton%E2%80%99s_Second_Law_for_Rotation"
   ]
  },
  {
   "cell_type": "code",
   "execution_count": 8,
   "metadata": {},
   "outputs": [
    {
     "data": {
      "text/latex": [
       "$\\displaystyle \\left[\\begin{matrix}\\omega_{x}\\\\\\omega_{y}\\\\\\omega_{z}\\end{matrix}\\right]$"
      ],
      "text/plain": [
       "Matrix([\n",
       "[omega_x],\n",
       "[omega_y],\n",
       "[omega_z]])"
      ]
     },
     "execution_count": 8,
     "metadata": {},
     "output_type": "execute_result"
    }
   ],
   "source": [
    "phi, theta, psi = symbols(\"phi theta psi\") # Euler angles of the point mass used for orientation\n",
    "phi_dot, theta_dot, psi_dot = symbols(\"phidot thetadot psidot\") # Derivatives of Euler angles of the point mass\n",
    "\n",
    "omega_x, omega_y, omega_z = symbols(\"omega_x omega_y omega_z\") # Angular velocity of point mass in X-Y-Z\n",
    "\n",
    "omega = Matrix([omega_x, omega_y, omega_z]) # 3x1 vector describing angular velocity of the point mass\n",
    "\n",
    "omega"
   ]
  },
  {
   "cell_type": "code",
   "execution_count": 9,
   "metadata": {},
   "outputs": [
    {
     "data": {
      "text/html": [
       "<img src=\"https://cdn.discordapp.com/attachments/680811067848655093/689769467890368541/unknown.png\"/>"
      ],
      "text/plain": [
       "<IPython.core.display.Image object>"
      ]
     },
     "execution_count": 9,
     "metadata": {},
     "output_type": "execute_result"
    }
   ],
   "source": [
    "# Converting 3x1 vector to 3x3 skew symmetric matrix based on: \n",
    "# https://math.stackexchange.com/questions/2248413/skew-symmetric-matrix-of-vector\n",
    "# See also: https://en.wikipedia.org/wiki/Skew-symmetric_matrix\n",
    "Image(url=\"https://cdn.discordapp.com/attachments/680811067848655093/689769467890368541/unknown.png\")"
   ]
  },
  {
   "cell_type": "code",
   "execution_count": 10,
   "metadata": {
    "scrolled": true
   },
   "outputs": [
    {
     "data": {
      "text/latex": [
       "$\\displaystyle \\left[\\begin{matrix}0 & - \\omega_{z} & \\omega_{y}\\\\\\omega_{z} & 0 & - \\omega_{x}\\\\- \\omega_{y} & \\omega_{x} & 0\\end{matrix}\\right]$"
      ],
      "text/plain": [
       "Matrix([\n",
       "[       0, -omega_z,  omega_y],\n",
       "[ omega_z,        0, -omega_x],\n",
       "[-omega_y,  omega_x,        0]])"
      ]
     },
     "execution_count": 10,
     "metadata": {},
     "output_type": "execute_result"
    }
   ],
   "source": [
    "omega_skew_symmetric = Matrix([[0, -omega.row(2)[0], omega.row(1)[0]],\n",
    "                               [omega.row(2)[0], 0, -omega.row(0)[0]],\n",
    "                               [-omega.row(1)[0], omega.row(0)[0], 0]])\n",
    "omega_skew_symmetric"
   ]
  },
  {
   "cell_type": "code",
   "execution_count": 11,
   "metadata": {},
   "outputs": [
    {
     "data": {
      "text/latex": [
       "$\\displaystyle \\left[\\begin{matrix}r_{x l}\\\\r_{y l}\\\\r_{z l}\\end{matrix}\\right]$"
      ],
      "text/plain": [
       "Matrix([\n",
       "[r_x_l],\n",
       "[r_y_l],\n",
       "[r_z_l]])"
      ]
     },
     "execution_count": 11,
     "metadata": {},
     "output_type": "execute_result"
    }
   ],
   "source": [
    "r_x_l, r_y_l, r_z_l = symbols(\"r_x_l r_y_l r_z_l\")\n",
    "r_l = Matrix([r_x_l, r_y_l, r_z_l]) # Location of left foot ground reaction force\n",
    "\n",
    "r_l"
   ]
  },
  {
   "cell_type": "code",
   "execution_count": 12,
   "metadata": {},
   "outputs": [
    {
     "data": {
      "text/latex": [
       "$\\displaystyle \\left[\\begin{matrix}0 & - r_{z l} & r_{y l}\\\\r_{z l} & 0 & - r_{x l}\\\\- r_{y l} & r_{x l} & 0\\end{matrix}\\right]$"
      ],
      "text/plain": [
       "Matrix([\n",
       "[     0, -r_z_l,  r_y_l],\n",
       "[ r_z_l,      0, -r_x_l],\n",
       "[-r_y_l,  r_x_l,      0]])"
      ]
     },
     "execution_count": 12,
     "metadata": {},
     "output_type": "execute_result"
    }
   ],
   "source": [
    "r_l_skew_symmetric = Matrix([[0, -r_l.row(2)[0], r_l.row(1)[0]],\n",
    "                             [r_l.row(2)[0], 0, -r_l.row(0)[0]],\n",
    "                             [-r_l.row(1)[0], r_l.row(0)[0], 0]])\n",
    "r_l_skew_symmetric"
   ]
  },
  {
   "cell_type": "code",
   "execution_count": 13,
   "metadata": {
    "scrolled": false
   },
   "outputs": [
    {
     "data": {
      "text/latex": [
       "$\\displaystyle \\left[\\begin{matrix}r_{x r}\\\\r_{y r}\\\\r_{z r}\\end{matrix}\\right]$"
      ],
      "text/plain": [
       "Matrix([\n",
       "[r_x_r],\n",
       "[r_y_r],\n",
       "[r_z_r]])"
      ]
     },
     "execution_count": 13,
     "metadata": {},
     "output_type": "execute_result"
    }
   ],
   "source": [
    "r_x_r, r_y_r, r_z_r = symbols(\"r_x_r r_y_r r_z_r\")\n",
    "r_r = Matrix([r_x_r, r_y_r, r_z_r]) # Location of right foot ground reaction force\n",
    "\n",
    "r_r"
   ]
  },
  {
   "cell_type": "code",
   "execution_count": 14,
   "metadata": {},
   "outputs": [
    {
     "data": {
      "text/latex": [
       "$\\displaystyle \\left[\\begin{matrix}0 & - r_{z r} & r_{y r}\\\\r_{z r} & 0 & - r_{x r}\\\\- r_{y r} & r_{x r} & 0\\end{matrix}\\right]$"
      ],
      "text/plain": [
       "Matrix([\n",
       "[     0, -r_z_r,  r_y_r],\n",
       "[ r_z_r,      0, -r_x_r],\n",
       "[-r_y_r,  r_x_r,      0]])"
      ]
     },
     "execution_count": 14,
     "metadata": {},
     "output_type": "execute_result"
    }
   ],
   "source": [
    "r_r_skew_symmetric = Matrix([[0, -r_r.row(2)[0], r_r.row(1)[0]],\n",
    "                             [r_r.row(2)[0], 0, -r_r.row(0)[0]],\n",
    "                             [-r_r.row(1)[0], r_r.row(0)[0], 0]])\n",
    "r_r_skew_symmetric"
   ]
  },
  {
   "cell_type": "code",
   "execution_count": 21,
   "metadata": {
    "scrolled": false
   },
   "outputs": [
    {
     "data": {
      "text/latex": [
       "$\\displaystyle \\left[\\begin{matrix}\\cos{\\left(\\psi \\right)} & \\sin{\\left(\\psi \\right)} & 0\\\\- \\sin{\\left(\\psi \\right)} & \\cos{\\left(\\psi \\right)} & 0\\\\0 & 0 & 1\\end{matrix}\\right]$"
      ],
      "text/plain": [
       "Matrix([\n",
       "[ cos(psi), sin(psi), 0],\n",
       "[-sin(psi), cos(psi), 0],\n",
       "[        0,        0, 1]])"
      ]
     },
     "execution_count": 21,
     "metadata": {},
     "output_type": "execute_result"
    }
   ],
   "source": [
    "R_z = Matrix([[cos(psi), -sin(psi), 0],\n",
    "              [sin(psi), cos(psi), 0],\n",
    "              [0, 0, 1]])\n",
    "\n",
    "R_y = Matrix([[cos(theta), 0, sin(theta)],\n",
    "              [0, 1, 0],\n",
    "              [-sin(theta), 0, cos(theta)]])\n",
    "\n",
    "R_x = Matrix([[1, 0, 0],\n",
    "              [0, cos(phi), -sin(phi)],\n",
    "              [0, sin(phi), cos(phi)]])\n",
    "\n",
    "R = R_z * R_y * R_x # Rotation matrix from Body frame to World frame based on Z-Y-X Rotation order\n",
    "\n",
    "R = R.inv() # Invert matrix as the angular velocity of the point mass is omega_world = R * omega_body (\"omega\" in the notebook)\n",
    "R = simplify(R.subs({phi:0, theta:0})) # Omit roll and pitch of the point mass because they should be very small.\n",
    "\n",
    "R # will be identical to R_z"
   ]
  },
  {
   "cell_type": "code",
   "execution_count": 22,
   "metadata": {},
   "outputs": [
    {
     "data": {
      "text/latex": [
       "$\\displaystyle \\left[\\begin{matrix}\\left(Ixx \\cos{\\left(\\psi \\right)} + Iyx \\sin{\\left(\\psi \\right)}\\right) \\cos{\\left(\\psi \\right)} + \\left(Ixy \\cos{\\left(\\psi \\right)} + Iyy \\sin{\\left(\\psi \\right)}\\right) \\sin{\\left(\\psi \\right)} & - \\left(Ixx \\cos{\\left(\\psi \\right)} + Iyx \\sin{\\left(\\psi \\right)}\\right) \\sin{\\left(\\psi \\right)} + \\left(Ixy \\cos{\\left(\\psi \\right)} + Iyy \\sin{\\left(\\psi \\right)}\\right) \\cos{\\left(\\psi \\right)} & Ixz \\cos{\\left(\\psi \\right)} + Iyz \\sin{\\left(\\psi \\right)}\\\\\\left(- Ixx \\sin{\\left(\\psi \\right)} + Iyx \\cos{\\left(\\psi \\right)}\\right) \\cos{\\left(\\psi \\right)} + \\left(- Ixy \\sin{\\left(\\psi \\right)} + Iyy \\cos{\\left(\\psi \\right)}\\right) \\sin{\\left(\\psi \\right)} & - \\left(- Ixx \\sin{\\left(\\psi \\right)} + Iyx \\cos{\\left(\\psi \\right)}\\right) \\sin{\\left(\\psi \\right)} + \\left(- Ixy \\sin{\\left(\\psi \\right)} + Iyy \\cos{\\left(\\psi \\right)}\\right) \\cos{\\left(\\psi \\right)} & - Ixz \\sin{\\left(\\psi \\right)} + Iyz \\cos{\\left(\\psi \\right)}\\\\Ixy \\sin{\\left(\\psi \\right)} + Izx \\cos{\\left(\\psi \\right)} & Ixy \\cos{\\left(\\psi \\right)} - Izx \\sin{\\left(\\psi \\right)} & Izz\\end{matrix}\\right]$"
      ],
      "text/plain": [
       "Matrix([\n",
       "[  (Ixx*cos(psi) + Iyx*sin(psi))*cos(psi) + (Ixy*cos(psi) + Iyy*sin(psi))*sin(psi),   -(Ixx*cos(psi) + Iyx*sin(psi))*sin(psi) + (Ixy*cos(psi) + Iyy*sin(psi))*cos(psi),  Ixz*cos(psi) + Iyz*sin(psi)],\n",
       "[(-Ixx*sin(psi) + Iyx*cos(psi))*cos(psi) + (-Ixy*sin(psi) + Iyy*cos(psi))*sin(psi), -(-Ixx*sin(psi) + Iyx*cos(psi))*sin(psi) + (-Ixy*sin(psi) + Iyy*cos(psi))*cos(psi), -Ixz*sin(psi) + Iyz*cos(psi)],\n",
       "[                                                      Ixy*sin(psi) + Izx*cos(psi),                                                        Ixy*cos(psi) - Izx*sin(psi),                          Izz]])"
      ]
     },
     "execution_count": 22,
     "metadata": {},
     "output_type": "execute_result"
    }
   ],
   "source": [
    "I_world = R * I_body * R.T # Transform / Rotate body inertia tensor into the world coordinate frame\n",
    "\n",
    "I_world"
   ]
  },
  {
   "cell_type": "code",
   "execution_count": 23,
   "metadata": {},
   "outputs": [
    {
     "data": {
      "text/plain": [
       "'Matrix([[(Ixx*cos(psi) + Iyx*sin(psi))*cos(psi) + (Ixy*cos(psi) + Iyy*sin(psi))*sin(psi), -(Ixx*cos(psi) + Iyx*sin(psi))*sin(psi) + (Ixy*cos(psi) + Iyy*sin(psi))*cos(psi), Ixz*cos(psi) + Iyz*sin(psi)], [(-Ixx*sin(psi) + Iyx*cos(psi))*cos(psi) + (-Ixy*sin(psi) + Iyy*cos(psi))*sin(psi), -(-Ixx*sin(psi) + Iyx*cos(psi))*sin(psi) + (-Ixy*sin(psi) + Iyy*cos(psi))*cos(psi), -Ixz*sin(psi) + Iyz*cos(psi)], [Ixy*sin(psi) + Izx*cos(psi), Ixy*cos(psi) - Izx*sin(psi), Izz]])'"
      ]
     },
     "execution_count": 23,
     "metadata": {},
     "output_type": "execute_result"
    }
   ],
   "source": [
    "str(I_world)"
   ]
  }
 ],
 "metadata": {
  "kernelspec": {
   "display_name": "Python 3",
   "language": "python",
   "name": "python3"
  },
  "language_info": {
   "codemirror_mode": {
    "name": "ipython",
    "version": 3
   },
   "file_extension": ".py",
   "mimetype": "text/x-python",
   "name": "python",
   "nbconvert_exporter": "python",
   "pygments_lexer": "ipython3",
   "version": "3.6.9"
  }
 },
 "nbformat": 4,
 "nbformat_minor": 2
}
