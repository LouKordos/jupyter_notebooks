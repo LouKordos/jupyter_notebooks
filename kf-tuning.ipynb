{
 "cells": [
  {
   "cell_type": "code",
   "execution_count": 1,
   "metadata": {},
   "outputs": [
    {
     "name": "stderr",
     "output_type": "stream",
     "text": [
      "playsound is relying on another python subprocess. Please use `pip install pygobject` if you want playsound to run more efficiently.\n"
     ]
    }
   ],
   "source": [
    "import numpy as np\n",
    "import numpy.matlib\n",
    "import matplotlib.pyplot as plt\n",
    "from sympy import *\n",
    "from sympy.physics.mechanics import dynamicsymbols, init_vprinting, msubs\n",
    "from IPython.display import Image\n",
    "from IPython.core.display import HTML\n",
    "import scipy.integrate\n",
    "import math\n",
    "import pandas as pd\n",
    "from numpy.linalg import matrix_power\n",
    "from scipy.linalg import expm\n",
    "import os\n",
    "import time\n",
    "from itertools import count, takewhile\n",
    "from more_itertools import numeric_range\n",
    "from playsound import playsound\n",
    "from tqdm import tqdm\n",
    "\n",
    "%matplotlib inline"
   ]
  },
  {
   "cell_type": "code",
   "execution_count": 2,
   "metadata": {},
   "outputs": [],
   "source": [
    "I_body = np.array([[0.45, 0., 0.],\n",
    "                        [0., 0.64, 0.],\n",
    "                        [0., 0., 0.584]]) # Inertia in the body frame (CoM of torso).\n",
    "    \n",
    "torso_mass = 30\n",
    "dt = 1/50\n",
    "n = 13\n",
    "num_observed_states = 9\n",
    "\n",
    "low_sigma = 0.001\n",
    "high_sigma = 0.01\n",
    "num_samples = 10000\n",
    "\n",
    "# Q diagonal terms are sigma^2\n",
    "Q = np.diag([0.0802302108692834**2, 0.01305666461938923**2, 0.01107077119525087**2, 0.0009011313906460847**2, 0.00023698396170725926**2, 0.00044577065046749395**2, 8.017754980742252**2, 1.2604137854858983**2, 0.9853310110200274**2, 0.012333371098149101**2, 0.015200679893270697**2, 0.028277163175850512**2])\n",
    "\n",
    "R = np.diag([low_sigma**2, low_sigma**2, low_sigma**2, low_sigma**2, low_sigma**2, low_sigma**2, high_sigma**2, high_sigma**2, high_sigma**2])\n",
    "\n",
    "Ixx = I_body[0, 0]\n",
    "Ixy = I_body[0, 1]\n",
    "Ixz = I_body[0, 2]\n",
    "\n",
    "Iyx = I_body[1, 0]\n",
    "Iyy = I_body[1, 1]\n",
    "Iyz = I_body[1, 2]\n",
    "\n",
    "Izx = I_body[2, 0]\n",
    "Izy = I_body[2, 1]\n",
    "Izz = I_body[2, 2]"
   ]
  },
  {
   "cell_type": "code",
   "execution_count": 3,
   "metadata": {},
   "outputs": [
    {
     "data": {
      "text/plain": [
       "1.11267"
      ]
     },
     "execution_count": 3,
     "metadata": {},
     "output_type": "execute_result"
    }
   ],
   "source": [
    "filenames = os.listdir(\"./data/sim-runs/\")\n",
    "\n",
    "state_sequences = []\n",
    "control_sequences = []\n",
    "r_left_sequences = []\n",
    "r_right_sequences = []\n",
    "\n",
    "for name in filenames:\n",
    "    try:\n",
    "        state_sequences.append(pd.read_csv(\"./data/sim-runs/\" + name).iloc[:, range(2, 2+12)].values)\n",
    "        control_sequences.append(pd.read_csv(\"./data/sim-runs/\" + name).iloc[:, range(26, 26+6)].values)\n",
    "        r_left_sequences.append(pd.read_csv(\"./data/sim-runs/\" + name).iloc[:, range(32, 32+3)].values)\n",
    "        r_right_sequences.append(pd.read_csv(\"./data/sim-runs/\" + name).iloc[:, range(35, 35+3)].values)\n",
    "    except:\n",
    "        print(\"Invalid parse with filename:\", name)\n",
    "\n",
    "state_sequences[0][2,5]"
   ]
  },
  {
   "cell_type": "code",
   "execution_count": 4,
   "metadata": {},
   "outputs": [],
   "source": [
    "def discretize_ss(x_t, u_t, r_x_left, r_x_right, r_y_left, r_y_right, r_z_left, r_z_right, dt):\n",
    "    phi = x_t[0]\n",
    "    theta = x_t[1]\n",
    "    psi = x_t[2]\n",
    "\n",
    "    I_world = np.array([[(math.sin(phi)*math.sin(psi) + math.sin(theta)*math.cos(phi)*math.cos(psi))*(Ixz*math.cos(psi)*math.cos(theta) + Iyz*(math.sin(phi)*math.sin(theta)*math.cos(psi) - math.sin(psi)*math.cos(phi)) + Izz*(math.sin(phi)*math.sin(psi) + math.sin(theta)*math.cos(phi)*math.cos(psi))) + (math.sin(phi)*math.sin(theta)*math.cos(psi) - math.sin(psi)*math.cos(phi))*(Ixy*(math.sin(phi)*math.sin(psi) + math.sin(theta)*math.cos(phi)*math.cos(psi)) + Ixy*math.cos(psi)*math.cos(theta) + Iyy*(math.sin(phi)*math.sin(theta)*math.cos(psi) - math.sin(psi)*math.cos(phi))) + (Ixx*math.cos(psi)*math.cos(theta) + Iyx*(math.sin(phi)*math.sin(theta)*math.cos(psi) - math.sin(psi)*math.cos(phi)) + Izx*(math.sin(phi)*math.sin(psi) + math.sin(theta)*math.cos(phi)*math.cos(psi)))*math.cos(psi)*math.cos(theta), (-math.sin(phi)*math.cos(psi) + math.sin(psi)*math.sin(theta)*math.cos(phi))*(Ixz*math.cos(psi)*math.cos(theta) + Iyz*(math.sin(phi)*math.sin(theta)*math.cos(psi) - math.sin(psi)*math.cos(phi)) + Izz*(math.sin(phi)*math.sin(psi) + math.sin(theta)*math.cos(phi)*math.cos(psi))) + (math.sin(phi)*math.sin(psi)*math.sin(theta) + math.cos(phi)*math.cos(psi))*(Ixy*(math.sin(phi)*math.sin(psi) + math.sin(theta)*math.cos(phi)*math.cos(psi)) + Ixy*math.cos(psi)*math.cos(theta) + Iyy*(math.sin(phi)*math.sin(theta)*math.cos(psi) - math.sin(psi)*math.cos(phi))) + (Ixx*math.cos(psi)*math.cos(theta) + Iyx*(math.sin(phi)*math.sin(theta)*math.cos(psi) - math.sin(psi)*math.cos(phi)) + Izx*(math.sin(phi)*math.sin(psi) + math.sin(theta)*math.cos(phi)*math.cos(psi)))*math.sin(psi)*math.cos(theta), (Ixy*(math.sin(phi)*math.sin(psi) + math.sin(theta)*math.cos(phi)*math.cos(psi)) + Ixy*math.cos(psi)*math.cos(theta) + Iyy*(math.sin(phi)*math.sin(theta)*math.cos(psi) - math.sin(psi)*math.cos(phi)))*math.sin(phi)*math.cos(theta) - (Ixx*math.cos(psi)*math.cos(theta) + Iyx*(math.sin(phi)*math.sin(theta)*math.cos(psi) - math.sin(psi)*math.cos(phi)) + Izx*(math.sin(phi)*math.sin(psi) + math.sin(theta)*math.cos(phi)*math.cos(psi)))*math.sin(theta) + (Ixz*math.cos(psi)*math.cos(theta) + Iyz*(math.sin(phi)*math.sin(theta)*math.cos(psi) - math.sin(psi)*math.cos(phi)) + Izz*(math.sin(phi)*math.sin(psi) + math.sin(theta)*math.cos(phi)*math.cos(psi)))*math.cos(phi)*math.cos(theta)], [(math.sin(phi)*math.sin(psi) + math.sin(theta)*math.cos(phi)*math.cos(psi))*(Ixz*math.sin(psi)*math.cos(theta) + Iyz*(math.sin(phi)*math.sin(psi)*math.sin(theta) + math.cos(phi)*math.cos(psi)) + Izz*(-math.sin(phi)*math.cos(psi) + math.sin(psi)*math.sin(theta)*math.cos(phi))) + (math.sin(phi)*math.sin(theta)*math.cos(psi) - math.sin(psi)*math.cos(phi))*(Ixy*(-math.sin(phi)*math.cos(psi) + math.sin(psi)*math.sin(theta)*math.cos(phi)) + Ixy*math.sin(psi)*math.cos(theta) + Iyy*(math.sin(phi)*math.sin(psi)*math.sin(theta) + math.cos(phi)*math.cos(psi))) + (Ixx*math.sin(psi)*math.cos(theta) + Iyx*(math.sin(phi)*math.sin(psi)*math.sin(theta) + math.cos(phi)*math.cos(psi)) + Izx*(-math.sin(phi)*math.cos(psi) + math.sin(psi)*math.sin(theta)*math.cos(phi)))*math.cos(psi)*math.cos(theta), (-math.sin(phi)*math.cos(psi) + math.sin(psi)*math.sin(theta)*math.cos(phi))*(Ixz*math.sin(psi)*math.cos(theta) + Iyz*(math.sin(phi)*math.sin(psi)*math.sin(theta) + math.cos(phi)*math.cos(psi)) + Izz*(-math.sin(phi)*math.cos(psi) + math.sin(psi)*math.sin(theta)*math.cos(phi))) + (math.sin(phi)*math.sin(psi)*math.sin(theta) + math.cos(phi)*math.cos(psi))*(Ixy*(-math.sin(phi)*math.cos(psi) + math.sin(psi)*math.sin(theta)*math.cos(phi)) + Ixy*math.sin(psi)*math.cos(theta) + Iyy*(math.sin(phi)*math.sin(psi)*math.sin(theta) + math.cos(phi)*math.cos(psi))) + (Ixx*math.sin(psi)*math.cos(theta) + Iyx*(math.sin(phi)*math.sin(psi)*math.sin(theta) + math.cos(phi)*math.cos(psi)) + Izx*(-math.sin(phi)*math.cos(psi) + math.sin(psi)*math.sin(theta)*math.cos(phi)))*math.sin(psi)*math.cos(theta), (Ixy*(-math.sin(phi)*math.cos(psi) + math.sin(psi)*math.sin(theta)*math.cos(phi)) + Ixy*math.sin(psi)*math.cos(theta) + Iyy*(math.sin(phi)*math.sin(psi)*math.sin(theta) + math.cos(phi)*math.cos(psi)))*math.sin(phi)*math.cos(theta) - (Ixx*math.sin(psi)*math.cos(theta) + Iyx*(math.sin(phi)*math.sin(psi)*math.sin(theta) + math.cos(phi)*math.cos(psi)) + Izx*(-math.sin(phi)*math.cos(psi) + math.sin(psi)*math.sin(theta)*math.cos(phi)))*math.sin(theta) + (Ixz*math.sin(psi)*math.cos(theta) + Iyz*(math.sin(phi)*math.sin(psi)*math.sin(theta) + math.cos(phi)*math.cos(psi)) + Izz*(-math.sin(phi)*math.cos(psi) + math.sin(psi)*math.sin(theta)*math.cos(phi)))*math.cos(phi)*math.cos(theta)], [(math.sin(phi)*math.sin(psi) + math.sin(theta)*math.cos(phi)*math.cos(psi))*(-Ixz*math.sin(theta) + Iyz*math.sin(phi)*math.cos(theta) + Izz*math.cos(phi)*math.cos(theta)) + (math.sin(phi)*math.sin(theta)*math.cos(psi) - math.sin(psi)*math.cos(phi))*(-Ixy*math.sin(theta) + Ixy*math.cos(phi)*math.cos(theta) + Iyy*math.sin(phi)*math.cos(theta)) + (-Ixx*math.sin(theta) + Iyx*math.sin(phi)*math.cos(theta) + Izx*math.cos(phi)*math.cos(theta))*math.cos(psi)*math.cos(theta), (-math.sin(phi)*math.cos(psi) + math.sin(psi)*math.sin(theta)*math.cos(phi))*(-Ixz*math.sin(theta) + Iyz*math.sin(phi)*math.cos(theta) + Izz*math.cos(phi)*math.cos(theta)) + (math.sin(phi)*math.sin(psi)*math.sin(theta) + math.cos(phi)*math.cos(psi))*(-Ixy*math.sin(theta) + Ixy*math.cos(phi)*math.cos(theta) + Iyy*math.sin(phi)*math.cos(theta)) + (-Ixx*math.sin(theta) + Iyx*math.sin(phi)*math.cos(theta) + Izx*math.cos(phi)*math.cos(theta))*math.sin(psi)*math.cos(theta), -(-Ixx*math.sin(theta) + Iyx*math.sin(phi)*math.cos(theta) + Izx*math.cos(phi)*math.cos(theta))*math.sin(theta) + (-Ixy*math.sin(theta) + Ixy*math.cos(phi)*math.cos(theta) + Iyy*math.sin(phi)*math.cos(theta))*math.sin(phi)*math.cos(theta) + (-Ixz*math.sin(theta) + Iyz*math.sin(phi)*math.cos(theta) + Izz*math.cos(phi)*math.cos(theta))*math.cos(phi)*math.cos(theta)]])\n",
    "    \n",
    "    r_left_skew_symmetric = np.array([[0, -r_z_left, r_y_left],\n",
    "                                      [r_z_left, 0, -r_x_left],\n",
    "                                      [-r_y_left, r_x_left, 0]])\n",
    "    \n",
    "    r_right_skew_symmetric = np.array([[0, -r_z_right, r_y_right],\n",
    "                                       [r_z_right, 0, -r_x_right],\n",
    "                                       [-r_y_right, r_x_right, 0]])\n",
    "    \n",
    "    A_c = np.array([[0, 0, 0, 0, 0, 0, math.cos(psi) / math.cos(theta), math.sin(psi) / math.cos(theta), 0, 0, 0, 0, 0],\n",
    "                    [0, 0, 0, 0, 0, 0, -math.sin(psi), math.cos(psi), 0, 0, 0, 0, 0],\n",
    "                    [0, 0, 0, 0, 0, 0, math.cos(psi) * math.tan(theta), math.sin(psi) * math.tan(theta), 1, 0, 0, 0, 0],\n",
    "\n",
    "                    [0, 0, 0, 0, 0, 0, 0, 0, 0, 1, 0, 0, 0],\n",
    "                    [0, 0, 0, 0, 0, 0, 0, 0, 0, 0, 1, 0, 0],\n",
    "                    [0, 0, 0, 0, 0, 0, 0, 0, 0, 0, 0, 1, 0],\n",
    "\n",
    "                    [0, 0, 0, 0, 0, 0, 0, 0, 0, 0, 0, 0, 0],\n",
    "                    [0, 0, 0, 0, 0, 0, 0, 0, 0, 0, 0, 0, 0],\n",
    "                    [0, 0, 0, 0, 0, 0, 0, 0, 0, 0, 0, 0, 0],\n",
    "\n",
    "                    [0, 0, 0, 0, 0, 0, 0, 0, 0, 0, 0, 0, 0],\n",
    "                    [0, 0, 0, 0, 0, 0, 0, 0, 0, 0, 0, 0, 0],\n",
    "                    [0, 0, 0, 0, 0, 0, 0, 0, 0, 0, 0, 0, 1],\n",
    "\n",
    "                    [0, 0, 0, 0, 0, 0, 0, 0, 0, 0, 0, 0, 0]])\n",
    "    \n",
    "    B_c = np.block([[0, 0, 0, 0, 0, 0],\n",
    "                    [0, 0, 0, 0, 0, 0],\n",
    "                    [0, 0, 0, 0, 0, 0],\n",
    "                    [0, 0, 0, 0, 0, 0],\n",
    "                    [0, 0, 0, 0, 0, 0],\n",
    "                    [0, 0, 0, 0, 0, 0],\n",
    "                    [np.linalg.inv(I_world) @ r_left_skew_symmetric, np.linalg.inv(I_world) @ r_right_skew_symmetric],\n",
    "                    [1/torso_mass, 0, 0, 1/torso_mass, 0, 0],\n",
    "                    [0, 1/torso_mass, 0, 0, 1/torso_mass, 0],\n",
    "                    [0, 0, 1/torso_mass, 0, 0, 1/torso_mass],\n",
    "                    [0, 0, 0, 0, 0, 0]])\n",
    "    \n",
    "    A_B = np.block([[A_c, B_c],\n",
    "                [np.zeros((B_c.shape[1], A_c.shape[0])), np.zeros((B_c.shape[1], B_c.shape[1]))]])\n",
    "\n",
    "    eAt_d = scipy.linalg.expm(A_B * dt)\n",
    "\n",
    "    A_d_temp = eAt_d[:A_c.shape[0], :A_c.shape[0]]\n",
    "\n",
    "    B_d_temp = eAt_d[:B_c.shape[0], A_c.shape[0]:]\n",
    "\n",
    "    return (A_d_temp, B_d_temp)"
   ]
  },
  {
   "cell_type": "code",
   "execution_count": 5,
   "metadata": {},
   "outputs": [],
   "source": [
    "def step_discrete_model(x_t, u_t, r_x_left, r_x_right, r_y_left, r_y_right, r_z_left, r_z_right):\n",
    "    \n",
    "    A_d, B_d = discretize_ss(x_t, u_t, r_x_left, r_x_right, r_y_left, r_y_right, r_z_left, r_z_right, dt)\n",
    "\n",
    "    return A_d @ np.array(x_t) + B_d @ u_t"
   ]
  },
  {
   "cell_type": "code",
   "execution_count": 6,
   "metadata": {},
   "outputs": [],
   "source": [
    "noise_vector = []\n",
    "\n",
    "for i in range(9):\n",
    "    if i < 6:\n",
    "        noise_vector.append(np.random.normal(0, low_sigma, num_samples))\n",
    "    else:\n",
    "        noise_vector.append(np.random.normal(0, high_sigma, num_samples))\n",
    "\n",
    "noise_vector_fixed = [0] * num_samples\n",
    "\n",
    "for i in range(num_samples):\n",
    "    noise_vector_fixed[i] = [noise_vector[temp][i] for temp in range(num_observed_states)]\n",
    "\n",
    "noise_vector = noise_vector_fixed"
   ]
  },
  {
   "cell_type": "code",
   "execution_count": 7,
   "metadata": {},
   "outputs": [],
   "source": [
    "def simulate_kf(state_sequence, control_sequence, r_left_sequence, r_right_sequence):\n",
    "\n",
    "    error = []\n",
    "    error_predicted = []\n",
    "\n",
    "    x_predicted = np.array(state_sequence[0])\n",
    "    x_kf = np.array(state_sequence[0])\n",
    "\n",
    "    P = np.identity(n-1)\n",
    "\n",
    "    C = np.array([[1, 0, 0, 0, 0, 0, 0, 0, 0, 0, 0, 0],\n",
    "                  [0, 1, 0, 0, 0, 0, 0, 0, 0, 0, 0, 0],\n",
    "                  [0, 0, 1, 0, 0, 0, 0, 0, 0, 0, 0, 0],\n",
    "                  [0, 0, 0, 1, 0, 0, 0, 0, 0, 0, 0, 0],\n",
    "                  [0, 0, 0, 0, 1, 0, 0, 0, 0, 0, 0, 0],\n",
    "                  [0, 0, 0, 0, 0, 1, 0, 0, 0, 0, 0, 0],\n",
    "                  [0, 0, 0, 0, 0, 0, 1, 0, 0, 0, 0, 0],\n",
    "                  [0, 0, 0, 0, 0, 0, 0, 1, 0, 0, 0, 0],\n",
    "                  [0, 0, 0, 0, 0, 0, 0, 0, 1, 0, 0, 0]])\n",
    "\n",
    "    # Iterate over all recorded states\n",
    "    for i in tqdm(range(len(state_sequence))):\n",
    "        x_t = np.array(state_sequence[i])\n",
    "        u_t_prev = np.array(control_sequence[i]) if i == 0 else np.array(control_sequence[i-1])\n",
    "        r_left = np.array(r_left_sequence[i])\n",
    "        r_right = np.array(r_right_sequence[i])\n",
    "        \n",
    "        # Prediction step:\n",
    "        x_predicted = step_discrete_model(np.append(x_kf, [-9.81]), u_t_prev, r_left[0], r_left[1], r_left[2], r_right[0], r_right[1], r_right[0])[0:n-1]\n",
    "        x_predicted_cheating = step_discrete_model(np.append(x_t, [-9.81]), u_t_prev, r_left[0], r_left[1], r_left[2], r_right[0], r_right[1], r_right[0])[0:n-1]\n",
    "\n",
    "        \n",
    "        # Update Process Covariance Matrix\n",
    "        A_d, B_d = discretize_ss(np.append(x_kf, [-9.81]), u_t_prev, r_left[0], r_left[1], r_left[2], r_right[0], r_right[1], r_right[0], dt)\n",
    "        P = A_d[0:n-1, 0:n-1] @ P @ A_d[0:n-1, 0:n-1].T + Q\n",
    "\n",
    "        Y = C @ x_t + np.array(noise_vector[i])\n",
    "\n",
    "        K = (P @ C.T) @ np.linalg.inv(C @ P @ C.T + R)\n",
    "\n",
    "        x_kf = x_predicted + K @ (Y - C @ x_predicted)\n",
    "\n",
    "        P = (np.identity(n-1) - K @ C) @ P\n",
    "        \n",
    "        error.append((state_sequence[i+1] if i < len(state_sequence) - 1 else state_sequence[i]) - x_kf)\n",
    "        error_predicted.append((state_sequence[i+1] if i < len(state_sequence) - 1 else state_sequence[i]) - x_predicted_cheating)\n",
    "\n",
    "    return error, error_predicted"
   ]
  },
  {
   "cell_type": "code",
   "execution_count": 8,
   "metadata": {},
   "outputs": [
    {
     "name": "stderr",
     "output_type": "stream",
     "text": [
      "100%|██████████| 2688/2688 [00:54<00:00, 49.58it/s]\n",
      "100%|██████████| 768/768 [00:14<00:00, 54.76it/s]\n",
      "100%|██████████| 1724/1724 [00:23<00:00, 72.29it/s]\n"
     ]
    }
   ],
   "source": [
    "error_results = []\n",
    "error_predicted_results = []\n",
    "\n",
    "for sequence_index in range(len(state_sequences)):\n",
    "    error, error_predicted = simulate_kf(state_sequences[sequence_index], control_sequences[sequence_index], r_left_sequences[sequence_index], r_right_sequences[sequence_index])\n",
    "    error_results.append(error)\n",
    "    error_predicted_results.append(error_predicted)"
   ]
  },
  {
   "cell_type": "code",
   "execution_count": 11,
   "metadata": {},
   "outputs": [
    {
     "name": "stdout",
     "output_type": "stream",
     "text": [
      "Average stddev for state 0 is 0.0802302108692834\n",
      "Average stddev for state 1 is 0.01305666461938923\n",
      "Average stddev for state 2 is 0.01107077119525087\n",
      "Average stddev for state 3 is 0.0009011313906460847\n",
      "Average stddev for state 4 is 0.00023698396170725926\n",
      "Average stddev for state 5 is 0.00044577065046749395\n",
      "Average stddev for state 6 is 8.017754980742252\n",
      "Average stddev for state 7 is 1.2604137854858983\n",
      "Average stddev for state 8 is 0.9853310110200274\n",
      "Average stddev for state 9 is 0.012333371098149101\n",
      "Average stddev for state 10 is 0.015200679893270697\n",
      "Average stddev for state 11 is 0.028277163175850512\n"
     ]
    },
    {
     "data": {
      "image/png": "[encoded data removed]",
      "text/plain": [
       "<Figure size 432x288 with 1 Axes>"
      ]
     },
     "metadata": {
      "needs_background": "light"
     },
     "output_type": "display_data"
    }
   ],
   "source": [
    "element_index = 3\n",
    "\n",
    "for element_index_temp in range(12):\n",
    "        print(\"Average stddev for state\", element_index_temp, \"is\", np.mean([numpy.std(np.array([element[element_index_temp] for element in error_predicted_results[result_index][1:-1]])) for result_index in range(len(error_predicted_results))]))\n",
    "\n",
    "for result_index in range(len(error_predicted_results)):\n",
    "        plt.hist([element[element_index] for element in error_predicted_results[result_index][1:-1]], bins=5)"
   ]
  },
  {
   "cell_type": "code",
   "execution_count": 10,
   "metadata": {},
   "outputs": [
    {
     "data": {
      "image/png": "[encoded data removed]",
      "text/plain": [
       "<Figure size 432x288 with 1 Axes>"
      ]
     },
     "metadata": {
      "needs_background": "light"
     },
     "output_type": "display_data"
    }
   ],
   "source": [
    "for result in error_results:\n",
    "    plt.plot([element[6] for element in result[1:-1]])"
   ]
  },
  {
   "cell_type": "code",
   "execution_count": null,
   "metadata": {},
   "outputs": [],
   "source": []
  }
 ],
 "metadata": {
  "interpreter": {
   "hash": "805ceedbf2f36e18f0ff03d7e286e9fd9c942ea8fe4259ae9b5110e27077501a"
  },
  "kernelspec": {
   "display_name": "Python 3.10.1 64-bit ('jupyter-notebooks': venv)",
   "language": "python",
   "name": "python3"
  },
  "language_info": {
   "codemirror_mode": {
    "name": "ipython",
    "version": 3
   },
   "file_extension": ".py",
   "mimetype": "text/x-python",
   "name": "python",
   "nbconvert_exporter": "python",
   "pygments_lexer": "ipython3",
   "version": "3.10.1"
  },
  "orig_nbformat": 4
 },
 "nbformat": 4,
 "nbformat_minor": 2
}
