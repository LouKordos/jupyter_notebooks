{
 "cells": [
  {
   "cell_type": "code",
   "execution_count": 22,
   "metadata": {},
   "outputs": [
    {
     "data": {
      "text/plain": [
       "<matplotlib.legend.Legend at 0x7f8959809438>"
      ]
     },
     "execution_count": 22,
     "metadata": {},
     "output_type": "execute_result"
    },
    {
     "data": {
      "image/png": "[encoded data removed]",
      "text/plain": [
       "<Figure size 432x288 with 1 Axes>"
      ]
     },
     "metadata": {
      "needs_background": "light"
     },
     "output_type": "display_data"
    }
   ],
   "source": [
    "import numpy as np\n",
    "import matplotlib.pyplot as plt\n",
    "\n",
    "p_i = np.array([0, 0, -1.115])\n",
    "\n",
    "p_f = np.array([0, 0, -0.9])\n",
    "\n",
    "p = []\n",
    "\n",
    "x_range = np.arange(0, 0.1, 0.001)\n",
    "\n",
    "for s in x_range:\n",
    "    p_s = p_i + (s / np.linalg.norm(p_f - p_i)) * (p_f - p_i)\n",
    "    p.append(p_s)\n",
    "\n",
    "fig = plt.figure()\n",
    "ax = fig.add_subplot(111)\n",
    "\n",
    "ax.plot(x_range, [x[0] for x in p],label=\"p_x\")\n",
    "ax.plot(x_range, [x[1] for x in p],label=\"p_y\")\n",
    "ax.plot(x_range, [x[2] for x in p],label=\"p_z\")\n",
    "plt.legend()"
   ]
  },
  {
   "cell_type": "code",
   "execution_count": 21,
   "metadata": {},
   "outputs": [
    {
     "name": "stdout",
     "output_type": "stream",
     "text": [
      "0.2*sin(2*t) - 0.915\n",
      "0.4*cos(2*t)\n",
      "-0.8*sin(2*t)\n"
     ]
    }
   ],
   "source": [
    "from sympy import *\n",
    "t = Symbol(\"t\")\n",
    "#0.1sin(0.25t)- (1.115-0.1)\n",
    "full_movement_height = 0.1\n",
    "p_function = full_movement_height * sin(2*t) - (1.115 - full_movement_height)\n",
    "v_function = diff(p_function, t)\n",
    "a_function = diff(v_function, t)\n",
    "print(p_function)\n",
    "print(v_function)\n",
    "print(a_function)"
   ]
  },
  {
   "cell_type": "code",
   "execution_count": null,
   "metadata": {},
   "outputs": [],
   "source": [
    "\n",
    "\n",
    "p = []\n",
    "\n",
    "for t in np.arange(0, 10, 0.001):\n",
    "    p.append()"
   ]
  }
 ],
 "metadata": {
  "kernelspec": {
   "display_name": "Python 3",
   "language": "python",
   "name": "python3"
  },
  "language_info": {
   "codemirror_mode": {
    "name": "ipython",
    "version": 3
   },
   "file_extension": ".py",
   "mimetype": "text/x-python",
   "name": "python",
   "nbconvert_exporter": "python",
   "pygments_lexer": "ipython3",
   "version": "3.6.9"
  }
 },
 "nbformat": 4,
 "nbformat_minor": 2
}
