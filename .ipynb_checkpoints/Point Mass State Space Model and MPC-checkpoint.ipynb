{
 "cells": [
  {
   "cell_type": "code",
   "execution_count": 172,
   "metadata": {},
   "outputs": [
    {
     "data": {
      "text/html": [
       "<style>.container { width:95% !important; }</style>"
      ],
      "text/plain": [
       "<IPython.core.display.HTML object>"
      ]
     },
     "metadata": {},
     "output_type": "display_data"
    }
   ],
   "source": [
    "from IPython.core.display import display, HTML\n",
    "display(HTML(\"<style>.container { width:95% !important; }</style>\"))"
   ]
  },
  {
   "cell_type": "code",
   "execution_count": 18,
   "metadata": {},
   "outputs": [],
   "source": [
    "import numpy as np\n",
    "import matplotlib.pyplot as plt\n",
    "from sympy import *\n",
    "from sympy.physics.mechanics import dynamicsymbols, init_vprinting, msubs\n",
    "from IPython.display import Image\n",
    "from IPython.core.display import HTML\n",
    "import scipy.integrate\n",
    "import math"
   ]
  },
  {
   "cell_type": "code",
   "execution_count": 2,
   "metadata": {},
   "outputs": [],
   "source": [
    "m = Symbol(\"m\") # Total mass of the Robot including Legs (combined into point mass)\n",
    "g_constant = Symbol(\"g\") # Gravity acceleration constant used in g-vector\n",
    "g = Matrix([0, 0, -g_constant])"
   ]
  },
  {
   "cell_type": "code",
   "execution_count": 3,
   "metadata": {
    "scrolled": true
   },
   "outputs": [
    {
     "data": {
      "text/latex": [
       "$\\displaystyle \\left[\\begin{matrix}Ixx & Ixy & Ixz\\\\Iyx & Iyy & Iyz\\\\Izx & Ixy & Izz\\end{matrix}\\right]$"
      ],
      "text/plain": [
       "Matrix([\n",
       "[Ixx, Ixy, Ixz],\n",
       "[Iyx, Iyy, Iyz],\n",
       "[Izx, Ixy, Izz]])"
      ]
     },
     "execution_count": 3,
     "metadata": {},
     "output_type": "execute_result"
    }
   ],
   "source": [
    "# Symbols for inertia tensor of the point mass\n",
    "\n",
    "Ixx, Ixy, Ixz = symbols(\"Ixx Ixy Ixz\")\n",
    "Iyx, Iyy, Iyz = symbols(\"Iyx Iyy Iyz\")\n",
    "Izx, Izy, Izz = symbols(\"Izx Izy Izz\")\n",
    "\n",
    "# Inertia Tensor of the Robot (as a point mass) in body frame coordinates.\n",
    "# This should include Torso and Legs in zero configuration\n",
    "\n",
    "I_body = Matrix([[Ixx, Ixy, Ixz],\n",
    "                [Iyx, Iyy, Iyz],\n",
    "                [Izx, Ixy, Izz]])\n",
    "\n",
    "I_body"
   ]
  },
  {
   "cell_type": "code",
   "execution_count": 4,
   "metadata": {
    "scrolled": true
   },
   "outputs": [
    {
     "data": {
      "text/latex": [
       "$\\displaystyle \\left[\\begin{matrix}f_{x l}\\\\f_{y l}\\\\f_{z l}\\end{matrix}\\right]$"
      ],
      "text/plain": [
       "Matrix([\n",
       "[f_x_l],\n",
       "[f_y_l],\n",
       "[f_z_l]])"
      ]
     },
     "execution_count": 4,
     "metadata": {},
     "output_type": "execute_result"
    }
   ],
   "source": [
    "f_x_l, f_y_l, f_z_l = symbols(\"f_x_l f_y_l f_z_l\") # Symbols for left reaction force vector\n",
    "\n",
    "f_l = Matrix([f_x_l, f_y_l, f_z_l])  # 3x1 Reaction force vector of the left leg\n",
    "\n",
    "f_l"
   ]
  },
  {
   "cell_type": "code",
   "execution_count": 5,
   "metadata": {},
   "outputs": [
    {
     "data": {
      "text/latex": [
       "$\\displaystyle \\left[\\begin{matrix}f_{x r}\\\\f_{y r}\\\\f_{z r}\\end{matrix}\\right]$"
      ],
      "text/plain": [
       "Matrix([\n",
       "[f_x_r],\n",
       "[f_y_r],\n",
       "[f_z_r]])"
      ]
     },
     "execution_count": 5,
     "metadata": {},
     "output_type": "execute_result"
    }
   ],
   "source": [
    "f_x_r, f_y_r, f_z_r = symbols(\"f_x_r f_y_r f_z_r\") # Symbols for right reaction force vector\n",
    "\n",
    "f_r = Matrix([f_x_r, f_y_r, f_z_r])  # 3x1 Reaction force vector of the right leg\n",
    "\n",
    "f_r"
   ]
  },
  {
   "cell_type": "code",
   "execution_count": 6,
   "metadata": {},
   "outputs": [],
   "source": [
    "# Explanation for Rigid Body Dynamics of a point mass:\n",
    "# https://phys.libretexts.org/Bookshelves/University_Physics/Book%3A_University_Physics_(OpenStax)/Map%3A_University_Physics_I_-_Mechanics%2C_Sound%2C_Oscillations%2C_and_Waves_(OpenStax)/10%3A_Fixed-Axis_Rotation__Introduction/10.08%3A_Newton%E2%80%99s_Second_Law_for_Rotation"
   ]
  },
  {
   "cell_type": "code",
   "execution_count": 7,
   "metadata": {},
   "outputs": [
    {
     "data": {
      "text/latex": [
       "$\\displaystyle \\left[\\begin{matrix}\\omega_{x}\\\\\\omega_{y}\\\\\\omega_{z}\\end{matrix}\\right]$"
      ],
      "text/plain": [
       "Matrix([\n",
       "[omega_x],\n",
       "[omega_y],\n",
       "[omega_z]])"
      ]
     },
     "execution_count": 7,
     "metadata": {},
     "output_type": "execute_result"
    }
   ],
   "source": [
    "phi, theta, psi = symbols(\"phi theta psi\") # Euler angles of the point mass used for orientation\n",
    "phi_dot, theta_dot, psi_dot = symbols(\"phidot thetadot psidot\") # Derivatives of Euler angles of the point mass\n",
    "\n",
    "omega_x, omega_y, omega_z = symbols(\"omega_x omega_y omega_z\") # Angular velocity of point mass in X-Y-Z\n",
    "\n",
    "omega = Matrix([omega_x, omega_y, omega_z]) # 3x1 vector describing angular velocity of the point mass\n",
    "\n",
    "omega"
   ]
  },
  {
   "cell_type": "code",
   "execution_count": 8,
   "metadata": {},
   "outputs": [
    {
     "data": {
      "text/html": [
       "<img src=\"https://cdn.discordapp.com/attachments/680811067848655093/689769467890368541/unknown.png\"/>"
      ],
      "text/plain": [
       "<IPython.core.display.Image object>"
      ]
     },
     "execution_count": 8,
     "metadata": {},
     "output_type": "execute_result"
    }
   ],
   "source": [
    "# Converting 3x1 vector to 3x3 skew symmetric matrix based on: \n",
    "# https://math.stackexchange.com/questions/2248413/skew-symmetric-matrix-of-vector\n",
    "# See also: https://en.wikipedia.org/wiki/Skew-symmetric_matrix\n",
    "Image(url=\"https://cdn.discordapp.com/attachments/680811067848655093/689769467890368541/unknown.png\")"
   ]
  },
  {
   "cell_type": "code",
   "execution_count": 9,
   "metadata": {
    "scrolled": true
   },
   "outputs": [
    {
     "data": {
      "text/latex": [
       "$\\displaystyle \\left[\\begin{matrix}0 & - \\omega_{z} & \\omega_{y}\\\\\\omega_{z} & 0 & - \\omega_{x}\\\\- \\omega_{y} & \\omega_{x} & 0\\end{matrix}\\right]$"
      ],
      "text/plain": [
       "Matrix([\n",
       "[       0, -omega_z,  omega_y],\n",
       "[ omega_z,        0, -omega_x],\n",
       "[-omega_y,  omega_x,        0]])"
      ]
     },
     "execution_count": 9,
     "metadata": {},
     "output_type": "execute_result"
    }
   ],
   "source": [
    "omega_skew_symmetric = Matrix([[0, -omega.row(2)[0], omega.row(1)[0]],\n",
    "                               [omega.row(2)[0], 0, -omega.row(0)[0]],\n",
    "                               [-omega.row(1)[0], omega.row(0)[0], 0]])\n",
    "omega_skew_symmetric"
   ]
  },
  {
   "cell_type": "code",
   "execution_count": 10,
   "metadata": {},
   "outputs": [
    {
     "data": {
      "text/latex": [
       "$\\displaystyle \\left[\\begin{matrix}r_{x l}\\\\r_{y l}\\\\r_{z l}\\end{matrix}\\right]$"
      ],
      "text/plain": [
       "Matrix([\n",
       "[r_x_l],\n",
       "[r_y_l],\n",
       "[r_z_l]])"
      ]
     },
     "execution_count": 10,
     "metadata": {},
     "output_type": "execute_result"
    }
   ],
   "source": [
    "r_x_l, r_y_l, r_z_l = symbols(\"r_x_l r_y_l r_z_l\")\n",
    "r_l = Matrix([r_x_l, r_y_l, r_z_l]) # Location of left foot ground reaction force\n",
    "\n",
    "r_l"
   ]
  },
  {
   "cell_type": "code",
   "execution_count": 11,
   "metadata": {},
   "outputs": [
    {
     "data": {
      "text/latex": [
       "$\\displaystyle \\left[\\begin{matrix}0 & - r_{z l} & r_{y l}\\\\r_{z l} & 0 & - r_{x l}\\\\- r_{y l} & r_{x l} & 0\\end{matrix}\\right]$"
      ],
      "text/plain": [
       "Matrix([\n",
       "[     0, -r_z_l,  r_y_l],\n",
       "[ r_z_l,      0, -r_x_l],\n",
       "[-r_y_l,  r_x_l,      0]])"
      ]
     },
     "execution_count": 11,
     "metadata": {},
     "output_type": "execute_result"
    }
   ],
   "source": [
    "r_l_skew_symmetric = Matrix([[0, -r_l.row(2)[0], r_l.row(1)[0]],\n",
    "                             [r_l.row(2)[0], 0, -r_l.row(0)[0]],\n",
    "                             [-r_l.row(1)[0], r_l.row(0)[0], 0]])\n",
    "r_l_skew_symmetric"
   ]
  },
  {
   "cell_type": "code",
   "execution_count": 12,
   "metadata": {
    "scrolled": false
   },
   "outputs": [
    {
     "data": {
      "text/latex": [
       "$\\displaystyle \\left[\\begin{matrix}r_{x r}\\\\r_{y r}\\\\r_{z r}\\end{matrix}\\right]$"
      ],
      "text/plain": [
       "Matrix([\n",
       "[r_x_r],\n",
       "[r_y_r],\n",
       "[r_z_r]])"
      ]
     },
     "execution_count": 12,
     "metadata": {},
     "output_type": "execute_result"
    }
   ],
   "source": [
    "r_x_r, r_y_r, r_z_r = symbols(\"r_x_r r_y_r r_z_r\")\n",
    "r_r = Matrix([r_x_r, r_y_r, r_z_r]) # Location of right foot ground reaction force\n",
    "\n",
    "r_r"
   ]
  },
  {
   "cell_type": "code",
   "execution_count": 13,
   "metadata": {},
   "outputs": [
    {
     "data": {
      "text/latex": [
       "$\\displaystyle \\left[\\begin{matrix}0 & - r_{z r} & r_{y r}\\\\r_{z r} & 0 & - r_{x r}\\\\- r_{y r} & r_{x r} & 0\\end{matrix}\\right]$"
      ],
      "text/plain": [
       "Matrix([\n",
       "[     0, -r_z_r,  r_y_r],\n",
       "[ r_z_r,      0, -r_x_r],\n",
       "[-r_y_r,  r_x_r,      0]])"
      ]
     },
     "execution_count": 13,
     "metadata": {},
     "output_type": "execute_result"
    }
   ],
   "source": [
    "r_r_skew_symmetric = Matrix([[0, -r_r.row(2)[0], r_r.row(1)[0]],\n",
    "                             [r_r.row(2)[0], 0, -r_r.row(0)[0]],\n",
    "                             [-r_r.row(1)[0], r_r.row(0)[0], 0]])\n",
    "r_r_skew_symmetric"
   ]
  },
  {
   "cell_type": "code",
   "execution_count": 14,
   "metadata": {
    "scrolled": false
   },
   "outputs": [
    {
     "data": {
      "text/latex": [
       "$\\displaystyle \\left[\\begin{matrix}\\cos{\\left(\\psi \\right)} & \\sin{\\left(\\psi \\right)} & 0\\\\- \\sin{\\left(\\psi \\right)} & \\cos{\\left(\\psi \\right)} & 0\\\\0 & 0 & 1\\end{matrix}\\right]$"
      ],
      "text/plain": [
       "Matrix([\n",
       "[ cos(psi), sin(psi), 0],\n",
       "[-sin(psi), cos(psi), 0],\n",
       "[        0,        0, 1]])"
      ]
     },
     "execution_count": 14,
     "metadata": {},
     "output_type": "execute_result"
    }
   ],
   "source": [
    "R_z = Matrix([[cos(psi), -sin(psi), 0],\n",
    "              [sin(psi), cos(psi), 0],\n",
    "              [0, 0, 1]])\n",
    "\n",
    "R_y = Matrix([[cos(theta), 0, sin(theta)],\n",
    "              [0, 1, 0],\n",
    "              [-sin(theta), 0, cos(theta)]])\n",
    "\n",
    "R_x = Matrix([[1, 0, 0],\n",
    "              [0, cos(phi), -sin(phi)],\n",
    "              [0, sin(phi), cos(phi)]])\n",
    "\n",
    "R = R_z * R_y * R_x # Rotation matrix from Body frame to World frame based on Z-Y-X Rotation order\n",
    "\n",
    "R = R.inv() # Invert matrix as the angular velocity of the point mass is omega_world = R * omega_body (\"omega\" in the notebook)\n",
    "R = simplify(R.subs({phi:0, theta:0})) # Omit roll and pitch of the point mass because they should be very small.\n",
    "\n",
    "R # will be identical to R_z"
   ]
  },
  {
   "cell_type": "code",
   "execution_count": 15,
   "metadata": {},
   "outputs": [
    {
     "data": {
      "text/latex": [
       "$\\displaystyle \\left[\\begin{matrix}\\left(Ixx \\cos{\\left(\\psi \\right)} + Iyx \\sin{\\left(\\psi \\right)}\\right) \\cos{\\left(\\psi \\right)} + \\left(Ixy \\cos{\\left(\\psi \\right)} + Iyy \\sin{\\left(\\psi \\right)}\\right) \\sin{\\left(\\psi \\right)} & - \\left(Ixx \\cos{\\left(\\psi \\right)} + Iyx \\sin{\\left(\\psi \\right)}\\right) \\sin{\\left(\\psi \\right)} + \\left(Ixy \\cos{\\left(\\psi \\right)} + Iyy \\sin{\\left(\\psi \\right)}\\right) \\cos{\\left(\\psi \\right)} & Ixz \\cos{\\left(\\psi \\right)} + Iyz \\sin{\\left(\\psi \\right)}\\\\\\left(- Ixx \\sin{\\left(\\psi \\right)} + Iyx \\cos{\\left(\\psi \\right)}\\right) \\cos{\\left(\\psi \\right)} + \\left(- Ixy \\sin{\\left(\\psi \\right)} + Iyy \\cos{\\left(\\psi \\right)}\\right) \\sin{\\left(\\psi \\right)} & - \\left(- Ixx \\sin{\\left(\\psi \\right)} + Iyx \\cos{\\left(\\psi \\right)}\\right) \\sin{\\left(\\psi \\right)} + \\left(- Ixy \\sin{\\left(\\psi \\right)} + Iyy \\cos{\\left(\\psi \\right)}\\right) \\cos{\\left(\\psi \\right)} & - Ixz \\sin{\\left(\\psi \\right)} + Iyz \\cos{\\left(\\psi \\right)}\\\\Ixy \\sin{\\left(\\psi \\right)} + Izx \\cos{\\left(\\psi \\right)} & Ixy \\cos{\\left(\\psi \\right)} - Izx \\sin{\\left(\\psi \\right)} & Izz\\end{matrix}\\right]$"
      ],
      "text/plain": [
       "Matrix([\n",
       "[  (Ixx*cos(psi) + Iyx*sin(psi))*cos(psi) + (Ixy*cos(psi) + Iyy*sin(psi))*sin(psi),   -(Ixx*cos(psi) + Iyx*sin(psi))*sin(psi) + (Ixy*cos(psi) + Iyy*sin(psi))*cos(psi),  Ixz*cos(psi) + Iyz*sin(psi)],\n",
       "[(-Ixx*sin(psi) + Iyx*cos(psi))*cos(psi) + (-Ixy*sin(psi) + Iyy*cos(psi))*sin(psi), -(-Ixx*sin(psi) + Iyx*cos(psi))*sin(psi) + (-Ixy*sin(psi) + Iyy*cos(psi))*cos(psi), -Ixz*sin(psi) + Iyz*cos(psi)],\n",
       "[                                                      Ixy*sin(psi) + Izx*cos(psi),                                                        Ixy*cos(psi) - Izx*sin(psi),                          Izz]])"
      ]
     },
     "execution_count": 15,
     "metadata": {},
     "output_type": "execute_result"
    }
   ],
   "source": [
    "I_world = R * I_body * R.T # Transform / Rotate body inertia tensor into the world coordinate frame\n",
    "\n",
    "I_world"
   ]
  },
  {
   "cell_type": "code",
   "execution_count": 16,
   "metadata": {
    "scrolled": false
   },
   "outputs": [
    {
     "name": "stdout",
     "output_type": "stream",
     "text": [
      "A_c shape: (13, 13)\n"
     ]
    },
    {
     "data": {
      "text/latex": [
       "$\\displaystyle \\left[\\begin{array}{ccccccccccccc}0 & 0 & 0 & 0 & 0 & 0 & \\cos{\\left(\\psi \\right)} & \\sin{\\left(\\psi \\right)} & 0 & 0 & 0 & 0 & 0\\\\0 & 0 & 0 & 0 & 0 & 0 & - \\sin{\\left(\\psi \\right)} & \\cos{\\left(\\psi \\right)} & 0 & 0 & 0 & 0 & 0\\\\0 & 0 & 0 & 0 & 0 & 0 & 0 & 0 & 1 & 0 & 0 & 0 & 0\\\\0 & 0 & 0 & 0 & 0 & 0 & 0 & 0 & 0 & 1 & 1 & 1 & 0\\\\0 & 0 & 0 & 0 & 0 & 0 & 0 & 0 & 0 & 1 & 1 & 1 & 0\\\\0 & 0 & 0 & 0 & 0 & 0 & 0 & 0 & 0 & 1 & 1 & 1 & 0\\\\0 & 0 & 0 & 0 & 0 & 0 & 0 & 0 & 0 & 0 & 0 & 0 & 0\\\\0 & 0 & 0 & 0 & 0 & 0 & 0 & 0 & 0 & 0 & 0 & 0 & 0\\\\0 & 0 & 0 & 0 & 0 & 0 & 0 & 0 & 0 & 0 & 0 & 0 & 0\\\\0 & 0 & 0 & 0 & 0 & 0 & 0 & 0 & 0 & 0 & 0 & 0 & 0\\\\0 & 0 & 0 & 0 & 0 & 0 & 0 & 0 & 0 & 0 & 0 & 0 & 0\\\\0 & 0 & 0 & 0 & 0 & 0 & 0 & 0 & 0 & 0 & 0 & 0 & 0\\\\0 & 0 & 0 & 0 & 0 & 0 & 0 & 0 & 0 & 0 & 0 & 0 & 1\\end{array}\\right]$"
      ],
      "text/plain": [
       "Matrix([\n",
       "[0, 0, 0, 0, 0, 0,  cos(psi), sin(psi), 0, 0, 0, 0, 0],\n",
       "[0, 0, 0, 0, 0, 0, -sin(psi), cos(psi), 0, 0, 0, 0, 0],\n",
       "[0, 0, 0, 0, 0, 0,         0,        0, 1, 0, 0, 0, 0],\n",
       "[0, 0, 0, 0, 0, 0,         0,        0, 0, 1, 1, 1, 0],\n",
       "[0, 0, 0, 0, 0, 0,         0,        0, 0, 1, 1, 1, 0],\n",
       "[0, 0, 0, 0, 0, 0,         0,        0, 0, 1, 1, 1, 0],\n",
       "[0, 0, 0, 0, 0, 0,         0,        0, 0, 0, 0, 0, 0],\n",
       "[0, 0, 0, 0, 0, 0,         0,        0, 0, 0, 0, 0, 0],\n",
       "[0, 0, 0, 0, 0, 0,         0,        0, 0, 0, 0, 0, 0],\n",
       "[0, 0, 0, 0, 0, 0,         0,        0, 0, 0, 0, 0, 0],\n",
       "[0, 0, 0, 0, 0, 0,         0,        0, 0, 0, 0, 0, 0],\n",
       "[0, 0, 0, 0, 0, 0,         0,        0, 0, 0, 0, 0, 0],\n",
       "[0, 0, 0, 0, 0, 0,         0,        0, 0, 0, 0, 0, 1]])"
      ]
     },
     "execution_count": 16,
     "metadata": {},
     "output_type": "execute_result"
    }
   ],
   "source": [
    "# Define symbols for state space model\n",
    "# delta is CoM orientation, p_hat is world position, omega_hat is world angular velocity,\n",
    "# p_dot_hat is world cartesian velocity\n",
    "delta, p_hat, omega_hat, p_dot_hat = symbols(\"delta phat omegahat pdothat\")\n",
    "\n",
    "#Continuous-time 13x13 matrix (12 for the 4 4x1 state vectors \n",
    "# + 1 row for the added gravity term to get State-Space Form\n",
    "\n",
    "A_c = Matrix([[0, 0, 0, 0, 0, 0, R.col(0)[0], R.col(1)[0], R.col(2)[0], 0, 0, 0, 0],\n",
    "              [0, 0, 0, 0, 0, 0, R.col(0)[1], R.col(1)[1], R.col(2)[1], 0, 0, 0, 0],\n",
    "              [0, 0, 0, 0, 0, 0, R.col(0)[2], R.col(1)[2], R.col(2)[2], 0, 0, 0, 0],\n",
    "              \n",
    "              [0, 0, 0, 0, 0, 0, 0, 0, 0, 1, 1, 1, 0],\n",
    "              [0, 0, 0, 0, 0, 0, 0, 0, 0, 1, 1, 1, 0],\n",
    "              [0, 0, 0, 0, 0, 0, 0, 0, 0, 1, 1, 1, 0],\n",
    "             \n",
    "              [0, 0, 0, 0, 0, 0, 0, 0, 0, 0, 0, 0, 0],\n",
    "              [0, 0, 0, 0, 0, 0, 0, 0, 0, 0, 0, 0, 0],\n",
    "              [0, 0, 0, 0, 0, 0, 0, 0, 0, 0, 0, 0, 0],\n",
    "             \n",
    "              [0, 0, 0, 0, 0, 0, 0, 0, 0, 0, 0, 0, 0],\n",
    "              [0, 0, 0, 0, 0, 0, 0, 0, 0, 0, 0, 0, 0],\n",
    "              [0, 0, 0, 0, 0, 0, 0, 0, 0, 0, 0, 0, 0],\n",
    "             \n",
    "              [0, 0, 0, 0, 0, 0, 0, 0, 0, 0, 0, 0, 1]])\n",
    "\n",
    "print(\"A_c shape:\", A_c.shape)\n",
    "\n",
    "A_c"
   ]
  },
  {
   "cell_type": "code",
   "execution_count": 111,
   "metadata": {},
   "outputs": [
    {
     "name": "stdout",
     "output_type": "stream",
     "text": [
      "(2003,)\n"
     ]
    },
    {
     "data": {
      "text/plain": [
       "<matplotlib.legend.Legend at 0x7f68a3d91978>"
      ]
     },
     "execution_count": 111,
     "metadata": {},
     "output_type": "execute_result"
    },
    {
     "data": {
      "image/png": "[encoded data removed]",
      "text/plain": [
       "<Figure size 432x288 with 1 Axes>"
      ]
     },
     "metadata": {
      "needs_background": "light"
     },
     "output_type": "display_data"
    }
   ],
   "source": [
    "I_world = np.array([[1, 0, 0],\n",
    "                    [0, 1, 0],\n",
    "                    [0, 0, 1]])\n",
    "\n",
    "r_left = np.array([[0, 0, 0],\n",
    "                   [0, 0, 0],\n",
    "                   [0, 0, 0]])\n",
    "    \n",
    "r_right = np.array([[0, 0, 0],\n",
    "                    [0, 0, 0],\n",
    "                    [0, 0, 0]])\n",
    "    \n",
    "f_left = np.array([[0],\n",
    "                   [0],\n",
    "                   [0]])\n",
    "    \n",
    "f_right = np.array([[0],\n",
    "                    [0],\n",
    "                    [0]])\n",
    "\n",
    "m = 10 # kg\n",
    "\n",
    "x0 = [0, 0, 0, 0, 0, 1, 0, 0, 0, 0, 0, 0, -9.81]\n",
    "\n",
    "def func(t, x):\n",
    "    #print(\"t:\", t)\n",
    "    #print(x)\n",
    "    \n",
    "    x_t = np.array(x).reshape(13,1)\n",
    "    \n",
    "    A_t = np.array([[0, 0, 0, 0, 0, 0, math.cos(x_t[2]), math.sin(x_t[2]), 0, 0, 0, 0, 0],\n",
    "                    [0, 0, 0, 0, 0, 0, -math.sin(x_t[2]), math.cos(x_t[2]), 0, 0, 0, 0, 0],\n",
    "                    [0, 0, 0, 0, 0, 0, 0, 0, 1, 0, 0, 0, 0],\n",
    "                    \n",
    "                    [0, 0, 0, 0, 0, 0, 0, 0, 0, 1, 0, 0, 0],\n",
    "                    [0, 0, 0, 0, 0, 0, 0, 0, 0, 0, 1, 0, 0],\n",
    "                    [0, 0, 0, 0, 0, 0, 0, 0, 0, 0, 0, 1, 0],\n",
    "                    \n",
    "                    [0, 0, 0, 0, 0, 0, 0, 0, 0, 0, 0, 0, 0],\n",
    "                    [0, 0, 0, 0, 0, 0, 0, 0, 0, 0, 0, 0, 0],\n",
    "                    [0, 0, 0, 0, 0, 0, 0, 0, 0, 0, 0, 0, 0],\n",
    "                    \n",
    "                    [0, 0, 0, 0, 0, 0, 0, 0, 0, 0, 0, 0, 0],\n",
    "                    [0, 0, 0, 0, 0, 0, 0, 0, 0, 0, 0, 0, 0],\n",
    "                    [0, 0, 0, 0, 0, 0, 0, 0, 0, 0, 0, 0, 1],\n",
    "                    \n",
    "                    [0, 0, 0, 0, 0, 0, 0, 0, 0, 0, 0, 0, 0]])\n",
    "    \n",
    "    temp_l = np.linalg.inv(I_world).dot(r_left)\n",
    "\n",
    "    temp_r = np.linalg.inv(I_world).dot(r_right)\n",
    "\n",
    "    B_t = np.array([[0, 0, 0, 0, 0, 0],\n",
    "                    [0, 0, 0, 0, 0, 0],\n",
    "                    [0, 0, 0, 0, 0, 0],\n",
    "                    [0, 0, 0, 0, 0, 0],\n",
    "                    [0, 0, 0, 0, 0, 0],\n",
    "                    [0, 0, 0, 0, 0, 0],\n",
    "                    [temp_l[0][0], temp_l[0][1], temp_l[0][2], temp_r[0][0], temp_r[0][1], temp_r[0][2]],\n",
    "                    [temp_l[1][0], temp_l[1][1], temp_l[1][2], temp_r[1][0], temp_r[1][1], temp_r[1][2]],\n",
    "                    [temp_l[2][0], temp_l[2][1], temp_l[2][2], temp_r[2][0], temp_r[2][1], temp_r[2][2]],\n",
    "                    [1/m, 0, 0, 1/m, 0, 0],\n",
    "                    [0, 1/m, 0, 0, 1/m, 0],\n",
    "                    [0, 0, 1/m, 0, 0, 1/m],\n",
    "                    [0, 0, 0, 0, 0, 0]])\n",
    "    \n",
    "    u_t = np.array(np.array([[f_left[0][0]],\n",
    "                             [f_left[1][0]],\n",
    "                             [f_left[2][0]],\n",
    "                             [f_right[0][0]],\n",
    "                             [f_right[1][0]],\n",
    "                             [f_right[2][0]]]))\n",
    "\n",
    "    \n",
    "    x_dot_t = A_t.dot(x_t) #+ B_t.dot(u_t)\n",
    "    #print(x_dot_t.shape)\n",
    "    #print(x_dot_t[0])\n",
    "    \n",
    "    return [x_dot_t[0][0], x_dot_t[1][0], x_dot_t[2][0], x_dot_t[3][0], x_dot_t[4][0], x_dot_t[5][0], x_dot_t[6][0], x_dot_t[7][0], x_dot_t[8][0], x_dot_t[9][0], x_dot_t[10][0], x_dot_t[11][0], x_dot_t[12][0]]\n",
    "\n",
    "\n",
    "#func(0,x0)\n",
    "#print(\"Test ran\")\n",
    "\n",
    "solution = scipy.integrate.solve_ivp(func, [0, 10], x0, max_step=.005) # , atol=0.0015, rtol=0.0015\n",
    "\n",
    "print(solution.y[0].shape)\n",
    "\n",
    "fig = plt.figure()\n",
    "ax = fig.add_subplot(111)\n",
    "\n",
    "\n",
    "#ax.plot(solution.t, solution.y[0],label=\"roll\")\n",
    "#ax.plot(solution.t, solution.y[1],label=\"pitch\")\n",
    "#ax.plot(solution.t, solution.y[2],label=\"yaw\")\n",
    "#ax.plot(solution.t, solution.y[3],label=\"pos_x\")\n",
    "#ax.plot(solution.t, solution.y[4],label=\"pos_y\")\n",
    "ax.plot(solution.t, solution.y[5],label=\"pos_z\")\n",
    "#ax.plot(solution.t, solution.y[6],label=\"omega_x\")\n",
    "#ax.plot(solution.t, solution.y[7],label=\"omega_y\")\n",
    "#ax.plot(solution.t, solution.y[8],label=\"omega_z\")\n",
    "#ax.plot(solution.t, solution.y[9],label=\"pos_x_dot\")\n",
    "#ax.plot(solution.t, solution.y[10],label=\"pos_y_dot\")\n",
    "ax.plot(solution.t, solution.y[11],label=\"pos_z_dot\")\n",
    "plt.legend()"
   ]
  },
  {
   "cell_type": "code",
   "execution_count": 209,
   "metadata": {},
   "outputs": [],
   "source": [
    "dt = 1/20 #secs"
   ]
  },
  {
   "cell_type": "code",
   "execution_count": 116,
   "metadata": {},
   "outputs": [],
   "source": [
    "def matrix_exponential(matrix, t, n, exponent):\n",
    "    x_t = np.identity(n)\n",
    "    for i in range(1, exponent):\n",
    "        x_t = x_t + (matrix**i * t**i) / math.factorial(i)\n",
    "        \n",
    "    return x_t"
   ]
  },
  {
   "cell_type": "code",
   "execution_count": 232,
   "metadata": {},
   "outputs": [],
   "source": [
    "def step_discrete_system(A_param, B_param, x0_param, u_param, t_param):\n",
    "    states_param = [x0_param]\n",
    "    \n",
    "    time_range = np.arange((t_param * (1/dt)))\n",
    "    \n",
    "    print(\"k is:\", time_range)\n",
    "    \n",
    "    for k in time_range:\n",
    "        states_param.append(A_param.dot(states_param[-1]) + B_param.dot(u_param))\n",
    "        \n",
    "    return states_param"
   ]
  },
  {
   "cell_type": "code",
   "execution_count": 210,
   "metadata": {},
   "outputs": [
    {
     "data": {
      "text/plain": [
       "[<matplotlib.lines.Line2D at 0x7f68a2c43940>]"
      ]
     },
     "execution_count": 210,
     "metadata": {},
     "output_type": "execute_result"
    },
    {
     "data": {
      "image/png": "[encoded data removed]",
      "text/plain": [
       "<Figure size 432x288 with 1 Axes>"
      ]
     },
     "metadata": {
      "needs_background": "light"
     },
     "output_type": "display_data"
    }
   ],
   "source": [
    "state_trajectory = []\n",
    "\n",
    "position = 0\n",
    "\n",
    "for i in np.arange(0, 10, dt):\n",
    "    vel_desired = 1\n",
    "    position += vel_desired * dt\n",
    "    state_trajectory.append(np.array([[position],\n",
    "                                      [vel_desired],\n",
    "                                      [-9.81]]))\n",
    "    \n",
    "x_ref = np.array(np.block(state_trajectory)).shape\n",
    "    \n",
    "\n",
    "plt.plot([x[0] for x in state_trajectory])\n",
    "plt.plot([x[1] for x in state_trajectory])"
   ]
  },
  {
   "cell_type": "code",
   "execution_count": 169,
   "metadata": {},
   "outputs": [
    {
     "name": "stdout",
     "output_type": "stream",
     "text": [
      "A discrete:\n",
      " [[1.        0.0512711 0.       ]\n",
      " [0.        1.        0.0512711]\n",
      " [0.        0.        1.       ]]\n",
      "------------------------------------------------\n",
      "B discrete:\n",
      " [[0.        ]\n",
      " [0.00501252]\n",
      " [0.        ]] \n",
      "\n"
     ]
    }
   ],
   "source": [
    "A_c = np.array([[0, 1, 0],\n",
    "                [0, 0, 1],\n",
    "                [0, 0, 0]])\n",
    "    \n",
    "B_c = np.array([[0],\n",
    "                [1/m],\n",
    "                [0]])\n",
    "\n",
    "A_B = np.array([[A_c[0][0], A_c[0][1], A_c[0][2], B_c[0][0]],\n",
    "                  [A_c[1][0], A_c[1][1], A_c[1][2], B_c[1][0]],\n",
    "                  [A_c[2][0], A_c[2][1], A_c[2][2], B_c[2][0]],\n",
    "                  [0, 0, 0, 1]])\n",
    "\n",
    "eAt_d = matrix_exponential(A_B, t = dt, n=A_B.shape[0], exponent=60)\n",
    "\n",
    "A_d = np.array([[eAt_d[0][0], eAt_d[0][1], eAt_d[0][2]],\n",
    "                [eAt_d[1][0], eAt_d[1][1], eAt_d[1][2]],\n",
    "                [eAt_d[2][0], eAt_d[2][1], eAt_d[2][2]]])\n",
    "\n",
    "B_d = np.array([[eAt_d[0][3]],\n",
    "                [eAt_d[1][3]],\n",
    "                [eAt_d[2][3]]])\n",
    "\n",
    "print(\"A discrete:\\n\", A_d)\n",
    "print(\"------------------------------------------------\")\n",
    "print(\"B discrete:\\n\", B_d, \"\\n\")"
   ]
  },
  {
   "cell_type": "code",
   "execution_count": 156,
   "metadata": {},
   "outputs": [
    {
     "data": {
      "text/plain": [
       "<matplotlib.legend.Legend at 0x7f68a2c1a710>"
      ]
     },
     "execution_count": 156,
     "metadata": {},
     "output_type": "execute_result"
    },
    {
     "data": {
      "image/png": "[encoded data removed]",
      "text/plain": [
       "<Figure size 432x288 with 1 Axes>"
      ]
     },
     "metadata": {
      "needs_background": "light"
     },
     "output_type": "display_data"
    }
   ],
   "source": [
    "x0 = [1, 0, -9.81] # Initial state. state x has the form x = [position_z, velocity_z, gravity constant]\n",
    "\n",
    "plt.plot([x[0] for x in states], label=\"pos\")\n",
    "plt.plot([x[1] for x in states], label=\"vel\")\n",
    "\n",
    "plt.legend()"
   ]
  },
  {
   "cell_type": "code",
   "execution_count": 247,
   "metadata": {
    "scrolled": true
   },
   "outputs": [
    {
     "data": {
      "text/plain": [
       "(30, 3)"
      ]
     },
     "execution_count": 247,
     "metadata": {},
     "output_type": "execute_result"
    }
   ],
   "source": [
    "# 0.5 sec prediction at dt = 0.02 is 10 A matrices in condensed A\n",
    "\n",
    "k = 10 # horizon length\n",
    "\n",
    "# A_qp should be k * A.rows() x k * A.cols()\n",
    "\n",
    "A_qp = np.block([[np.identity(A_d.shape[0])],\n",
    "                [A_d],\n",
    "                [A_d**2],\n",
    "                [A_d**3],\n",
    "                [A_d**4],\n",
    "                [A_d**5],\n",
    "                [A_d**6],\n",
    "                [A_d**7],\n",
    "                [A_d**8],\n",
    "                [A_d**9],\n",
    "                [A_d**10]])\n",
    "\n",
    "A_qp.shape"
   ]
  },
  {
   "cell_type": "code",
   "execution_count": 198,
   "metadata": {},
   "outputs": [
    {
     "data": {
      "text/plain": [
       "(33, 10)"
      ]
     },
     "execution_count": 198,
     "metadata": {},
     "output_type": "execute_result"
    }
   ],
   "source": [
    "# B_qp shape should be k * A.rows() x (k-1) * B.cols()\n",
    "\n",
    "B_qp = np.block([[np.zeros((3,1)), np.zeros((3,1)), np.zeros((3,1)), np.zeros((3,1)), np.zeros((3,1)), np.zeros((3,1)), np.zeros((3,1)), np.zeros((3,1)), np.zeros((3,1)), np.zeros((3,1))],\n",
    "                [B_d, np.zeros((3,1)), np.zeros((3,1)), np.zeros((3,1)), np.zeros((3,1)), np.zeros((3,1)), np.zeros((3,1)), np.zeros((3,1)), np.zeros((3,1)), np.zeros((3,1))],\n",
    "                [A_d @ B_d, B_d, np.zeros((3,1)), np.zeros((3,1)), np.zeros((3,1)), np.zeros((3,1)), np.zeros((3,1)), np.zeros((3,1)), np.zeros((3,1)), np.zeros((3,1))],\n",
    "                [A_d**2 @ B_d, A_d @ B_d, B_d, np.zeros((3,1)), np.zeros((3,1)), np.zeros((3,1)), np.zeros((3,1)), np.zeros((3,1)), np.zeros((3,1)), np.zeros((3,1))],\n",
    "                [A_d**3 @ B_d, A_d**2 @ B_d, A_d @ B_d, B_d, np.zeros((3,1)), np.zeros((3,1)), np.zeros((3,1)), np.zeros((3,1)), np.zeros((3,1)), np.zeros((3,1))],\n",
    "                [A_d**4 @ B_d, A_d**3 @ B_d, A_d**2 @ B_d, A_d @ B_d, B_d, np.zeros((3,1)), np.zeros((3,1)), np.zeros((3,1)), np.zeros((3,1)), np.zeros((3,1))],\n",
    "                [A_d**5 @ B_d, A_d**4 @ B_d, A_d**3 @ B_d, A_d**2 @ B_d, A_d @ B_d, B_d, np.zeros((3,1)), np.zeros((3,1)), np.zeros((3,1)), np.zeros((3,1))],\n",
    "                [A_d**6 @ B_d, A_d**5 @ B_d, A_d**4 @ B_d, A_d**3 @ B_d, A_d**2 @ B_d, A_d @ B_d, B_d, np.zeros((3,1)), np.zeros((3,1)), np.zeros((3,1))],\n",
    "                [A_d**7 @ B_d, A_d**6 @ B_d, A_d**5 @ B_d, A_d**4 @ B_d, A_d**3 @ B_d, A_d**2 @ B_d, A_d @ B_d, B_d, np.zeros((3,1)), np.zeros((3,1))],\n",
    "                [A_d**8 @ B_d, A_d**7 @ B_d, A_d**6 @ B_d, A_d**5 @ B_d, A_d**4 @ B_d, A_d**3 @ B_d, A_d**2 @ B_d, A_d @ B_d, B_d, np.zeros((3,1))],\n",
    "                [A_d**9 @ B_d, A_d**8 @ B_d, A_d**7 @ B_d, A_d**6 @ B_d, A_d**5 @ B_d, A_d**4 @ B_d, A_d**3 @ B_d, A_d**2 @ B_d, A_d @ B_d, B_d]])\n",
    "\n",
    "B_qp.shape"
   ]
  },
  {
   "cell_type": "code",
   "execution_count": 245,
   "metadata": {},
   "outputs": [
    {
     "name": "stdout",
     "output_type": "stream",
     "text": [
      "k is: [0. 1. 2. 3. 4. 5. 6. 7. 8. 9.]\n"
     ]
    },
    {
     "data": {
      "text/plain": [
       "(11, 3, 1)"
      ]
     },
     "execution_count": 245,
     "metadata": {},
     "output_type": "execute_result"
    }
   ],
   "source": [
    "np.block(np.array(step_discrete_system(A_d, B_d, np.array(x0).reshape(3,1), np.array([[0]]), 0.5))).shape"
   ]
  },
  {
   "cell_type": "code",
   "execution_count": 246,
   "metadata": {
    "scrolled": true
   },
   "outputs": [
    {
     "ename": "SyntaxError",
     "evalue": "invalid syntax (<ipython-input-246-2f84d9e62391>, line 3)",
     "output_type": "error",
     "traceback": [
      "\u001b[0;36m  File \u001b[0;32m\"<ipython-input-246-2f84d9e62391>\"\u001b[0;36m, line \u001b[0;32m3\u001b[0m\n\u001b[0;31m    X_qp =\u001b[0m\n\u001b[0m           ^\u001b[0m\n\u001b[0;31mSyntaxError\u001b[0m\u001b[0;31m:\u001b[0m invalid syntax\n"
     ]
    }
   ],
   "source": [
    "x0 = [1, 0, -9.81] # Initial state. state x has the form x = [position_z, velocity_z, gravity constant]\n",
    "\n",
    "X_qp = \n",
    "U_qp = np.zeros((3,3))\n",
    "print(X_qp.shape)"
   ]
  },
  {
   "cell_type": "code",
   "execution_count": 203,
   "metadata": {
    "scrolled": false
   },
   "outputs": [
    {
     "data": {
      "text/plain": [
       "(10, 33)"
      ]
     },
     "execution_count": 203,
     "metadata": {},
     "output_type": "execute_result"
    }
   ],
   "source": [
    "(B_qp.T@ Q_qp).shape"
   ]
  },
  {
   "cell_type": "code",
   "execution_count": 250,
   "metadata": {},
   "outputs": [
    {
     "data": {
      "text/plain": [
       "(10, 10)"
      ]
     },
     "execution_count": 250,
     "metadata": {},
     "output_type": "execute_result"
    }
   ],
   "source": [
    "Q = np.identity(3)\n",
    "R = np.array([[1]])\n",
    "\n",
    "Q_qp = np.identity(33)\n",
    "R_qp = np.identity(10)\n",
    "\n",
    "H = 2 * ((B_qp.T @ Q_qp) @ B_qp + R_qp)\n",
    "\n",
    "H.shape"
   ]
  },
  {
   "cell_type": "code",
   "execution_count": 115,
   "metadata": {},
   "outputs": [
    {
     "data": {
      "text/plain": [
       "<matplotlib.legend.Legend at 0x7f68a3e8f6d8>"
      ]
     },
     "execution_count": 115,
     "metadata": {},
     "output_type": "execute_result"
    },
    {
     "data": {
      "image/png": "[encoded data removed]",
      "text/plain": [
       "<Figure size 432x288 with 1 Axes>"
      ]
     },
     "metadata": {
      "needs_background": "light"
     },
     "output_type": "display_data"
    }
   ],
   "source": [
    "def func(t,x):\n",
    "    # p_z_dotdot = f/m + g (where g is negative)\n",
    "    \n",
    "    x_t = np.array(x).reshape(3,1)\n",
    "    \n",
    "    A_t = np.array([[0, 1, 0],\n",
    "                    [0, 0, 1],\n",
    "                    [0, 0, 0]])\n",
    "    \n",
    "    B_t = np.array([[0],\n",
    "                    [1/m],\n",
    "                    [0]]).reshape(3,1)\n",
    "    \n",
    "    f = m * 9.81\n",
    "    #f = 0\n",
    "    \n",
    "    u_t = np.array([[f]])\n",
    "    \n",
    "    x_dot_t = A_t.dot(x_t) + B_t.dot(u_t)\n",
    "    \n",
    "    return [x_dot_t[0][0], x_dot_t[1][0], x_dot_t[2][0]]\n",
    "\n",
    "solution = scipy.integrate.solve_ivp(func, [0, 10], x0, max_step=.005) # , atol=0.0015, rtol=0.0015\n",
    "\n",
    "fig = plt.figure()\n",
    "ax = fig.add_subplot(111)\n",
    "\n",
    "ax.plot(solution.t, solution.y[0],label=\"pos_z\")\n",
    "ax.plot(solution.t, solution.y[1],label=\"vel_z\")\n",
    "plt.legend()"
   ]
  },
  {
   "cell_type": "code",
   "execution_count": null,
   "metadata": {},
   "outputs": [],
   "source": []
  }
 ],
 "metadata": {
  "kernelspec": {
   "display_name": "Python 3",
   "language": "python",
   "name": "python3"
  },
  "language_info": {
   "codemirror_mode": {
    "name": "ipython",
    "version": 3
   },
   "file_extension": ".py",
   "mimetype": "text/x-python",
   "name": "python",
   "nbconvert_exporter": "python",
   "pygments_lexer": "ipython3",
   "version": "3.6.9"
  }
 },
 "nbformat": 4,
 "nbformat_minor": 2
}
