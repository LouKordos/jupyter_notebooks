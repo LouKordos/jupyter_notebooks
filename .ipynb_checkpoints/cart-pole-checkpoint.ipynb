{
 "cells": [
  {
   "cell_type": "code",
   "execution_count": 5,
   "metadata": {},
   "outputs": [],
   "source": [
    "from sympy import *\n",
    "import numpy as np\n",
    "import matplotlib.pyplot as plt\n",
    "from sympy.physics.mechanics import dynamicsymbols, init_vprinting, msubs\n",
    "\n",
    "init_printing()\n",
    "init_vprinting()\n",
    "\n",
    "m_c = Symbol('m_c')\n",
    "m_p = Symbol('m_p')\n",
    "\n",
    "x1, x2, x1_dot, x2_dot, theta1, theta2, theta1_dot, theta2_dot = symbols('x1 x2 x1dot x2dot theta1 theta2 theta1dot theta2dot', cls=Function)\n",
    "\n",
    "g = Symbol('g')\n",
    "l = Symbol('l')\n",
    "t = Symbol('t')\n",
    "f = Symbol('f')\n",
    "\n",
    "\n",
    "eom_1 = Eq((m_p + m_c) * x2_dot(t) + m_p * l * cos(theta1(t)) - m_p * l * theta2_dot(t)**2 * sin(theta1(t)), f)\n",
    "eom_2 = Eq(m_p * l * x2_dot(t) * cos(theta1(t)) + m_p * l**2 * theta2_dot(t) + m_p * g * l * sin(theta1(t)), 0)"
   ]
  },
  {
   "cell_type": "code",
   "execution_count": 6,
   "metadata": {},
   "outputs": [
    {
     "data": {
      "image/png": "[encoded data removed]",
      "text/latex": [
       "$\\displaystyle - l m_{p} \\dot{theta2}^{2} \\operatorname{sin}\\left(\\theta_{1}\\right) + l m_{p} \\operatorname{cos}\\left(\\theta_{1}\\right) + \\left(m_{c} + m_{p}\\right) \\dot{x2} = f$"
      ],
      "text/plain": [
       "             2                                           \n",
       "- l⋅mₚ⋅theṫa2 ⋅sin(θ₁) + l⋅mₚ⋅cos(θ₁) + (m_c + mₚ)⋅x2̇ = f"
      ]
     },
     "execution_count": 6,
     "metadata": {},
     "output_type": "execute_result"
    }
   ],
   "source": [
    "eom_1"
   ]
  },
  {
   "cell_type": "code",
   "execution_count": 7,
   "metadata": {},
   "outputs": [
    {
     "data": {
      "image/png": "[encoded data removed]",
      "text/latex": [
       "$\\displaystyle g l m_{p} \\operatorname{sin}\\left(\\theta_{1}\\right) + l^{2} m_{p} \\dot{theta2} + l m_{p} \\dot{x2} \\operatorname{cos}\\left(\\theta_{1}\\right) = 0$"
      ],
      "text/plain": [
       "                  2                                \n",
       "g⋅l⋅mₚ⋅sin(θ₁) + l ⋅mₚ⋅theṫa2 + l⋅mₚ⋅x2̇⋅cos(θ₁) = 0"
      ]
     },
     "execution_count": 7,
     "metadata": {},
     "output_type": "execute_result"
    }
   ],
   "source": [
    "eom_2"
   ]
  },
  {
   "cell_type": "code",
   "execution_count": 8,
   "metadata": {},
   "outputs": [
    {
     "data": {
      "image/png": "[encoded data removed]",
      "text/latex": [
       "$\\displaystyle \\dot{x2} = \\frac{f + l m_{p} \\dot{theta2}^{2} \\operatorname{sin}\\left(\\theta_{1}\\right) - l m_{p} \\operatorname{cos}\\left(\\theta_{1}\\right)}{m_{c} + m_{p}}$"
      ],
      "text/plain": [
       "                    2                       \n",
       "     f + l⋅mₚ⋅theṫa2 ⋅sin(θ₁) - l⋅mₚ⋅cos(θ₁)\n",
       "x2̇ = ───────────────────────────────────────\n",
       "                     m_c + mₚ               "
      ]
     },
     "execution_count": 8,
     "metadata": {},
     "output_type": "execute_result"
    }
   ],
   "source": [
    "eom_1_x2_dot = dsolve(eom_1, x2_dot(t))\n",
    "eom_1_x2_dot"
   ]
  },
  {
   "cell_type": "code",
   "execution_count": 9,
   "metadata": {},
   "outputs": [
    {
     "data": {
      "image/png": "[encoded data removed]",
      "text/latex": [
       "$\\displaystyle \\dot{x2} = - g \\operatorname{tan}\\left(\\theta_{1}\\right) - \\frac{l \\dot{theta2}}{\\operatorname{cos}\\left(\\theta_{1}\\right)}$"
      ],
      "text/plain": [
       "                  l⋅theṫa2\n",
       "x2̇ = -g⋅tan(θ₁) - ────────\n",
       "                  cos(θ₁) "
      ]
     },
     "execution_count": 9,
     "metadata": {},
     "output_type": "execute_result"
    }
   ],
   "source": [
    "eom_2_x2_dot = dsolve(eom_2, x2_dot(t))\n",
    "eom_2_x2_dot"
   ]
  },
  {
   "cell_type": "code",
   "execution_count": 10,
   "metadata": {},
   "outputs": [
    {
     "data": {
      "image/png": "[encoded data removed]",
      "text/latex": [
       "$\\displaystyle \\left[ \\dot{theta2} = - \\sqrt{\\frac{- f + l m_{p} \\operatorname{cos}\\left(\\theta_{1}\\right) + m_{c} \\dot{x2} + m_{p} \\dot{x2}}{l m_{p} \\operatorname{sin}\\left(\\theta_{1}\\right)}}, \\  \\dot{theta2} = \\sqrt{\\frac{- f + l m_{p} \\operatorname{cos}\\left(\\theta_{1}\\right) + m_{c} \\dot{x2} + m_{p} \\dot{x2}}{l m_{p} \\operatorname{sin}\\left(\\theta_{1}\\right)}}\\right]$"
      ],
      "text/plain": [
       "⎡              ____________________________________               ____________\n",
       "⎢             ╱-f + l⋅mₚ⋅cos(θ₁) + m_c⋅x2̇ + mₚ⋅x2̇              ╱-f + l⋅mₚ⋅co\n",
       "⎢theṫa2 = -  ╱  ────────────────────────────────── , theṫa2 =   ╱  ─────────\n",
       "⎣          ╲╱              l⋅mₚ⋅sin(θ₁)                       ╲╱              \n",
       "\n",
       "________________________⎤\n",
       "s(θ₁) + m_c⋅x2̇ + mₚ⋅x2̇⎥\n",
       "───────────────────────── ⎥\n",
       "l⋅mₚ⋅sin(θ₁)            ⎦"
      ]
     },
     "execution_count": 10,
     "metadata": {},
     "output_type": "execute_result"
    }
   ],
   "source": [
    "eom_1_theta2_dot = dsolve(eom_1, theta2_dot(t))\n",
    "eom_1_theta2_dot"
   ]
  },
  {
   "cell_type": "code",
   "execution_count": 11,
   "metadata": {},
   "outputs": [
    {
     "data": {
      "image/png": "[encoded data removed]",
      "text/latex": [
       "$\\displaystyle \\dot{theta2} = - \\frac{g \\operatorname{sin}\\left(\\theta_{1}\\right) + \\dot{x2} \\operatorname{cos}\\left(\\theta_{1}\\right)}{l}$"
      ],
      "text/plain": [
       "         -(g⋅sin(θ₁) + x2̇⋅cos(θ₁)) \n",
       "theṫa2 = ──────────────────────────\n",
       "                     l             "
      ]
     },
     "execution_count": 11,
     "metadata": {},
     "output_type": "execute_result"
    }
   ],
   "source": [
    "eom_2_theta2_dot = dsolve(eom_2, theta2_dot(t))\n",
    "eom_2_theta2_dot"
   ]
  },
  {
   "cell_type": "code",
   "execution_count": 12,
   "metadata": {},
   "outputs": [
    {
     "data": {
      "image/png": "[encoded data removed]",
      "text/latex": [
       "$\\displaystyle \\frac{f - l m_{p} \\operatorname{cos}\\left(\\theta_{1}\\right) + \\frac{m_{p} \\left(- g \\operatorname{sin}\\left(\\theta_{1}\\right) + \\dot{x2} \\operatorname{cos}\\left(\\theta_{1}\\right)\\right)^{2} \\operatorname{sin}\\left(\\theta_{1}\\right)}{l}}{m_{c} + m_{p}} = \\dot{x2}$"
      ],
      "text/plain": [
       "                                               2             \n",
       "                   mₚ⋅(-g⋅sin(θ₁) + x2̇⋅cos(θ₁)) ⋅sin(θ₁)     \n",
       "f - l⋅mₚ⋅cos(θ₁) + ─────────────────────────────────────     \n",
       "                                     l                       \n",
       "──────────────────────────────────────────────────────── = x2̇\n",
       "                        m_c + mₚ                             "
      ]
     },
     "execution_count": 12,
     "metadata": {},
     "output_type": "execute_result"
    }
   ],
   "source": [
    "x2_dot_eom_1_subs = Eq((f + l * m_p * ((-g * sin(theta1(t)) + x2_dot(t)*cos(theta1(t))) / l)**2 * sin(theta1(t)) - l * m_p * cos(theta1(t)))/(m_c + m_p), x2_dot(t))\n",
    "x2_dot_eom_1_subs"
   ]
  },
  {
   "cell_type": "code",
   "execution_count": 13,
   "metadata": {},
   "outputs": [
    {
     "data": {
      "image/png": "[encoded data removed]",
      "text/latex": [
       "$\\displaystyle \\left[ \\dot{x2} = \\frac{2 g m_{p} \\operatorname{sin}^{2}\\left(\\theta_{1}\\right) \\operatorname{cos}\\left(\\theta_{1}\\right) + l m_{c} + l m_{p} - \\sqrt{l \\left(- 4 f m_{p} \\operatorname{sin}\\left(\\theta_{1}\\right) \\operatorname{cos}^{2}\\left(\\theta_{1}\\right) + 4 g m_{c} m_{p} \\operatorname{sin}^{2}\\left(\\theta_{1}\\right) \\operatorname{cos}\\left(\\theta_{1}\\right) + 4 g m_{p}^{2} \\operatorname{sin}^{2}\\left(\\theta_{1}\\right) \\operatorname{cos}\\left(\\theta_{1}\\right) + l m_{c}^{2} + 2 l m_{c} m_{p} + 4 l m_{p}^{2} \\operatorname{sin}\\left(\\theta_{1}\\right) \\operatorname{cos}^{3}\\left(\\theta_{1}\\right) + l m_{p}^{2}\\right)}}{2 m_{p} \\operatorname{sin}\\left(\\theta_{1}\\right) \\operatorname{cos}^{2}\\left(\\theta_{1}\\right)}, \\  \\dot{x2} = \\frac{2 g m_{p} \\operatorname{sin}^{2}\\left(\\theta_{1}\\right) \\operatorname{cos}\\left(\\theta_{1}\\right) + l m_{c} + l m_{p} + \\sqrt{l \\left(- 4 f m_{p} \\operatorname{sin}\\left(\\theta_{1}\\right) \\operatorname{cos}^{2}\\left(\\theta_{1}\\right) + 4 g m_{c} m_{p} \\operatorname{sin}^{2}\\left(\\theta_{1}\\right) \\operatorname{cos}\\left(\\theta_{1}\\right) + 4 g m_{p}^{2} \\operatorname{sin}^{2}\\left(\\theta_{1}\\right) \\operatorname{cos}\\left(\\theta_{1}\\right) + l m_{c}^{2} + 2 l m_{c} m_{p} + 4 l m_{p}^{2} \\operatorname{sin}\\left(\\theta_{1}\\right) \\operatorname{cos}^{3}\\left(\\theta_{1}\\right) + l m_{p}^{2}\\right)}}{2 m_{p} \\operatorname{sin}\\left(\\theta_{1}\\right) \\operatorname{cos}^{2}\\left(\\theta_{1}\\right)}\\right]$"
      ],
      "text/plain": [
       "⎡                                                 ____________________________\n",
       "⎢               2                                ╱   ⎛                    2   \n",
       "⎢     2⋅g⋅mₚ⋅sin (θ₁)⋅cos(θ₁) + l⋅m_c + l⋅mₚ - ╲╱  l⋅⎝- 4⋅f⋅mₚ⋅sin(θ₁)⋅cos (θ₁\n",
       "⎢x2̇ = ───────────────────────────────────────────────────────────────────────\n",
       "⎢                                                                             \n",
       "⎣                                                                             \n",
       "\n",
       "______________________________________________________________________________\n",
       "                  2                     2    2                    2           \n",
       ") + 4⋅g⋅m_c⋅mₚ⋅sin (θ₁)⋅cos(θ₁) + 4⋅g⋅mₚ ⋅sin (θ₁)⋅cos(θ₁) + l⋅m_c  + 2⋅l⋅m_c⋅\n",
       "──────────────────────────────────────────────────────────────────────────────\n",
       "                            2                                                 \n",
       "            2⋅mₚ⋅sin(θ₁)⋅cos (θ₁)                                             \n",
       "\n",
       "_______________________________________                                       \n",
       "           2            3           2⎞                  2                     \n",
       "mₚ + 4⋅l⋅mₚ ⋅sin(θ₁)⋅cos (θ₁) + l⋅mₚ ⎠        2⋅g⋅mₚ⋅sin (θ₁)⋅cos(θ₁) + l⋅m_c \n",
       "────────────────────────────────────────, x2̇ = ──────────────────────────────\n",
       "                                                                              \n",
       "                                                                              \n",
       "\n",
       "            __________________________________________________________________\n",
       "           ╱   ⎛                    2                     2                   \n",
       "+ l⋅mₚ + ╲╱  l⋅⎝- 4⋅f⋅mₚ⋅sin(θ₁)⋅cos (θ₁) + 4⋅g⋅m_c⋅mₚ⋅sin (θ₁)⋅cos(θ₁) + 4⋅g⋅\n",
       "──────────────────────────────────────────────────────────────────────────────\n",
       "                                                                    2         \n",
       "                                                    2⋅mₚ⋅sin(θ₁)⋅cos (θ₁)     \n",
       "\n",
       "______________________________________________________________________________\n",
       "  2    2                    2                      2            3           2⎞\n",
       "mₚ ⋅sin (θ₁)⋅cos(θ₁) + l⋅m_c  + 2⋅l⋅m_c⋅mₚ + 4⋅l⋅mₚ ⋅sin(θ₁)⋅cos (θ₁) + l⋅mₚ ⎠\n",
       "──────────────────────────────────────────────────────────────────────────────\n",
       "                                                                              \n",
       "                                                                              \n",
       "\n",
       "_⎤\n",
       " ⎥\n",
       " ⎥\n",
       "───⎥\n",
       " ⎥\n",
       " ⎦"
      ]
     },
     "execution_count": 13,
     "metadata": {},
     "output_type": "execute_result"
    }
   ],
   "source": [
    "x2_dot_eom_1_subs_solved = dsolve(x2_dot_eom_1_subs, x2_dot(t))\n",
    "x2_dot_eom_1_subs_solved"
   ]
  },
  {
   "cell_type": "code",
   "execution_count": 14,
   "metadata": {},
   "outputs": [],
   "source": [
    "eom_1_x2_dot = dsolve(eom_1, x2_dot(t))\n",
    "eom_1_theta2_dot = dsolve(eom_1, theta2_dot(t))\n",
    "eom_2_x2_dot = dsolve(eom_2, x2_dot(t))\n",
    "eom_2_theta2_dot = dsolve(eom_2, theta2_dot(t))"
   ]
  },
  {
   "cell_type": "code",
   "execution_count": 15,
   "metadata": {},
   "outputs": [
    {
     "data": {
      "image/png": "[encoded data removed]",
      "text/latex": [
       "$\\displaystyle \\dot{x2} = \\frac{f + l m_{p} \\dot{theta2}^{2} \\operatorname{sin}\\left(\\theta_{1}\\right) - l m_{p} \\operatorname{cos}\\left(\\theta_{1}\\right)}{m_{c} + m_{p}}$"
      ],
      "text/plain": [
       "                    2                       \n",
       "     f + l⋅mₚ⋅theṫa2 ⋅sin(θ₁) - l⋅mₚ⋅cos(θ₁)\n",
       "x2̇ = ───────────────────────────────────────\n",
       "                     m_c + mₚ               "
      ]
     },
     "execution_count": 15,
     "metadata": {},
     "output_type": "execute_result"
    }
   ],
   "source": [
    "eom_1_x2_dot"
   ]
  },
  {
   "cell_type": "code",
   "execution_count": 16,
   "metadata": {},
   "outputs": [
    {
     "data": {
      "image/png": "[encoded data removed]",
      "text/latex": [
       "$\\displaystyle \\left[ \\dot{theta2} = - \\sqrt{\\frac{- f + l m_{p} \\operatorname{cos}\\left(\\theta_{1}\\right) + m_{c} \\dot{x2} + m_{p} \\dot{x2}}{l m_{p} \\operatorname{sin}\\left(\\theta_{1}\\right)}}, \\  \\dot{theta2} = \\sqrt{\\frac{- f + l m_{p} \\operatorname{cos}\\left(\\theta_{1}\\right) + m_{c} \\dot{x2} + m_{p} \\dot{x2}}{l m_{p} \\operatorname{sin}\\left(\\theta_{1}\\right)}}\\right]$"
      ],
      "text/plain": [
       "⎡              ____________________________________               ____________\n",
       "⎢             ╱-f + l⋅mₚ⋅cos(θ₁) + m_c⋅x2̇ + mₚ⋅x2̇              ╱-f + l⋅mₚ⋅co\n",
       "⎢theṫa2 = -  ╱  ────────────────────────────────── , theṫa2 =   ╱  ─────────\n",
       "⎣          ╲╱              l⋅mₚ⋅sin(θ₁)                       ╲╱              \n",
       "\n",
       "________________________⎤\n",
       "s(θ₁) + m_c⋅x2̇ + mₚ⋅x2̇⎥\n",
       "───────────────────────── ⎥\n",
       "l⋅mₚ⋅sin(θ₁)            ⎦"
      ]
     },
     "execution_count": 16,
     "metadata": {},
     "output_type": "execute_result"
    }
   ],
   "source": [
    "eom_1_theta2_dot"
   ]
  },
  {
   "cell_type": "code",
   "execution_count": 17,
   "metadata": {},
   "outputs": [
    {
     "data": {
      "image/png": "[encoded data removed]",
      "text/latex": [
       "$\\displaystyle \\dot{x2} = - g \\operatorname{tan}\\left(\\theta_{1}\\right) - \\frac{l \\dot{theta2}}{\\operatorname{cos}\\left(\\theta_{1}\\right)}$"
      ],
      "text/plain": [
       "                  l⋅theṫa2\n",
       "x2̇ = -g⋅tan(θ₁) - ────────\n",
       "                  cos(θ₁) "
      ]
     },
     "execution_count": 17,
     "metadata": {},
     "output_type": "execute_result"
    }
   ],
   "source": [
    "eom_2_x2_dot"
   ]
  },
  {
   "cell_type": "code",
   "execution_count": 18,
   "metadata": {},
   "outputs": [
    {
     "data": {
      "image/png": "[encoded data removed]",
      "text/latex": [
       "$\\displaystyle \\dot{theta2} = - \\frac{g \\operatorname{sin}\\left(\\theta_{1}\\right) + \\dot{x2} \\operatorname{cos}\\left(\\theta_{1}\\right)}{l}$"
      ],
      "text/plain": [
       "         -(g⋅sin(θ₁) + x2̇⋅cos(θ₁)) \n",
       "theṫa2 = ──────────────────────────\n",
       "                     l             "
      ]
     },
     "execution_count": 18,
     "metadata": {},
     "output_type": "execute_result"
    }
   ],
   "source": [
    "eom_2_theta2_dot"
   ]
  },
  {
   "cell_type": "code",
   "execution_count": 19,
   "metadata": {},
   "outputs": [],
   "source": [
    "x_dot_dot, theta, theta_dot, theta_dot_dot = symbols('xdotdot theta thetadot thetadotdot', cls=Function)\n",
    "eom_direct_1 = Eq((m_p + m_c) * x_dot_dot(t) + m_p * l * cos(theta(t)) * theta_dot_dot(t) - m_p * l * theta_dot(t)**2 * sin(theta(t)), f)\n",
    "eom_direct_2 = Eq(m_p * l * x_dot_dot(t) * cos(theta(t)) + m_p * l**2 * theta_dot_dot(t) + m_p * g * l * sin(theta(t)), 0)"
   ]
  },
  {
   "cell_type": "code",
   "execution_count": 20,
   "metadata": {},
   "outputs": [
    {
     "data": {
      "image/png": "[encoded data removed]",
      "text/latex": [
       "$\\displaystyle - l m_{p} \\dot{\\theta}^{2} \\operatorname{sin}\\left(\\theta\\right) + l m_{p} \\dot{\\dot{\\theta}} \\operatorname{cos}\\left(\\theta\\right) + \\left(m_{c} + m_{p}\\right) \\dot{\\dot{x}} = f$"
      ],
      "text/plain": [
       "        2                                          \n",
       "- l⋅mₚ⋅θ̇ ⋅sin(θ) + l⋅mₚ⋅θ̇̇⋅cos(θ) + (m_c + mₚ)⋅ẋ̇ = f"
      ]
     },
     "execution_count": 20,
     "metadata": {},
     "output_type": "execute_result"
    }
   ],
   "source": [
    "eom_direct_1"
   ]
  },
  {
   "cell_type": "code",
   "execution_count": 21,
   "metadata": {},
   "outputs": [
    {
     "data": {
      "image/png": "[encoded data removed]",
      "text/latex": [
       "$\\displaystyle g l m_{p} \\operatorname{sin}\\left(\\theta\\right) + l^{2} m_{p} \\dot{\\dot{\\theta}} + l m_{p} \\dot{\\dot{x}} \\operatorname{cos}\\left(\\theta\\right) = 0$"
      ],
      "text/plain": [
       "                 2                         \n",
       "g⋅l⋅mₚ⋅sin(θ) + l ⋅mₚ⋅θ̇̇ + l⋅mₚ⋅ẋ̇⋅cos(θ) = 0"
      ]
     },
     "execution_count": 21,
     "metadata": {},
     "output_type": "execute_result"
    }
   ],
   "source": [
    "eom_direct_2"
   ]
  },
  {
   "cell_type": "code",
   "execution_count": 22,
   "metadata": {},
   "outputs": [],
   "source": [
    "eq_x2_dot_dot_1 = dsolve(eom_direct_1, x_dot_dot(t))"
   ]
  },
  {
   "cell_type": "code",
   "execution_count": 23,
   "metadata": {},
   "outputs": [
    {
     "data": {
      "image/png": "[encoded data removed]",
      "text/latex": [
       "$\\displaystyle \\dot{\\dot{x}} = \\frac{f + l m_{p} \\dot{\\theta}^{2} \\operatorname{sin}\\left(\\theta\\right) - l m_{p} \\dot{\\dot{\\theta}} \\operatorname{cos}\\left(\\theta\\right)}{m_{c} + m_{p}}$"
      ],
      "text/plain": [
       "              2                       \n",
       "    f + l⋅mₚ⋅θ̇ ⋅sin(θ) - l⋅mₚ⋅θ̇̇⋅cos(θ)\n",
       "ẋ̇ = ──────────────────────────────────\n",
       "                 m_c + mₚ             "
      ]
     },
     "execution_count": 23,
     "metadata": {},
     "output_type": "execute_result"
    }
   ],
   "source": [
    "eq_x2_dot_dot_1"
   ]
  },
  {
   "cell_type": "code",
   "execution_count": 24,
   "metadata": {},
   "outputs": [],
   "source": [
    "eq_x2_dot_dot_2 = dsolve(eom_direct_2, x_dot_dot(t))"
   ]
  },
  {
   "cell_type": "code",
   "execution_count": 25,
   "metadata": {},
   "outputs": [
    {
     "data": {
      "image/png": "[encoded data removed]",
      "text/latex": [
       "$\\displaystyle \\dot{\\dot{x}} = - g \\operatorname{tan}\\left(\\theta\\right) - \\frac{l \\dot{\\dot{\\theta}}}{\\operatorname{cos}\\left(\\theta\\right)}$"
      ],
      "text/plain": [
       "                l⋅θ̇̇ \n",
       "ẋ̇ = -g⋅tan(θ) - ──────\n",
       "                cos(θ)"
      ]
     },
     "execution_count": 25,
     "metadata": {},
     "output_type": "execute_result"
    }
   ],
   "source": [
    "eq_x2_dot_dot_2"
   ]
  },
  {
   "cell_type": "code",
   "execution_count": 26,
   "metadata": {},
   "outputs": [],
   "source": [
    "eq_theta2_dot_dot_2 = dsolve(eom_direct_2, theta_dot_dot(t))"
   ]
  },
  {
   "cell_type": "code",
   "execution_count": 27,
   "metadata": {},
   "outputs": [
    {
     "data": {
      "image/png": "[encoded data removed]",
      "text/latex": [
       "$\\displaystyle \\dot{\\dot{\\theta}} = - \\frac{g \\operatorname{sin}\\left(\\theta\\right) + \\dot{\\dot{x}} \\operatorname{cos}\\left(\\theta\\right)}{l}$"
      ],
      "text/plain": [
       "    -(g⋅sin(θ) + ẋ̇⋅cos(θ)) \n",
       "θ̇̇ = ───────────────────────\n",
       "               l           "
      ]
     },
     "execution_count": 27,
     "metadata": {},
     "output_type": "execute_result"
    }
   ],
   "source": [
    "eq_theta2_dot_dot_2"
   ]
  },
  {
   "cell_type": "code",
   "execution_count": 28,
   "metadata": {},
   "outputs": [
    {
     "data": {
      "image/png": "[encoded data removed]",
      "text/latex": [
       "$\\displaystyle \\frac{- g \\operatorname{sin}\\left(\\theta\\right) + \\frac{\\left(f + l m_{p} \\dot{\\theta}^{2} \\operatorname{sin}\\left(\\theta\\right) - l m_{p} \\operatorname{cos}\\left(\\theta\\right)\\right) \\operatorname{cos}\\left(\\theta\\right)}{m_{c} + m_{p}}}{l} = \\dot{\\dot{\\theta}}$"
      ],
      "text/plain": [
       "            ⎛          2                     ⎞           \n",
       "            ⎝f + l⋅mₚ⋅θ̇ ⋅sin(θ) - l⋅mₚ⋅cos(θ)⎠⋅cos(θ)    \n",
       "-g⋅sin(θ) + ─────────────────────────────────────────    \n",
       "                             m_c + mₚ                    \n",
       "───────────────────────────────────────────────────── = θ̇̇\n",
       "                          l                              "
      ]
     },
     "execution_count": 28,
     "metadata": {},
     "output_type": "execute_result"
    }
   ],
   "source": [
    "eq_theta_dot_dot = Eq((- g * sin(theta(t)) + ((f + l * m_p * theta_dot(t)**2 * sin(theta(t)) - l * m_p * cos(theta(t))) / (m_c + m_p)) * cos(theta(t))) / l, theta_dot_dot(t))\n",
    "eq_theta_dot_dot"
   ]
  },
  {
   "cell_type": "code",
   "execution_count": 29,
   "metadata": {
    "scrolled": false
   },
   "outputs": [
    {
     "data": {
      "image/png": "[encoded data removed]",
      "text/latex": [
       "$\\displaystyle \\dot{\\dot{\\theta}} = \\frac{- g \\left(m_{c} + m_{p}\\right) \\operatorname{sin}\\left(\\theta\\right) + \\left(f + l m_{p} \\dot{\\theta}^{2} \\operatorname{sin}\\left(\\theta\\right) - l m_{p} \\operatorname{cos}\\left(\\theta\\right)\\right) \\operatorname{cos}\\left(\\theta\\right)}{l \\left(m_{c} + m_{p}\\right)}$"
      ],
      "text/plain": [
       "                           ⎛          2                     ⎞       \n",
       "    -g⋅(m_c + mₚ)⋅sin(θ) + ⎝f + l⋅mₚ⋅θ̇ ⋅sin(θ) - l⋅mₚ⋅cos(θ)⎠⋅cos(θ)\n",
       "θ̇̇ = ────────────────────────────────────────────────────────────────\n",
       "                              l⋅(m_c + mₚ)                          "
      ]
     },
     "execution_count": 29,
     "metadata": {},
     "output_type": "execute_result"
    }
   ],
   "source": [
    "simplify(eq_theta_dot_dot)"
   ]
  },
  {
   "cell_type": "code",
   "execution_count": 30,
   "metadata": {},
   "outputs": [
    {
     "data": {
      "image/png": "[encoded data removed]",
      "text/latex": [
       "$\\displaystyle \\frac{- g \\left(m_{c} + m_{p}\\right) \\operatorname{sin}\\left(\\theta\\right) + \\left(f + l m_{p} \\dot{\\theta}^{2} \\operatorname{sin}\\left(\\theta\\right) - l m_{p} \\operatorname{cos}\\left(\\theta\\right)\\right) \\operatorname{cos}\\left(\\theta\\right)}{l \\left(m_{c} + m_{p}\\right)} = \\dot{\\dot{\\theta}}$"
      ],
      "text/plain": [
       "                       ⎛          2                     ⎞           \n",
       "-g⋅(m_c + mₚ)⋅sin(θ) + ⎝f + l⋅mₚ⋅θ̇ ⋅sin(θ) - l⋅mₚ⋅cos(θ)⎠⋅cos(θ)    \n",
       "──────────────────────────────────────────────────────────────── = θ̇̇\n",
       "                          l⋅(m_c + mₚ)                              "
      ]
     },
     "execution_count": 30,
     "metadata": {},
     "output_type": "execute_result"
    }
   ],
   "source": [
    "test = Eq((-g * (m_c + m_p) * sin(theta(t)) + (f + l * m_p * theta_dot(t)**2 * sin(theta(t)) - l * m_p * cos(theta(t))) * cos(theta(t))) / (l * (m_c + m_p)), theta_dot_dot(t))\n",
    "test"
   ]
  },
  {
   "cell_type": "code",
   "execution_count": 31,
   "metadata": {},
   "outputs": [
    {
     "name": "stdout",
     "output_type": "stream",
     "text": [
      "Both here are the same, appling the following trig identity: sin(2 * a) / 2 = sin(a) * cos(a)\n"
     ]
    },
    {
     "data": {
      "image/png": "[encoded data removed]",
      "text/latex": [
       "$\\displaystyle \\left\\{\\left( \\frac{f + \\frac{g m_{p} \\operatorname{sin}\\left(2 \\theta\\right)}{2} + l m_{p} \\dot{\\theta}^{2} \\operatorname{sin}\\left(\\theta\\right)}{m_{c} + m_{p} \\operatorname{sin}^{2}\\left(\\theta\\right)}, \\  - \\frac{f \\operatorname{cos}\\left(\\theta\\right) + g m_{c} \\operatorname{sin}\\left(\\theta\\right) + g m_{p} \\operatorname{sin}\\left(\\theta\\right) + \\frac{l m_{p} \\dot{\\theta}^{2} \\operatorname{sin}\\left(2 \\theta\\right)}{2}}{l \\left(m_{c} + m_{p} \\operatorname{sin}^{2}\\left(\\theta\\right)\\right)}\\right)\\right\\}$"
      ],
      "text/plain": [
       "⎧⎛                                     ⎛                                      \n",
       "⎪⎜    g⋅mₚ⋅sin(2⋅θ)         2          ⎜                                      \n",
       "⎪⎜f + ───────────── + l⋅mₚ⋅θ̇ ⋅sin(θ)  -⎜f⋅cos(θ) + g⋅m_c⋅sin(θ) + g⋅mₚ⋅sin(θ)\n",
       "⎨⎜          2                          ⎝                                      \n",
       "⎪⎜──────────────────────────────────, ────────────────────────────────────────\n",
       "⎪⎜                     2                                    ⎛            2   ⎞\n",
       "⎩⎝         m_c + mₚ⋅sin (θ)                               l⋅⎝m_c + mₚ⋅sin (θ)⎠\n",
       "\n",
       "        2         ⎞ ⎞⎫\n",
       "  l⋅mₚ⋅θ̇ ⋅sin(2⋅θ)⎟ ⎟⎪\n",
       " + ────────────────⎟ ⎟⎪\n",
       "         2        ⎠ ⎟⎬\n",
       "────────────────────⎟⎪\n",
       "                    ⎟⎪\n",
       "                    ⎠⎭"
      ]
     },
     "execution_count": 31,
     "metadata": {},
     "output_type": "execute_result"
    }
   ],
   "source": [
    "x_dot_dot, theta, theta_dot, theta_dot_dot = symbols('xdotdot theta thetadot thetadotdot', real=True)\n",
    "print(\"Both here are the same, appling the following trig identity: sin(2 * a) / 2 = sin(a) * cos(a)\")\n",
    "nonlinsolve([(m_c + m_p) * x_dot_dot + m_p * l * theta_dot_dot * cos(theta) - m_p * l * theta_dot**2 * sin(theta) - f, m_p * l * cos(theta) * x_dot_dot + m_p * l**2 * theta_dot_dot + m_p  * g * l * sin(theta)], [x_dot_dot, theta_dot_dot])"
   ]
  },
  {
   "cell_type": "code",
   "execution_count": 32,
   "metadata": {},
   "outputs": [
    {
     "data": {
      "image/png": "[encoded data removed]",
      "text/latex": [
       "$\\displaystyle \\left\\{\\left( \\frac{f + \\frac{g m_{p} \\operatorname{sin}\\left(2 \\theta\\right)}{2} + l m_{p} \\dot{\\theta}^{2} \\operatorname{sin}\\left(\\theta\\right)}{m_{c} + m_{p} \\operatorname{sin}^{2}\\left(\\theta\\right)}, \\  - \\frac{g \\left(m_{c} + m_{p}\\right) \\operatorname{sin}\\left(\\theta\\right) + \\left(f + l m_{p} \\dot{\\theta}^{2} \\operatorname{sin}\\left(\\theta\\right)\\right) \\operatorname{cos}\\left(\\theta\\right)}{l \\left(m_{c} + m_{p} \\operatorname{sin}^{2}\\left(\\theta\\right)\\right)}\\right)\\right\\}$"
      ],
      "text/plain": [
       "⎧⎛    g⋅mₚ⋅sin(2⋅θ)         2                                                 \n",
       "⎪⎜f + ───────────── + l⋅mₚ⋅θ̇ ⋅sin(θ)   ⎛                      ⎛          2   \n",
       "⎪⎜          2                         -⎝g⋅(m_c + mₚ)⋅sin(θ) + ⎝f + l⋅mₚ⋅θ̇ ⋅si\n",
       "⎨⎜──────────────────────────────────, ────────────────────────────────────────\n",
       "⎪⎜                     2                                 ⎛            2   ⎞   \n",
       "⎪⎝         m_c + mₚ⋅sin (θ)                            l⋅⎝m_c + mₚ⋅sin (θ)⎠   \n",
       "⎩                                                                             \n",
       "\n",
       "             ⎞⎫\n",
       "    ⎞       ⎞ ⎟⎪\n",
       "n(θ)⎠⋅cos(θ)⎠ ⎟⎪\n",
       "─────────────⎟⎬\n",
       "             ⎟⎪\n",
       "             ⎠⎪\n",
       "              ⎭"
      ]
     },
     "execution_count": 32,
     "metadata": {},
     "output_type": "execute_result"
    }
   ],
   "source": [
    "linsolve([(m_c + m_p) * x_dot_dot + m_p * l * theta_dot_dot * cos(theta) - m_p * l * theta_dot**2 * sin(theta) - f, m_p * l * cos(theta) * x_dot_dot + m_p * l**2 * theta_dot_dot + m_p  * g * l * sin(theta)], [x_dot_dot, theta_dot_dot])"
   ]
  },
  {
   "cell_type": "code",
   "execution_count": 33,
   "metadata": {},
   "outputs": [
    {
     "name": "stdout",
     "output_type": "stream",
     "text": [
      "Final equations of motion where m is pole mass and M is cart mass:\n"
     ]
    },
    {
     "data": {
      "text/html": [
       "<img src=\"https://cdn.discordapp.com/attachments/583293615678423060/659699880385708032/unknown.png\"/>"
      ],
      "text/plain": [
       "<IPython.core.display.Image object>"
      ]
     },
     "execution_count": 33,
     "metadata": {},
     "output_type": "execute_result"
    }
   ],
   "source": [
    "print('Final equations of motion where m is pole mass and M is cart mass:')\n",
    "\n",
    "from IPython.display import Image\n",
    "from IPython.core.display import HTML \n",
    "Image(url = \"https://cdn.discordapp.com/attachments/583293615678423060/659699880385708032/unknown.png\")"
   ]
  },
  {
   "cell_type": "code",
   "execution_count": 34,
   "metadata": {},
   "outputs": [
    {
     "name": "stdout",
     "output_type": "stream",
     "text": [
      "This is the general form of linearizing the system.\n"
     ]
    },
    {
     "data": {
      "text/html": [
       "<img src=\"https://cdn.discordapp.com/attachments/583293615678423060/659739287390126111/unknown.png\"/>"
      ],
      "text/plain": [
       "<IPython.core.display.Image object>"
      ]
     },
     "execution_count": 34,
     "metadata": {},
     "output_type": "execute_result"
    }
   ],
   "source": [
    "from IPython.display import Image\n",
    "from IPython.core.display import HTML\n",
    "print(\"This is the general form of linearizing the system.\")\n",
    "Image(url = \"https://cdn.discordapp.com/attachments/583293615678423060/659739287390126111/unknown.png\")"
   ]
  },
  {
   "cell_type": "code",
   "execution_count": 35,
   "metadata": {},
   "outputs": [
    {
     "data": {
      "image/png": "[encoded data removed]",
      "text/latex": [
       "$\\displaystyle - \\frac{g m_{p} \\operatorname{sin}^{2}\\left(\\theta_{1}\\right)}{m_{c} + m_{p} \\operatorname{sin}^{2}\\left(\\theta_{1}\\right)} - \\frac{2 m_{p}^{2} \\left(g \\operatorname{cos}\\left(\\theta_{1}\\right) + l \\theta_{2}^{2}\\right) \\operatorname{sin}^{2}\\left(\\theta_{1}\\right) \\operatorname{cos}\\left(\\theta_{1}\\right)}{\\left(m_{c} + m_{p} \\operatorname{sin}^{2}\\left(\\theta_{1}\\right)\\right)^{2}} + \\frac{m_{p} \\left(g \\operatorname{cos}\\left(\\theta_{1}\\right) + l \\theta_{2}^{2}\\right) \\operatorname{cos}\\left(\\theta_{1}\\right)}{m_{c} + m_{p} \\operatorname{sin}^{2}\\left(\\theta_{1}\\right)}$"
      ],
      "text/plain": [
       "            2             2 ⎛                2⎞    2                  ⎛       \n",
       "    g⋅mₚ⋅sin (θ₁)     2⋅mₚ ⋅⎝g⋅cos(θ₁) + l⋅θ₂ ⎠⋅sin (θ₁)⋅cos(θ₁)   mₚ⋅⎝g⋅cos(θ\n",
       "- ───────────────── - ────────────────────────────────────────── + ───────────\n",
       "              2                                     2                         \n",
       "  m_c + mₚ⋅sin (θ₁)              ⎛            2    ⎞                     m_c +\n",
       "                                 ⎝m_c + mₚ⋅sin (θ₁)⎠                          \n",
       "\n",
       "         2⎞        \n",
       "₁) + l⋅θ₂ ⎠⋅cos(θ₁)\n",
       "───────────────────\n",
       "       2           \n",
       " mₚ⋅sin (θ₁)       \n",
       "                   "
      ]
     },
     "execution_count": 35,
     "metadata": {},
     "output_type": "execute_result"
    }
   ],
   "source": [
    "from sympy import *\n",
    "theta1, theta2 = symbols('theta_1 theta_2')\n",
    "diff((m_p * sin(theta1) * (g * cos(theta1) + l * theta2**2)) / (m_c + m_p * sin(theta1)**2), theta1)"
   ]
  },
  {
   "cell_type": "code",
   "execution_count": 36,
   "metadata": {},
   "outputs": [
    {
     "data": {
      "image/png": "[encoded data removed]",
      "text/latex": [
       "$\\displaystyle \\frac{f + m_{p} \\left(g \\operatorname{cos}\\left(\\theta_{1}\\right) + l \\theta_{2}^{2}\\right) \\operatorname{sin}\\left(\\theta_{1}\\right)}{m_{c} + m_{p} \\operatorname{sin}^{2}\\left(\\theta_{1}\\right)} = \\dot{x2}$"
      ],
      "text/plain": [
       "       ⎛                2⎞             \n",
       "f + mₚ⋅⎝g⋅cos(θ₁) + l⋅θ₂ ⎠⋅sin(θ₁)     \n",
       "────────────────────────────────── = x2̇\n",
       "                    2                  \n",
       "        m_c + mₚ⋅sin (θ₁)              "
      ]
     },
     "execution_count": 36,
     "metadata": {},
     "output_type": "execute_result"
    }
   ],
   "source": [
    "theta1, theta2, x2_dot = symbols('theta_1 theta_2 x2dot')\n",
    "eq_diff_x2d = Eq((f + m_p * sin(theta1) * (g * cos(theta1) + l * theta2**2)) / (m_c + m_p * sin(theta1)**2), x2_dot)\n",
    "eq_diff_x2d"
   ]
  },
  {
   "cell_type": "code",
   "execution_count": 37,
   "metadata": {},
   "outputs": [
    {
     "data": {
      "image/png": "[encoded data removed]",
      "text/latex": [
       "$\\displaystyle \\frac{1}{m_{c} + m_{p} \\operatorname{sin}^{2}\\left(\\theta_{1}\\right)}$"
      ],
      "text/plain": [
       "        1        \n",
       "─────────────────\n",
       "            2    \n",
       "m_c + mₚ⋅sin (θ₁)"
      ]
     },
     "execution_count": 37,
     "metadata": {},
     "output_type": "execute_result"
    }
   ],
   "source": [
    "#Df2/Dq3\n",
    "simplify(diff((f + m_p * sin(theta1) * (g * cos(theta1) + l * theta2**2)) / (m_c + m_p * sin(theta1)**2), f))"
   ]
  },
  {
   "cell_type": "code",
   "execution_count": 38,
   "metadata": {},
   "outputs": [
    {
     "data": {
      "image/png": "[encoded data removed]",
      "text/latex": [
       "$\\displaystyle \\frac{1}{m_{c} + m_{p} \\operatorname{sin}^{2}\\left(\\theta_{1}\\right)}$"
      ],
      "text/plain": [
       "        1        \n",
       "─────────────────\n",
       "            2    \n",
       "m_c + mₚ⋅sin (θ₁)"
      ]
     },
     "execution_count": 38,
     "metadata": {},
     "output_type": "execute_result"
    }
   ],
   "source": [
    "#Df2/Du1\n",
    "df2_du1 = simplify(diff((f + m_p * sin(theta1) * (g * cos(theta1) + l * theta2**2)) / (m_c + m_p * sin(theta1)**2), f))\n",
    "df2_du1"
   ]
  },
  {
   "cell_type": "code",
   "execution_count": 39,
   "metadata": {},
   "outputs": [
    {
     "data": {
      "image/png": "[encoded data removed]",
      "text/latex": [
       "$\\displaystyle \\frac{1}{m_{c}}$"
      ],
      "text/plain": [
       " 1 \n",
       "───\n",
       "m_c"
      ]
     },
     "execution_count": 39,
     "metadata": {},
     "output_type": "execute_result"
    }
   ],
   "source": [
    "df2_du1_subs_1 = df2_du1.subs(sin(theta1), 0)\n",
    "df2_du1_subs_1"
   ]
  },
  {
   "cell_type": "code",
   "execution_count": 40,
   "metadata": {},
   "outputs": [
    {
     "data": {
      "image/png": "[encoded data removed]",
      "text/latex": [
       "$\\displaystyle \\frac{- f \\operatorname{cos}\\left(\\theta_{1}\\right) - g \\left(m_{c} + m_{p}\\right) \\operatorname{sin}\\left(\\theta_{1}\\right) - l m_{p} \\theta_{2}^{2} \\operatorname{sin}\\left(\\theta_{1}\\right) \\operatorname{cos}\\left(\\theta_{1}\\right)}{l \\left(m_{c} + m_{p} \\operatorname{sin}^{2}\\left(\\theta_{1}\\right)\\right)}$"
      ],
      "text/plain": [
       "                                           2                \n",
       "-f⋅cos(θ₁) - g⋅(m_c + mₚ)⋅sin(θ₁) - l⋅mₚ⋅θ₂ ⋅sin(θ₁)⋅cos(θ₁)\n",
       "────────────────────────────────────────────────────────────\n",
       "                     ⎛            2    ⎞                    \n",
       "                   l⋅⎝m_c + mₚ⋅sin (θ₁)⎠                    "
      ]
     },
     "execution_count": 40,
     "metadata": {},
     "output_type": "execute_result"
    }
   ],
   "source": [
    "f4 = -(f * cos(theta1) + (m_c + m_p) * g * sin(theta1) + l * m_p * theta2**2 * sin(theta1) * cos(theta1)) / (l * (m_c + m_p * sin(theta1)**2))\n",
    "f4"
   ]
  },
  {
   "cell_type": "code",
   "execution_count": 41,
   "metadata": {},
   "outputs": [
    {
     "data": {
      "image/png": "[encoded data removed]",
      "text/latex": [
       "$\\displaystyle - \\frac{\\operatorname{cos}\\left(\\theta_{1}\\right)}{l \\left(m_{c} + m_{p} \\operatorname{sin}^{2}\\left(\\theta_{1}\\right)\\right)}$"
      ],
      "text/plain": [
       "      -cos(θ₁)       \n",
       "─────────────────────\n",
       "  ⎛            2    ⎞\n",
       "l⋅⎝m_c + mₚ⋅sin (θ₁)⎠"
      ]
     },
     "execution_count": 41,
     "metadata": {},
     "output_type": "execute_result"
    }
   ],
   "source": [
    "#Df4/Du1\n",
    "df4_du1 = simplify(diff(f4, f))\n",
    "df4_du1"
   ]
  },
  {
   "cell_type": "code",
   "execution_count": 42,
   "metadata": {},
   "outputs": [
    {
     "data": {
      "image/png": "[encoded data removed]",
      "text/latex": [
       "$\\displaystyle \\frac{1}{l \\left(m_{c} + m_{p} \\operatorname{sin}^{2}\\left(\\theta_{1}\\right)\\right)}$"
      ],
      "text/plain": [
       "          1          \n",
       "─────────────────────\n",
       "  ⎛            2    ⎞\n",
       "l⋅⎝m_c + mₚ⋅sin (θ₁)⎠"
      ]
     },
     "execution_count": 42,
     "metadata": {},
     "output_type": "execute_result"
    }
   ],
   "source": [
    "df4_du1_subs_1 = simplify(df4_du1.subs(cos(theta1), -1))\n",
    "df4_du1_subs_1"
   ]
  },
  {
   "cell_type": "code",
   "execution_count": 43,
   "metadata": {},
   "outputs": [
    {
     "data": {
      "image/png": "[encoded data removed]",
      "text/latex": [
       "$\\displaystyle \\frac{1}{l m_{c}}$"
      ],
      "text/plain": [
       "  1  \n",
       "─────\n",
       "l⋅m_c"
      ]
     },
     "execution_count": 43,
     "metadata": {},
     "output_type": "execute_result"
    }
   ],
   "source": [
    "df4_du1_subs_2 = simplify(df4_du1_subs_1.subs(sin(theta1), 0))\n",
    "df4_du1_subs_2"
   ]
  },
  {
   "cell_type": "code",
   "execution_count": 44,
   "metadata": {
    "scrolled": true
   },
   "outputs": [
    {
     "data": {
      "image/png": "[encoded data removed]",
      "text/latex": [
       "$\\displaystyle \\frac{f m_{c} \\operatorname{sin}\\left(\\theta_{1}\\right) - f m_{p} \\operatorname{sin}^{3}\\left(\\theta_{1}\\right) + 2 f m_{p} \\operatorname{sin}\\left(\\theta_{1}\\right) - g m_{c}^{2} \\operatorname{cos}\\left(\\theta_{1}\\right) - g m_{c} m_{p} \\operatorname{cos}^{3}\\left(\\theta_{1}\\right) - g m_{p}^{2} \\operatorname{cos}^{3}\\left(\\theta_{1}\\right) + g m_{p}^{2} \\operatorname{cos}\\left(\\theta_{1}\\right) + 2 l m_{c} m_{p} \\theta_{2}^{2} \\operatorname{sin}^{2}\\left(\\theta_{1}\\right) - l m_{c} m_{p} \\theta_{2}^{2} + l m_{p}^{2} \\theta_{2}^{2} \\operatorname{sin}^{2}\\left(\\theta_{1}\\right)}{l \\left(m_{c} + m_{p} \\operatorname{sin}^{2}\\left(\\theta_{1}\\right)\\right)^{2}}$"
      ],
      "text/plain": [
       "                        3                             2                       \n",
       "f⋅m_c⋅sin(θ₁) - f⋅mₚ⋅sin (θ₁) + 2⋅f⋅mₚ⋅sin(θ₁) - g⋅m_c ⋅cos(θ₁) - g⋅m_c⋅mₚ⋅cos\n",
       "──────────────────────────────────────────────────────────────────────────────\n",
       "                                                                              \n",
       "                                                                              \n",
       "                                                                              \n",
       "\n",
       "3           2    3           2                        2    2                  \n",
       " (θ₁) - g⋅mₚ ⋅cos (θ₁) + g⋅mₚ ⋅cos(θ₁) + 2⋅l⋅m_c⋅mₚ⋅θ₂ ⋅sin (θ₁) - l⋅m_c⋅mₚ⋅θ₂\n",
       "──────────────────────────────────────────────────────────────────────────────\n",
       "                     2                                                        \n",
       "  ⎛            2    ⎞                                                         \n",
       "l⋅⎝m_c + mₚ⋅sin (θ₁)⎠                                                         \n",
       "\n",
       "2       2   2    2    \n",
       "  + l⋅mₚ ⋅θ₂ ⋅sin (θ₁)\n",
       "──────────────────────\n",
       "                      \n",
       "                      \n",
       "                      "
      ]
     },
     "execution_count": 44,
     "metadata": {},
     "output_type": "execute_result"
    }
   ],
   "source": [
    "eq_diff_df4_dq3 = simplify(diff(f4, theta1))\n",
    "eq_diff_df4_dq3"
   ]
  },
  {
   "cell_type": "code",
   "execution_count": 45,
   "metadata": {},
   "outputs": [
    {
     "name": "stdout",
     "output_type": "stream",
     "text": [
      "Firstly, we substitute in -1 for every cos(theta1) since we linearize around [x 0 pi 0] and cos(pi) is -1.\n"
     ]
    },
    {
     "data": {
      "image/png": "[encoded data removed]",
      "text/latex": [
       "$\\displaystyle \\frac{f m_{c} \\operatorname{sin}\\left(\\theta_{1}\\right) - f m_{p} \\operatorname{sin}^{3}\\left(\\theta_{1}\\right) + 2 f m_{p} \\operatorname{sin}\\left(\\theta_{1}\\right) + g m_{c}^{2} + g m_{c} m_{p} + 2 l m_{c} m_{p} \\theta_{2}^{2} \\operatorname{sin}^{2}\\left(\\theta_{1}\\right) - l m_{c} m_{p} \\theta_{2}^{2} + l m_{p}^{2} \\theta_{2}^{2} \\operatorname{sin}^{2}\\left(\\theta_{1}\\right)}{l \\left(m_{c} + m_{p} \\operatorname{sin}^{2}\\left(\\theta_{1}\\right)\\right)^{2}}$"
      ],
      "text/plain": [
       "                        3                             2                       \n",
       "f⋅m_c⋅sin(θ₁) - f⋅mₚ⋅sin (θ₁) + 2⋅f⋅mₚ⋅sin(θ₁) + g⋅m_c  + g⋅m_c⋅mₚ + 2⋅l⋅m_c⋅m\n",
       "──────────────────────────────────────────────────────────────────────────────\n",
       "                                                                          2   \n",
       "                                                       ⎛            2    ⎞    \n",
       "                                                     l⋅⎝m_c + mₚ⋅sin (θ₁)⎠    \n",
       "\n",
       "    2    2                  2       2   2    2    \n",
       "ₚ⋅θ₂ ⋅sin (θ₁) - l⋅m_c⋅mₚ⋅θ₂  + l⋅mₚ ⋅θ₂ ⋅sin (θ₁)\n",
       "──────────────────────────────────────────────────\n",
       "                                                  \n",
       "                                                  \n",
       "                                                  "
      ]
     },
     "execution_count": 45,
     "metadata": {},
     "output_type": "execute_result"
    }
   ],
   "source": [
    "print('Firstly, we substitute in -1 for every cos(theta1) since we linearize around [x 0 pi 0] and cos(pi) is -1.')\n",
    "eq_temp_simplify_1 = simplify(eq_diff_df4_dq3.subs(cos(theta1), -1))\n",
    "eq_temp_simplify_1"
   ]
  },
  {
   "cell_type": "code",
   "execution_count": 46,
   "metadata": {},
   "outputs": [
    {
     "name": "stdout",
     "output_type": "stream",
     "text": [
      "Then we substitute 0 for every sin(theta1), again due to sin(pi) being 0.\n"
     ]
    },
    {
     "data": {
      "image/png": "[encoded data removed]",
      "text/latex": [
       "$\\displaystyle \\frac{g m_{c} + g m_{p} - l m_{p} \\theta_{2}^{2}}{l m_{c}}$"
      ],
      "text/plain": [
       "                      2\n",
       "g⋅m_c + g⋅mₚ - l⋅mₚ⋅θ₂ \n",
       "───────────────────────\n",
       "         l⋅m_c         "
      ]
     },
     "execution_count": 46,
     "metadata": {},
     "output_type": "execute_result"
    }
   ],
   "source": [
    "print('Then we substitute 0 for every sin(theta1), again due to sin(pi) being 0.')\n",
    "eq_temp_simplify_2 = simplify(eq_temp_simplify_1.subs(sin(theta1), 0))\n",
    "eq_temp_simplify_2"
   ]
  },
  {
   "cell_type": "code",
   "execution_count": 47,
   "metadata": {},
   "outputs": [
    {
     "name": "stdout",
     "output_type": "stream",
     "text": [
      "Lastly, the theta_2 terms are also 0 since theta_2 = 0\n"
     ]
    },
    {
     "data": {
      "image/png": "[encoded data removed]",
      "text/latex": [
       "$\\displaystyle \\frac{g \\left(m_{c} + m_{p}\\right)}{l m_{c}}$"
      ],
      "text/plain": [
       "g⋅(m_c + mₚ)\n",
       "────────────\n",
       "   l⋅m_c    "
      ]
     },
     "execution_count": 47,
     "metadata": {},
     "output_type": "execute_result"
    }
   ],
   "source": [
    "print('Lastly, the theta_2 terms are also 0 since theta_2 = 0')\n",
    "eq_final_simplify = simplify(eq_temp_simplify_2.subs(theta2, 0))\n",
    "eq_final_simplify"
   ]
  },
  {
   "cell_type": "code",
   "execution_count": 48,
   "metadata": {
    "scrolled": true
   },
   "outputs": [
    {
     "name": "stdout",
     "output_type": "stream",
     "text": [
      "A:\n",
      " [[ 0.          1.          0.          0.        ]\n",
      " [ 0.          0.          4.905       0.        ]\n",
      " [ 0.          0.          0.          1.        ]\n",
      " [ 0.          0.         28.85294118  0.        ]]\n",
      "--------------------------------------\n",
      "B:\n",
      " [[0.        ]\n",
      " [0.5       ]\n",
      " [0.        ]\n",
      " [0.98039216]]\n",
      "\n",
      "Rank of R is 4\n",
      "--------------------------------\n",
      "Eigenvalues:\n",
      " [ 0.          0.          5.37149338 -5.37149338]\n"
     ]
    }
   ],
   "source": [
    "import numpy as np\n",
    "\n",
    "g = 9.81\n",
    "m_pole = 1\n",
    "m_cart = 2\n",
    "l = 0.51\n",
    "\n",
    "A = np.array([[0, 1, 0, 0],\n",
    "              [0, 0, (g * m_pole) / m_cart, 0],\n",
    "              [0, 0, 0, 1],\n",
    "              [0, 0, (g * (m_pole + m_cart)) / (l * m_cart), 0]])\n",
    "\n",
    "B = np.array([[0],\n",
    "              [1/m_cart],\n",
    "              [0],\n",
    "              [1/(l * m_cart)]])\n",
    "\n",
    "print('A:\\n', A)\n",
    "print('--------------------------------------')\n",
    "print('B:\\n', B)\n",
    "\n",
    "R = np.array([B, np.matmul(A,B), np.matmul(A**2, B), np.matmul(A**3, B)])\n",
    "#print(\"Rank of R is\", np.linalg.matrix_rank(R))\n",
    "u, s, v = np.linalg.svd(R)\n",
    "rank = np.sum(s > 1e-10)\n",
    "print(\"\\nRank of R is\", rank)\n",
    "eigenvalues, eigenvectors = np.linalg.eig(A)\n",
    "print(\"--------------------------------\")\n",
    "print(\"Eigenvalues:\\n\", eigenvalues)"
   ]
  },
  {
   "cell_type": "code",
   "execution_count": 49,
   "metadata": {},
   "outputs": [],
   "source": [
    "def get_rank(matrix):\n",
    "    u, s, v = np.linalg.svd(matrix)\n",
    "    return np.sum(s > 1e-10)"
   ]
  },
  {
   "cell_type": "code",
   "execution_count": 50,
   "metadata": {},
   "outputs": [],
   "source": [
    "def calc_x(A, t, n, exponent):\n",
    "    x_t = np.identity(n)\n",
    "    for i in range(1, exponent):\n",
    "        x_t = x_t + (A**i * t**i) / math.factorial(i)\n",
    "        \n",
    "    return x_t"
   ]
  },
  {
   "cell_type": "code",
   "execution_count": 51,
   "metadata": {},
   "outputs": [],
   "source": [
    "def calc_A_t(x):\n",
    "    #x[0] = x\n",
    "    #x[1] = x_dot\n",
    "    #x[2] = theta\n",
    "    #x[3] = theta_dot\n",
    "    A_t = np.array([[0, 1, 0, 0],\n",
    "              [0, 0, (m_pole * (g * m_cart * math.cos(2 * x[2]) + 0.5 * g * m_pole * math.cos(2 * x[2]) - 0.5 * g * m_pole + l * m_cart * x[3]**2 * math.cos(x[2]) - 0.25 * l * m_pole * x[3]**2 * math.cos(x[2]) + 0.25 * l * m_pole * x[3]**2 * math.cos(3 * x[2]))) / (m_cart + m_pole * math.sin(x[2])**2)**2, 0],\n",
    "              [0, 0, 0, 1],\n",
    "              [0, 0, (g * m_cart**2 * math.cos(x[2]) - g * m_cart * m_pole * math.cos(x[2])**3 - g * m_pole**2 * math.cos(x[2])**3 + g * m_pole**2 * math.cos(x[2]) + 2 * l * m_cart * m_pole * x[3]**2 * math.sin(x[2])**2 - l * m_cart * m_pole * x[3]**2 + l * m_pole**2 * x[3]**2 * math.sin(x[2])**2) / (l * (m_cart + m_pole * math.sin(x[2])**2)**2), 0]])\n",
    "    \n",
    "    return A_t"
   ]
  },
  {
   "cell_type": "code",
   "execution_count": 52,
   "metadata": {},
   "outputs": [],
   "source": [
    "def calc_B_t(x):\n",
    "    #x[0] = x\n",
    "    #x[1] = x_dot\n",
    "    #x[2] = theta\n",
    "    #x[3] = theta_dot\n",
    "    B_t = np.array([[0],\n",
    "              [1/(m_cart + m_pole * math.sin(x[2])**2)],\n",
    "              [0],\n",
    "              [-math.cos(x[2]) / (l * (m_cart + m_pole * math.sin(x[2])**2))]])\n",
    "    return B_t"
   ]
  },
  {
   "cell_type": "code",
   "execution_count": 53,
   "metadata": {},
   "outputs": [],
   "source": [
    "import scipy.linalg\n",
    "\n",
    "def calc_K_t(A, B, Q, R):\n",
    "    \n",
    "    X_t = scipy.linalg.solve_continuous_are(A, B, Q, R)\n",
    "    K_t = np.matmul(np.matmul(scipy.linalg.inv(R), B.T), X)\n",
    "    return K"
   ]
  },
  {
   "cell_type": "code",
   "execution_count": 54,
   "metadata": {},
   "outputs": [],
   "source": [
    "def plot_states(t, x):\n",
    "\n",
    "    ax1 = plt.subplot(2,2,1)\n",
    "    ax2 = plt.subplot(2,2,2)\n",
    "    ax3 = plt.subplot(2,2,3)\n",
    "    ax4 = plt.subplot(2,2,4)\n",
    "\n",
    "    ax1.plot(t, x[0])\n",
    "    #plt.ylabel(\"x (Pos in m)\")\n",
    "\n",
    "    ax2.plot(t, x[1])\n",
    "    #plt.ylabel(\"x_dot (Vel in m/s)\")\n",
    "\n",
    "    ax3.plot(t, x[2])\n",
    "    #plt.ylabel(\"theta (Angle in rad)\")\n",
    "\n",
    "    ax4.plot(t, x[3])\n",
    "    #plt.ylabel(\"Theta_dot (Angular vel in rad/s)\")"
   ]
  },
  {
   "cell_type": "code",
   "execution_count": 55,
   "metadata": {},
   "outputs": [],
   "source": [
    "def plot_solution(solution):\n",
    "\n",
    "    ax1 = plt.subplot(2,2,1)\n",
    "    ax2 = plt.subplot(2,2,2)\n",
    "    ax3 = plt.subplot(2,2,3)\n",
    "    ax4 = plt.subplot(2,2,4)\n",
    "\n",
    "    ax1.plot(solution.t, solution.y[0])\n",
    "    #plt.ylabel(\"x (Pos in m)\")\n",
    "\n",
    "    ax2.plot(solution.t, solution.y[1])\n",
    "    #plt.ylabel(\"x_dot (Vel in m/s)\")\n",
    "\n",
    "    ax3.plot(solution.t, solution.y[2])\n",
    "    #plt.ylabel(\"theta (Angle in rad)\")\n",
    "\n",
    "    ax4.plot(solution.t, solution.y[3])\n",
    "    #plt.ylabel(\"Theta_dot (Angular vel in rad/s)\")"
   ]
  },
  {
   "cell_type": "code",
   "execution_count": 56,
   "metadata": {},
   "outputs": [],
   "source": [
    "def subtract_lists(x1, x2):\n",
    "    x = []\n",
    "    for i in range(len(x1)):\n",
    "        x.append(x1[i]-x2[i])\n",
    "        \n",
    "    return x"
   ]
  },
  {
   "cell_type": "code",
   "execution_count": 57,
   "metadata": {},
   "outputs": [],
   "source": [
    "#Serializing for visualization\n",
    "\n",
    "import json\n",
    "def export_json_data(solution, file_name):\n",
    "    data = dict()\n",
    "\n",
    "    for i in range(len(solution.t)):\n",
    "        data[i] = [solution.y[0][i], \n",
    "                   solution.y[1][i], \n",
    "                   solution.y[2][i], \n",
    "                   solution.y[3][i]]\n",
    "\n",
    "    with open(\"{0}.json\".format(file_name), 'w') as outfile:\n",
    "        json.dump(data, outfile)"
   ]
  },
  {
   "cell_type": "code",
   "execution_count": 58,
   "metadata": {},
   "outputs": [],
   "source": [
    "dt = 0.001\n",
    "length = 80"
   ]
  },
  {
   "cell_type": "code",
   "execution_count": 59,
   "metadata": {},
   "outputs": [
    {
     "name": "stderr",
     "output_type": "stream",
     "text": [
      "100%|██████████| 80000/80000 [00:11<00:00, 7197.98it/s]\n"
     ]
    }
   ],
   "source": [
    "import math\n",
    "from tqdm import tqdm\n",
    "import matplotlib.pyplot as plt\n",
    "#x(t) = e^(A*t) where e^(A*t) = I + A * t + (A^2+t^2)/2! + (A^3 + t^3)/3!\n",
    "\n",
    "x_t = []\n",
    "\n",
    "#IMPORTANT: afer linearizing around a point, this point is the new 0!\n",
    "x0 = np.array([[0.3],\n",
    "               [0.13],\n",
    "               [math.pi],\n",
    "               [3.2]])\n",
    "\n",
    "for i in tqdm(range(0, int(length * (1/dt)))):\n",
    "    t = i * dt\n",
    "    x_t.append(np.matmul(calc_x(A, t, 4, 30), x0))"
   ]
  },
  {
   "cell_type": "code",
   "execution_count": 60,
   "metadata": {},
   "outputs": [
    {
     "data": {
      "image/png": "[encoded data removed]",
      "text/plain": [
       "<Figure size 432x288 with 4 Axes>"
      ]
     },
     "metadata": {
      "needs_background": "light"
     },
     "output_type": "display_data"
    }
   ],
   "source": [
    "x = []\n",
    "xd = []\n",
    "theta = []\n",
    "thetad = []\n",
    "\n",
    "for i in range(len(x_t)):\n",
    "    x.append(x_t[i][0])\n",
    "    xd.append(x_t[i][1])\n",
    "    theta.append(x_t[i][2])\n",
    "    thetad.append(x_t[i][3])\n",
    "\n",
    "\n",
    "plot_states(np.arange(0, length, dt), [x, xd, theta, thetad])"
   ]
  },
  {
   "cell_type": "code",
   "execution_count": 61,
   "metadata": {
    "scrolled": true
   },
   "outputs": [
    {
     "name": "stderr",
     "output_type": "stream",
     "text": [
      "100%|██████████| 80000/80000 [00:02<00:00, 31456.80it/s]\n"
     ]
    },
    {
     "data": {
      "image/png": "[encoded data removed]",
      "text/plain": [
       "<Figure size 432x288 with 4 Axes>"
      ]
     },
     "metadata": {
      "needs_background": "light"
     },
     "output_type": "display_data"
    }
   ],
   "source": [
    "#Basically implementing: https://www.youtube.com/watch?v=nyqJJdhReiA&list=PLMrJAkhIeNNR20Mz-VpzgfQs5zrYi085m&index=2\n",
    "\n",
    "T = eigenvectors\n",
    "D = np.array([[eigenvalues[0], 0, 0, 0],\n",
    "              [0, eigenvalues[1], 0, 0],\n",
    "              [0, 0, eigenvalues[2], 0],\n",
    "              [0, 0, 0, eigenvalues[3]]])\n",
    "\n",
    "x_t = []\n",
    "\n",
    "for t in tqdm(np.arange(0, length, dt)):\n",
    "    e_Dt = np.array([[math.e**(eigenvalues[0] * t), 0, 0, 0],\n",
    "                 [0, math.e**(eigenvalues[1] * t), 0, 0],\n",
    "                 [0, 0, math.e**(eigenvalues[2] * t), 0],\n",
    "                 [0, 0, 0, math.e**(eigenvalues[3] * t)]])\n",
    "    e_At = np.matmul(np.matmul(T, e_Dt), np.linalg.inv(T))\n",
    "    x_t.append(np.matmul(e_At, x0))\n",
    "\n",
    "x = []\n",
    "xd = []\n",
    "theta = []\n",
    "thetad = []\n",
    "\n",
    "for i in range(len(x_t)):\n",
    "    x.append(x_t[i][0])\n",
    "    xd.append(x_t[i][1])\n",
    "    theta.append(x_t[i][2])\n",
    "    thetad.append(x_t[i][3])\n",
    "\n",
    "plot_states(np.arange(0, length, dt), [x, xd, theta, thetad])"
   ]
  },
  {
   "cell_type": "code",
   "execution_count": 62,
   "metadata": {},
   "outputs": [
    {
     "name": "stdout",
     "output_type": "stream",
     "text": [
      "Q:\n",
      " [[ 2  0  0  0]\n",
      " [ 0  1  0  0]\n",
      " [ 0  0 10  0]\n",
      " [ 0  0  0  1]]\n",
      "-----------------\n",
      "R:\n",
      " [[0.1]]\n"
     ]
    }
   ],
   "source": [
    "Q = np.matrix('2 0 0 0; 0 1 0 0; 0 0 10 0; 0 0 0 1')\n",
    "R = np.matrix('0.1')\n",
    "print(\"Q:\\n\", Q)\n",
    "print(\"-----------------\")\n",
    "print(\"R:\\n\", R)"
   ]
  },
  {
   "cell_type": "code",
   "execution_count": 158,
   "metadata": {},
   "outputs": [
    {
     "name": "stdout",
     "output_type": "stream",
     "text": [
      "10000\n"
     ]
    }
   ],
   "source": [
    "test_length = 10\n",
    "test_dt = 0.001\n",
    "\n",
    "timespan = [0, test_length]\n",
    "test_t_eval = np.arange(0, test_length, test_dt)\n",
    "print(len(test_t_eval))"
   ]
  },
  {
   "cell_type": "code",
   "execution_count": 64,
   "metadata": {},
   "outputs": [
    {
     "name": "stdout",
     "output_type": "stream",
     "text": [
      "K:\n",
      "\n",
      "[[-4.47213595 -7.93037482 87.44022063 17.69462815]]\n",
      "--------------------------------------------------------------------\n",
      "A-BK eigenvalues:\n",
      " [-7.03021138+0.j         -4.40059047+0.j         -0.9758427 +0.66182939j\n",
      " -0.9758427 -0.66182939j]\n"
     ]
    },
    {
     "data": {
      "image/png": "[encoded data removed]",
      "text/plain": [
       "<Figure size 432x288 with 4 Axes>"
      ]
     },
     "metadata": {
      "needs_background": "light"
     },
     "output_type": "display_data"
    }
   ],
   "source": [
    "import scipy.integrate\n",
    "from scipy.special import gamma, airy\n",
    "import scipy.linalg\n",
    "\n",
    "#This section calculates the optimal K matrix to drive the system to a given state\n",
    "\n",
    "X = scipy.linalg.solve_continuous_are(A, B, Q, R)\n",
    "K = np.matmul(np.matmul(scipy.linalg.inv(R), B.T), X)\n",
    "print('K:\\n')\n",
    "print(K)\n",
    "x0 = [-0.1, 0.03, 0.1, 0.1]\n",
    "\n",
    "def func(t, x):\n",
    "    return np.matmul(A-np.matmul(B,K), x)\n",
    "\n",
    "solution = scipy.integrate.solve_ivp(func, timespan, x0, t_eval=test_t_eval)\n",
    "plot_solution(solution)\n",
    "#print(A-np.matmul(B,K))\n",
    "eigenvalues, eigenvectors = np.linalg.eig(A-np.matmul(B, K))\n",
    "print(\"--------------------------------------------------------------------\")\n",
    "print(\"A-BK eigenvalues:\\n\", eigenvalues)\n",
    "\n",
    "kalman_solution = solution"
   ]
  },
  {
   "cell_type": "code",
   "execution_count": 65,
   "metadata": {
    "scrolled": false
   },
   "outputs": [
    {
     "name": "stdout",
     "output_type": "stream",
     "text": [
      "50000 Data points were calculated.\n"
     ]
    },
    {
     "data": {
      "image/png": "[encoded data removed]",
      "text/plain": [
       "<Figure size 432x288 with 4 Axes>"
      ]
     },
     "metadata": {
      "needs_background": "light"
     },
     "output_type": "display_data"
    }
   ],
   "source": [
    "#Linearizing around current position/changing point\n",
    "\n",
    "import scipy.integrate\n",
    "from scipy.special import gamma, airy\n",
    "import math\n",
    "\n",
    "x0 = [-0.3, 0.13, math.pi / 2, 1.2]\n",
    "\n",
    "K_theta_map = dict()\n",
    "\n",
    "def func(t, x):\n",
    "    A_t = calc_A_t(x)\n",
    "    K_t = calc_K_t(A, B, Q, R)\n",
    "    B_t = calc_B_t(x)\n",
    "    K_theta_map[x[2]] = K_t\n",
    "    \n",
    "    return np.matmul(A_t-np.matmul(B,K_t), x)\n",
    "\n",
    "solution = scipy.integrate.solve_ivp(func, timespan, x0, t_eval=test_t_eval)\n",
    "plot_solution(solution)\n",
    "print(len(solution.t), \"Data points were calculated.\")\n",
    "#export_json_data(solution, \"data_zero\")"
   ]
  },
  {
   "cell_type": "code",
   "execution_count": 66,
   "metadata": {},
   "outputs": [
    {
     "data": {
      "text/html": [
       "<img src=\"https://cdn.discordapp.com/attachments/273117638308134912/661514994076090370/unknown.png\"/>"
      ],
      "text/plain": [
       "<IPython.core.display.Image object>"
      ]
     },
     "execution_count": 66,
     "metadata": {},
     "output_type": "execute_result"
    }
   ],
   "source": [
    "from IPython.display import Image\n",
    "from IPython.core.display import HTML \n",
    "Image(url = \"https://cdn.discordapp.com/attachments/273117638308134912/661514994076090370/unknown.png\")"
   ]
  },
  {
   "cell_type": "code",
   "execution_count": 67,
   "metadata": {
    "scrolled": false
   },
   "outputs": [
    {
     "name": "stdout",
     "output_type": "stream",
     "text": [
      "Q_e:\n",
      " [[  1   0   0   0   0   0   0]\n",
      " [  0  10   0   0   0   0   0]\n",
      " [  0   0 100   0   0   0   0]\n",
      " [  0   0   0   0   0   0   0]\n",
      " [  0   0   0   0   0   0   0]\n",
      " [  0   0   0   0   0  10   0]\n",
      " [  0   0   0   0   0   0  10]]\n",
      "------------------------------------------------------------------\n",
      "R_e:\n",
      " [[0.001]]\n",
      "A_e:\n",
      " [[ 0.          1.          0.          0.          0.          0.\n",
      "   0.        ]\n",
      " [ 0.          0.          4.905       0.          0.          0.\n",
      "   0.        ]\n",
      " [ 0.          0.          0.          1.          0.          0.\n",
      "   0.        ]\n",
      " [ 0.          0.         28.85294118  0.          0.          0.\n",
      "   0.        ]\n",
      " [-1.          0.          0.          0.          0.          0.\n",
      "   0.        ]\n",
      " [ 0.         -1.          0.          0.          0.          0.\n",
      "   0.        ]\n",
      " [ 0.          0.         -1.          0.          0.          0.\n",
      "   0.        ]]\n",
      "------------------------------------------------------------------\n",
      "B_e:\n",
      " [[0.        ]\n",
      " [0.5       ]\n",
      " [0.        ]\n",
      " [0.98039216]\n",
      " [0.        ]\n",
      " [0.        ]\n",
      " [0.        ]]\n",
      "Rank of extended system is: 8\n",
      "\n",
      "K_e:\n",
      " [[-9.53462358e+00 -1.57134803e+02  7.11645602e+02  1.42937149e+02\n",
      "  -1.43539864e-14  9.53462605e+01 -3.05175781e-05]]\n"
     ]
    }
   ],
   "source": [
    "#LQI Init\n",
    "A_e = np.array([[0, 1, 0, 0, 0, 0, 0],\n",
    "              [0, 0, (g * m_pole) / m_cart, 0, 0, 0, 0],\n",
    "              [0, 0, 0, 1, 0, 0, 0],\n",
    "              [0, 0, (g * (m_pole + m_cart)) / (l * m_cart), 0, 0, 0, 0],\n",
    "              [-1, 0, 0, 0, 0, 0, 0],\n",
    "              [0, -1, 0, 0, 0, 0, 0],\n",
    "              [0, 0, -1, 0, 0, 0, 0]])\n",
    "\n",
    "B_e = np.array([[0],\n",
    "              [1/m_cart],\n",
    "              [0],\n",
    "              [1/(l * m_cart)],\n",
    "              [0],\n",
    "              [0],\n",
    "              [0]])\n",
    "\n",
    "C = np.array([[1, 0, 0, 0],\n",
    "              [0, 1, 0, 0],\n",
    "              [0, 0, 1, 0]])\n",
    "\n",
    "Q_e = np.array([[1, 0, 0, 0, 0, 0, 0],\n",
    "                [0, 10, 0, 0, 0, 0, 0],\n",
    "                [0, 0, 100, 0, 0, 0, 0],\n",
    "                [0, 0, 0, 0, 0, 0, 0],\n",
    "                [0, 0, 0, 0, 0, 0, 0],\n",
    "                [0, 0, 0, 0, 0, 10, 0],\n",
    "                [0, 0, 0, 0, 0, 0, 10]])\n",
    "\n",
    "R_e = np.matrix('0.001')\n",
    "\n",
    "print(\"Q_e:\\n\", Q_e)\n",
    "print(\"------------------------------------------------------------------\")\n",
    "print(\"R_e:\\n\", R_e)\n",
    "\n",
    "print(\"A_e:\\n\", A_e)\n",
    "print(\"------------------------------------------------------------------\")\n",
    "print(\"B_e:\\n\", B_e)\n",
    "\n",
    "ctrb_matrix = np.array([B_e, np.matmul(A_e,B_e), np.matmul(A_e**2, B_e), np.matmul(A_e**3, B_e), np.matmul(A_e**4, B_e), np.matmul(A_e**5, B_e), np.matmul(A_e**6, B_e), np.matmul(A_e**7, B_e)])\n",
    "\n",
    "print(\"Rank of extended system is:\", get_rank(ctrb_matrix))\n",
    "\n",
    "X_e = scipy.linalg.solve_continuous_are(A_e, B_e, Q_e, R_e)\n",
    "K_e = np.matmul(np.matmul(scipy.linalg.inv(R_e), B_e.T), X_e)\n",
    "\n",
    "print('\\nK_e:\\n', K_e)\n",
    "\n",
    "x_e0 = [-0.3, 0.13, 2.9, 1.2, 0]\n",
    "\n",
    "r_t = dict()\n",
    "\n",
    "x_ref = 5\n",
    "xd_ref = 0\n",
    "theta_ref = 0\n",
    "thetad_ref = 0\n",
    "\n",
    "for t in np.arange(0, test_length, test_dt):\n",
    "    if t > test_length * 0.5:\n",
    "        value = x_ref * 0.25\n",
    "    else:\n",
    "        value = x_ref\n",
    "    r_t[round(t, 1)] = np.array([value])\n",
    "    "
   ]
  },
  {
   "cell_type": "code",
   "execution_count": 69,
   "metadata": {},
   "outputs": [
    {
     "ename": "ValueError",
     "evalue": "matmul: Input operand 1 has a mismatch in its core dimension 0, with gufunc signature (n?,k),(k,m?)->(n?,m?) (size 5 is different from 7)",
     "output_type": "error",
     "traceback": [
      "\u001b[0;31m---------------------------------------------------------------------------\u001b[0m",
      "\u001b[0;31mValueError\u001b[0m                                Traceback (most recent call last)",
      "\u001b[0;32m<ipython-input-69-68cad285b6cc>\u001b[0m in \u001b[0;36m<module>\u001b[0;34m\u001b[0m\n\u001b[1;32m      4\u001b[0m     \u001b[0;32mreturn\u001b[0m \u001b[0mnp\u001b[0m\u001b[0;34m.\u001b[0m\u001b[0mmatmul\u001b[0m\u001b[0;34m(\u001b[0m\u001b[0mA_e\u001b[0m \u001b[0;34m-\u001b[0m \u001b[0mnp\u001b[0m\u001b[0;34m.\u001b[0m\u001b[0mmatmul\u001b[0m\u001b[0;34m(\u001b[0m\u001b[0mB_e\u001b[0m\u001b[0;34m,\u001b[0m \u001b[0mK_e\u001b[0m\u001b[0;34m)\u001b[0m\u001b[0;34m,\u001b[0m \u001b[0mx_e\u001b[0m\u001b[0;34m)\u001b[0m \u001b[0;34m+\u001b[0m \u001b[0mnp\u001b[0m\u001b[0;34m.\u001b[0m\u001b[0marray\u001b[0m\u001b[0;34m(\u001b[0m\u001b[0;34m[\u001b[0m\u001b[0;36m0\u001b[0m\u001b[0;34m,\u001b[0m \u001b[0;36m0\u001b[0m\u001b[0;34m,\u001b[0m \u001b[0;36m0\u001b[0m\u001b[0;34m,\u001b[0m \u001b[0;36m0\u001b[0m\u001b[0;34m,\u001b[0m \u001b[0;36m1\u001b[0m\u001b[0;34m]\u001b[0m\u001b[0;34m)\u001b[0m \u001b[0;34m*\u001b[0m \u001b[0mr_t\u001b[0m\u001b[0;34m[\u001b[0m\u001b[0mround\u001b[0m\u001b[0;34m(\u001b[0m\u001b[0mt\u001b[0m\u001b[0;34m,\u001b[0m \u001b[0;36m0\u001b[0m\u001b[0;34m)\u001b[0m\u001b[0;34m]\u001b[0m\u001b[0;34m\u001b[0m\u001b[0;34m\u001b[0m\u001b[0m\n\u001b[1;32m      5\u001b[0m \u001b[0;34m\u001b[0m\u001b[0m\n\u001b[0;32m----> 6\u001b[0;31m \u001b[0mtraj_solution\u001b[0m \u001b[0;34m=\u001b[0m \u001b[0mscipy\u001b[0m\u001b[0;34m.\u001b[0m\u001b[0mintegrate\u001b[0m\u001b[0;34m.\u001b[0m\u001b[0msolve_ivp\u001b[0m\u001b[0;34m(\u001b[0m\u001b[0mtraj_func\u001b[0m\u001b[0;34m,\u001b[0m \u001b[0mtimespan\u001b[0m\u001b[0;34m,\u001b[0m \u001b[0mx_e0\u001b[0m\u001b[0;34m,\u001b[0m \u001b[0mt_eval\u001b[0m\u001b[0;34m=\u001b[0m\u001b[0mtest_t_eval\u001b[0m\u001b[0;34m)\u001b[0m\u001b[0;34m\u001b[0m\u001b[0;34m\u001b[0m\u001b[0m\n\u001b[0m\u001b[1;32m      7\u001b[0m \u001b[0mplot_solution\u001b[0m\u001b[0;34m(\u001b[0m\u001b[0mtraj_solution\u001b[0m\u001b[0;34m)\u001b[0m\u001b[0;34m\u001b[0m\u001b[0;34m\u001b[0m\u001b[0m\n\u001b[1;32m      8\u001b[0m \u001b[0;34m\u001b[0m\u001b[0m\n",
      "\u001b[0;32m~/.local/lib/python3.6/site-packages/scipy/integrate/_ivp/ivp.py\u001b[0m in \u001b[0;36msolve_ivp\u001b[0;34m(fun, t_span, y0, method, t_eval, dense_output, events, vectorized, args, **options)\u001b[0m\n\u001b[1;32m    541\u001b[0m         \u001b[0mmethod\u001b[0m \u001b[0;34m=\u001b[0m \u001b[0mMETHODS\u001b[0m\u001b[0;34m[\u001b[0m\u001b[0mmethod\u001b[0m\u001b[0;34m]\u001b[0m\u001b[0;34m\u001b[0m\u001b[0;34m\u001b[0m\u001b[0m\n\u001b[1;32m    542\u001b[0m \u001b[0;34m\u001b[0m\u001b[0m\n\u001b[0;32m--> 543\u001b[0;31m     \u001b[0msolver\u001b[0m \u001b[0;34m=\u001b[0m \u001b[0mmethod\u001b[0m\u001b[0;34m(\u001b[0m\u001b[0mfun\u001b[0m\u001b[0;34m,\u001b[0m \u001b[0mt0\u001b[0m\u001b[0;34m,\u001b[0m \u001b[0my0\u001b[0m\u001b[0;34m,\u001b[0m \u001b[0mtf\u001b[0m\u001b[0;34m,\u001b[0m \u001b[0mvectorized\u001b[0m\u001b[0;34m=\u001b[0m\u001b[0mvectorized\u001b[0m\u001b[0;34m,\u001b[0m \u001b[0;34m**\u001b[0m\u001b[0moptions\u001b[0m\u001b[0;34m)\u001b[0m\u001b[0;34m\u001b[0m\u001b[0;34m\u001b[0m\u001b[0m\n\u001b[0m\u001b[1;32m    544\u001b[0m \u001b[0;34m\u001b[0m\u001b[0m\n\u001b[1;32m    545\u001b[0m     \u001b[0;32mif\u001b[0m \u001b[0mt_eval\u001b[0m \u001b[0;32mis\u001b[0m \u001b[0;32mNone\u001b[0m\u001b[0;34m:\u001b[0m\u001b[0;34m\u001b[0m\u001b[0;34m\u001b[0m\u001b[0m\n",
      "\u001b[0;32m~/.local/lib/python3.6/site-packages/scipy/integrate/_ivp/rk.py\u001b[0m in \u001b[0;36m__init__\u001b[0;34m(self, fun, t0, y0, t_bound, max_step, rtol, atol, vectorized, first_step, **extraneous)\u001b[0m\n\u001b[1;32m     93\u001b[0m         \u001b[0mself\u001b[0m\u001b[0;34m.\u001b[0m\u001b[0mmax_step\u001b[0m \u001b[0;34m=\u001b[0m \u001b[0mvalidate_max_step\u001b[0m\u001b[0;34m(\u001b[0m\u001b[0mmax_step\u001b[0m\u001b[0;34m)\u001b[0m\u001b[0;34m\u001b[0m\u001b[0;34m\u001b[0m\u001b[0m\n\u001b[1;32m     94\u001b[0m         \u001b[0mself\u001b[0m\u001b[0;34m.\u001b[0m\u001b[0mrtol\u001b[0m\u001b[0;34m,\u001b[0m \u001b[0mself\u001b[0m\u001b[0;34m.\u001b[0m\u001b[0matol\u001b[0m \u001b[0;34m=\u001b[0m \u001b[0mvalidate_tol\u001b[0m\u001b[0;34m(\u001b[0m\u001b[0mrtol\u001b[0m\u001b[0;34m,\u001b[0m \u001b[0matol\u001b[0m\u001b[0;34m,\u001b[0m \u001b[0mself\u001b[0m\u001b[0;34m.\u001b[0m\u001b[0mn\u001b[0m\u001b[0;34m)\u001b[0m\u001b[0;34m\u001b[0m\u001b[0;34m\u001b[0m\u001b[0m\n\u001b[0;32m---> 95\u001b[0;31m         \u001b[0mself\u001b[0m\u001b[0;34m.\u001b[0m\u001b[0mf\u001b[0m \u001b[0;34m=\u001b[0m \u001b[0mself\u001b[0m\u001b[0;34m.\u001b[0m\u001b[0mfun\u001b[0m\u001b[0;34m(\u001b[0m\u001b[0mself\u001b[0m\u001b[0;34m.\u001b[0m\u001b[0mt\u001b[0m\u001b[0;34m,\u001b[0m \u001b[0mself\u001b[0m\u001b[0;34m.\u001b[0m\u001b[0my\u001b[0m\u001b[0;34m)\u001b[0m\u001b[0;34m\u001b[0m\u001b[0;34m\u001b[0m\u001b[0m\n\u001b[0m\u001b[1;32m     96\u001b[0m         \u001b[0;32mif\u001b[0m \u001b[0mfirst_step\u001b[0m \u001b[0;32mis\u001b[0m \u001b[0;32mNone\u001b[0m\u001b[0;34m:\u001b[0m\u001b[0;34m\u001b[0m\u001b[0;34m\u001b[0m\u001b[0m\n\u001b[1;32m     97\u001b[0m             self.h_abs = select_initial_step(\n",
      "\u001b[0;32m~/.local/lib/python3.6/site-packages/scipy/integrate/_ivp/base.py\u001b[0m in \u001b[0;36mfun\u001b[0;34m(t, y)\u001b[0m\n\u001b[1;32m    137\u001b[0m         \u001b[0;32mdef\u001b[0m \u001b[0mfun\u001b[0m\u001b[0;34m(\u001b[0m\u001b[0mt\u001b[0m\u001b[0;34m,\u001b[0m \u001b[0my\u001b[0m\u001b[0;34m)\u001b[0m\u001b[0;34m:\u001b[0m\u001b[0;34m\u001b[0m\u001b[0;34m\u001b[0m\u001b[0m\n\u001b[1;32m    138\u001b[0m             \u001b[0mself\u001b[0m\u001b[0;34m.\u001b[0m\u001b[0mnfev\u001b[0m \u001b[0;34m+=\u001b[0m \u001b[0;36m1\u001b[0m\u001b[0;34m\u001b[0m\u001b[0;34m\u001b[0m\u001b[0m\n\u001b[0;32m--> 139\u001b[0;31m             \u001b[0;32mreturn\u001b[0m \u001b[0mself\u001b[0m\u001b[0;34m.\u001b[0m\u001b[0mfun_single\u001b[0m\u001b[0;34m(\u001b[0m\u001b[0mt\u001b[0m\u001b[0;34m,\u001b[0m \u001b[0my\u001b[0m\u001b[0;34m)\u001b[0m\u001b[0;34m\u001b[0m\u001b[0;34m\u001b[0m\u001b[0m\n\u001b[0m\u001b[1;32m    140\u001b[0m \u001b[0;34m\u001b[0m\u001b[0m\n\u001b[1;32m    141\u001b[0m         \u001b[0mself\u001b[0m\u001b[0;34m.\u001b[0m\u001b[0mfun\u001b[0m \u001b[0;34m=\u001b[0m \u001b[0mfun\u001b[0m\u001b[0;34m\u001b[0m\u001b[0;34m\u001b[0m\u001b[0m\n",
      "\u001b[0;32m~/.local/lib/python3.6/site-packages/scipy/integrate/_ivp/base.py\u001b[0m in \u001b[0;36mfun_wrapped\u001b[0;34m(t, y)\u001b[0m\n\u001b[1;32m     19\u001b[0m \u001b[0;34m\u001b[0m\u001b[0m\n\u001b[1;32m     20\u001b[0m     \u001b[0;32mdef\u001b[0m \u001b[0mfun_wrapped\u001b[0m\u001b[0;34m(\u001b[0m\u001b[0mt\u001b[0m\u001b[0;34m,\u001b[0m \u001b[0my\u001b[0m\u001b[0;34m)\u001b[0m\u001b[0;34m:\u001b[0m\u001b[0;34m\u001b[0m\u001b[0;34m\u001b[0m\u001b[0m\n\u001b[0;32m---> 21\u001b[0;31m         \u001b[0;32mreturn\u001b[0m \u001b[0mnp\u001b[0m\u001b[0;34m.\u001b[0m\u001b[0masarray\u001b[0m\u001b[0;34m(\u001b[0m\u001b[0mfun\u001b[0m\u001b[0;34m(\u001b[0m\u001b[0mt\u001b[0m\u001b[0;34m,\u001b[0m \u001b[0my\u001b[0m\u001b[0;34m)\u001b[0m\u001b[0;34m,\u001b[0m \u001b[0mdtype\u001b[0m\u001b[0;34m=\u001b[0m\u001b[0mdtype\u001b[0m\u001b[0;34m)\u001b[0m\u001b[0;34m\u001b[0m\u001b[0;34m\u001b[0m\u001b[0m\n\u001b[0m\u001b[1;32m     22\u001b[0m \u001b[0;34m\u001b[0m\u001b[0m\n\u001b[1;32m     23\u001b[0m     \u001b[0;32mreturn\u001b[0m \u001b[0mfun_wrapped\u001b[0m\u001b[0;34m,\u001b[0m \u001b[0my0\u001b[0m\u001b[0;34m\u001b[0m\u001b[0;34m\u001b[0m\u001b[0m\n",
      "\u001b[0;32m<ipython-input-69-68cad285b6cc>\u001b[0m in \u001b[0;36mtraj_func\u001b[0;34m(t, x_e)\u001b[0m\n\u001b[1;32m      2\u001b[0m \u001b[0;34m\u001b[0m\u001b[0m\n\u001b[1;32m      3\u001b[0m \u001b[0;32mdef\u001b[0m \u001b[0mtraj_func\u001b[0m\u001b[0;34m(\u001b[0m\u001b[0mt\u001b[0m\u001b[0;34m,\u001b[0m \u001b[0mx_e\u001b[0m\u001b[0;34m)\u001b[0m\u001b[0;34m:\u001b[0m\u001b[0;34m\u001b[0m\u001b[0;34m\u001b[0m\u001b[0m\n\u001b[0;32m----> 4\u001b[0;31m     \u001b[0;32mreturn\u001b[0m \u001b[0mnp\u001b[0m\u001b[0;34m.\u001b[0m\u001b[0mmatmul\u001b[0m\u001b[0;34m(\u001b[0m\u001b[0mA_e\u001b[0m \u001b[0;34m-\u001b[0m \u001b[0mnp\u001b[0m\u001b[0;34m.\u001b[0m\u001b[0mmatmul\u001b[0m\u001b[0;34m(\u001b[0m\u001b[0mB_e\u001b[0m\u001b[0;34m,\u001b[0m \u001b[0mK_e\u001b[0m\u001b[0;34m)\u001b[0m\u001b[0;34m,\u001b[0m \u001b[0mx_e\u001b[0m\u001b[0;34m)\u001b[0m \u001b[0;34m+\u001b[0m \u001b[0mnp\u001b[0m\u001b[0;34m.\u001b[0m\u001b[0marray\u001b[0m\u001b[0;34m(\u001b[0m\u001b[0;34m[\u001b[0m\u001b[0;36m0\u001b[0m\u001b[0;34m,\u001b[0m \u001b[0;36m0\u001b[0m\u001b[0;34m,\u001b[0m \u001b[0;36m0\u001b[0m\u001b[0;34m,\u001b[0m \u001b[0;36m0\u001b[0m\u001b[0;34m,\u001b[0m \u001b[0;36m1\u001b[0m\u001b[0;34m]\u001b[0m\u001b[0;34m)\u001b[0m \u001b[0;34m*\u001b[0m \u001b[0mr_t\u001b[0m\u001b[0;34m[\u001b[0m\u001b[0mround\u001b[0m\u001b[0;34m(\u001b[0m\u001b[0mt\u001b[0m\u001b[0;34m,\u001b[0m \u001b[0;36m0\u001b[0m\u001b[0;34m)\u001b[0m\u001b[0;34m]\u001b[0m\u001b[0;34m\u001b[0m\u001b[0;34m\u001b[0m\u001b[0m\n\u001b[0m\u001b[1;32m      5\u001b[0m \u001b[0;34m\u001b[0m\u001b[0m\n\u001b[1;32m      6\u001b[0m \u001b[0mtraj_solution\u001b[0m \u001b[0;34m=\u001b[0m \u001b[0mscipy\u001b[0m\u001b[0;34m.\u001b[0m\u001b[0mintegrate\u001b[0m\u001b[0;34m.\u001b[0m\u001b[0msolve_ivp\u001b[0m\u001b[0;34m(\u001b[0m\u001b[0mtraj_func\u001b[0m\u001b[0;34m,\u001b[0m \u001b[0mtimespan\u001b[0m\u001b[0;34m,\u001b[0m \u001b[0mx_e0\u001b[0m\u001b[0;34m,\u001b[0m \u001b[0mt_eval\u001b[0m\u001b[0;34m=\u001b[0m\u001b[0mtest_t_eval\u001b[0m\u001b[0;34m)\u001b[0m\u001b[0;34m\u001b[0m\u001b[0;34m\u001b[0m\u001b[0m\n",
      "\u001b[0;31mValueError\u001b[0m: matmul: Input operand 1 has a mismatch in its core dimension 0, with gufunc signature (n?,k),(k,m?)->(n?,m?) (size 5 is different from 7)"
     ]
    }
   ],
   "source": [
    "x_i_error = 0.0\n",
    "\n",
    "def traj_func(t, x_e):\n",
    "    return np.matmul(A_e - np.matmul(B_e, K_e), x_e) + np.array([0, 0, 0, 0, 1]) * r_t[round(t, 0)]\n",
    "\n",
    "traj_solution = scipy.integrate.solve_ivp(traj_func, timespan, x_e0, t_eval=test_t_eval)\n",
    "plot_solution(traj_solution)\n",
    "\n",
    "print(\"REMEMBER TO CALCULATE THE K MATRIX IF ANY MATRIX ADJUSTMENTS WERE MADE!\\n\")\n",
    "print(len(traj_solution.t), \"Data points were calculated.\")\n",
    "print('----------------------------------------------------------')\n",
    "print(\"Final x:\", traj_solution.y[0][-1])\n",
    "print(\"Final x_dot:\", traj_solution.y[1][-1])\n",
    "print(\"Final theta:\", traj_solution.y[2][-1])\n",
    "print(\"Final theta dot:\", traj_solution.y[3][-1])\n",
    "\n",
    "#export_json_data(traj_solution, \"trajectory_test1\")"
   ]
  },
  {
   "cell_type": "code",
   "execution_count": 70,
   "metadata": {
    "scrolled": false
   },
   "outputs": [
    {
     "name": "stdout",
     "output_type": "stream",
     "text": [
      "This is K rn:\n",
      " [[-4.47213595 -7.93037482 87.44022063 17.69462815]]\n",
      "Solving...\n",
      "50000\n"
     ]
    },
    {
     "data": {
      "image/png": "[encoded data removed]",
      "text/plain": [
       "<Figure size 432x288 with 4 Axes>"
      ]
     },
     "metadata": {
      "needs_background": "light"
     },
     "output_type": "display_data"
    }
   ],
   "source": [
    "import scipy.integrate\n",
    "from scipy.special import gamma, airy\n",
    "import math\n",
    "\n",
    "#THESE HAVE TO BE IN NONLINEAR COORDINATES, so close to pi\n",
    "x0 =  [-0.2, 0.2, 2.8, -0.1]\n",
    "linearization_array = np.array([0, 0, math.pi, 0])\n",
    "\n",
    "print(\"This is K rn:\\n\", K)\n",
    "\n",
    "forces = []\n",
    "\n",
    "def func_nonlinear(t, x):\n",
    "    f = -np.matmul(K, np.subtract(np.array(x), linearization_array))\n",
    "    forces.append(f)\n",
    "    return [x[1],\n",
    "            (f + m_pole * math.sin(x[2]) * (l * x[3]**2 + g * math.cos(x[2]))) / (m_cart + m_pole * sin(x[2])**2),\n",
    "            x[3],\n",
    "            (-f * math.cos(x[2]) - m_pole * l * x[3]**2 * math.cos(x[2]) * math.sin(x[2]) - (m_cart + m_pole) * g * math.sin(x[2])) / (l * (m_cart + m_pole * sin(x[2])**2))]\n",
    "\n",
    "print(\"Solving...\")\n",
    "solution_nonlinear = scipy.integrate.solve_ivp(func_nonlinear, timespan, x0, t_eval=test_t_eval)\n",
    "#solution_nonlinear = scipy.integrate.solve_iqvp(func_nonlinear, timespan, x0)\n",
    "print(len(solution_nonlinear.t))\n",
    "plot_solution(solution_nonlinear)\n",
    "#export_json_data(solution_nonlinear, \"nonlinear_test.json\")"
   ]
  },
  {
   "cell_type": "code",
   "execution_count": 71,
   "metadata": {},
   "outputs": [
    {
     "name": "stdout",
     "output_type": "stream",
     "text": [
      "[32.33004758]\n"
     ]
    },
    {
     "data": {
      "image/png": "[encoded data removed]",
      "text/plain": [
       "<Figure size 432x288 with 1 Axes>"
      ]
     },
     "metadata": {
      "needs_background": "light"
     },
     "output_type": "display_data"
    }
   ],
   "source": [
    "plt.plot(range(len(forces)), forces)\n",
    "print(max(forces))"
   ]
  },
  {
   "cell_type": "code",
   "execution_count": 72,
   "metadata": {
    "scrolled": true
   },
   "outputs": [
    {
     "name": "stdout",
     "output_type": "stream",
     "text": [
      "This is K_e:\n",
      " [[-9.53462358e+00 -1.57134803e+02  7.11645602e+02  1.42937149e+02\n",
      "  -1.43539864e-14  9.53462605e+01 -3.05175781e-05]]\n",
      "Solving...\n",
      "50000\n"
     ]
    },
    {
     "data": {
      "image/png": "[encoded data removed]",
      "text/plain": [
       "<Figure size 432x288 with 4 Axes>"
      ]
     },
     "metadata": {
      "needs_background": "light"
     },
     "output_type": "display_data"
    }
   ],
   "source": [
    "import scipy.integrate\n",
    "from scipy.special import gamma, airy\n",
    "import math\n",
    "\n",
    "#This section attempts to simulate LQI\n",
    "\n",
    "#THESE HAVE TO BE IN NONLINEAR COORDINATES\n",
    "x_e0 =  [-0.2, 0.2, 2.9, -0.1]\n",
    "linearization_array_e = np.array([0, 0, math.pi, 0, 0, 0, 0])\n",
    "\n",
    "print(\"This is K_e:\\n\", K_e)\n",
    "\n",
    "forces_lqi = []\n",
    "\n",
    "x_i_error_1 = 0.0\n",
    "x_i_error_2 = 0.0\n",
    "x_i_error_3 = 0.0\n",
    "prev_t = 0.0\n",
    "\n",
    "for i in np.arange(0, test_length, test_dt):\n",
    "    r_t[round(t, 1)] = np.array([0, 0, 0.1])\n",
    "    \n",
    "C = np.array([[1, 0, 0, 0],\n",
    "              [0, 1, 0, 0],\n",
    "              [0, 0, 1, 0]])\n",
    "\n",
    "def func_nonlinear_lqi(t, x):\n",
    "    global x_i_error_1\n",
    "    global x_i_error_2\n",
    "    global x_i_error_3\n",
    "    global prev_t\n",
    "    \n",
    "    error_vector = (-np.matmul(C, x) + r_t[round(t, 1)]) * (t - prev_t)\n",
    "    \n",
    "    x_i_error_1 += error_vector[0]\n",
    "    x_i_error_2 += error_vector[1]\n",
    "    x_i_error_3 += error_vector[2]\n",
    "    \n",
    "    prev_t = t\n",
    "    \n",
    "    x_e = np.array([x[0], x[1], x[2], x[3], x_i_error_1, x_i_error_2, x_i_error_3])\n",
    "    \n",
    "    f = -np.matmul(K_e, np.subtract(np.array(x_e), linearization_array_e))\n",
    "    \n",
    "    forces_lqi.append(f)\n",
    "    \n",
    "    return [x[1],\n",
    "            (f + m_pole * math.sin(x[2]) * (l * x[3]**2 + g * math.cos(x[2]))) / (m_cart + m_pole * sin(x[2])**2),\n",
    "            x[3],\n",
    "            (-f * math.cos(x[2]) - m_pole * l * x[3]**2 * math.cos(x[2]) * math.sin(x[2]) - (m_cart + m_pole) * g * math.sin(x[2])) / (l * (m_cart + m_pole * sin(x[2])**2))]\n",
    "\n",
    "print(\"Solving...\")\n",
    "solution_nonlinear_lqi = scipy.integrate.solve_ivp(func_nonlinear_lqi, timespan, x_e0, t_eval=test_t_eval)\n",
    "#solution_nonlinear_lqi = scipy.integrate.solve_ivp(func_nonlinear_lqi, timespan, x_e0)\n",
    "print(len(solution_nonlinear_lqi.t))\n",
    "plot_solution(solution_nonlinear_lqi)"
   ]
  },
  {
   "cell_type": "code",
   "execution_count": 73,
   "metadata": {},
   "outputs": [
    {
     "name": "stdout",
     "output_type": "stream",
     "text": [
      "[215.74210022]\n"
     ]
    },
    {
     "data": {
      "image/png": "[encoded data removed]",
      "text/plain": [
       "<Figure size 432x288 with 1 Axes>"
      ]
     },
     "metadata": {
      "needs_background": "light"
     },
     "output_type": "display_data"
    }
   ],
   "source": [
    "plt.plot(range(len(forces_lqi)), forces_lqi)\n",
    "print(max(forces_lqi))"
   ]
  },
  {
   "cell_type": "code",
   "execution_count": 74,
   "metadata": {},
   "outputs": [
    {
     "name": "stdout",
     "output_type": "stream",
     "text": [
      "[-0.2  0.2  2.8 -0.1]\n"
     ]
    }
   ],
   "source": [
    "test = np.array(x0)\n",
    "print(test)"
   ]
  },
  {
   "cell_type": "code",
   "execution_count": 109,
   "metadata": {},
   "outputs": [
    {
     "name": "stdout",
     "output_type": "stream",
     "text": [
      "Rank of observability matrix: 4\n",
      "(4, 4)\n",
      "(4, 1)\n"
     ]
    }
   ],
   "source": [
    "#Kalman filter section\n",
    "\n",
    "#https://medium.com/@jaems33/understanding-kalman-filters-with-python-2310e87b8f48\n",
    "#https://youtu.be/MZJMi-6_4UU?list=PLMrJAkhIeNNR20Mz-VpzgfQs5zrYi085m\n",
    "#https://youtu.be/-cD7WkbAIL0?list=PLX2gX-ftPVXU3oUFNATxGXY90AULiqnWT\n",
    "\n",
    "C = np.array([1, 0, 0, 0])\n",
    "C_T = np.array([[1],\n",
    "                [0],\n",
    "                [0],\n",
    "                [0]])\n",
    "\n",
    "curly_O = np.array([[C],\n",
    "                    [np.matmul(C, A)],\n",
    "                    [np.matmul(C, A**2)],\n",
    "                    [np.matmul(C, A**3)]])\n",
    "\n",
    "print(\"Rank of observability matrix:\", get_rank(curly_O))\n",
    "\n",
    "V_d = np.array([[0.1, 0, 0, 0],\n",
    "                [0, 0.1, 0, 0],\n",
    "                [0, 0, 0.1, 0],\n",
    "                [0, 0, 0, 0.1]])\n",
    "V_n = 1\n",
    "\n",
    "#V_n = np.eye(4)\n",
    "print(A.T.shape)\n",
    "print(C_T.shape)\n",
    "\n",
    "# X_kalman = scipy.linalg.solve_continuous_are(A.T, C_T, V_d, V_n)\n",
    "# K_f = (np.matmul(np.matmul(scipy.linalg.inv(V_n, C_T), X_kalman)).T\n",
    "# #K = np.matmul(np.matmul(scipy.linalg.inv(R), B.T), X)"
   ]
  },
  {
   "cell_type": "code",
   "execution_count": 76,
   "metadata": {},
   "outputs": [
    {
     "data": {
      "text/html": [
       "<img src=\"https://miro.medium.com/max/4365/1*TMZEwugeC5wlHdITbdmQ5A.png\"/>"
      ],
      "text/plain": [
       "<IPython.core.display.Image object>"
      ]
     },
     "execution_count": 76,
     "metadata": {},
     "output_type": "execute_result"
    }
   ],
   "source": [
    "from IPython.display import Image\n",
    "from IPython.core.display import HTML \n",
    "Image(url = \"https://miro.medium.com/max/4365/1*TMZEwugeC5wlHdITbdmQ5A.png\")"
   ]
  },
  {
   "cell_type": "code",
   "execution_count": 298,
   "metadata": {
    "scrolled": true
   },
   "outputs": [
    {
     "name": "stdout",
     "output_type": "stream",
     "text": [
      "A discrete:\n",
      " [[1.         0.0010005  0.         0.        ]\n",
      " [0.         1.         0.00491705 0.        ]\n",
      " [0.         0.         1.         0.0010005 ]\n",
      " [0.         0.         0.02927322 1.        ]]\n",
      "------------------------------------------------\n",
      "B discrete:\n",
      " [[0.        ]\n",
      " [0.00050013]\n",
      " [0.        ]\n",
      " [0.00098087]] \n",
      "\n",
      "10000\n",
      "Max w: 0.011303177756490018\n",
      "Min w: -0.011600018976382276\n",
      "-------------------------------\n",
      "Max Z: 0.010157026911064956\n",
      "Min Z: -0.010125917053973752\n",
      "-------------------------------\n"
     ]
    }
   ],
   "source": [
    "A_B = np.array([[A[0][0], A[0][1], A[0][2], A[0][3], B[0][0]],\n",
    "                  [A[1][0], A[1][1], A[1][2], A[1][3], B[1][0]],\n",
    "                  [A[2][0], A[2][1], A[2][2], A[2][3], B[2][0]],\n",
    "                  [A[3][0], A[3][1], A[3][2], A[3][3], B[3][0]],\n",
    "                  [0, 0, 0, 0, 1]])\n",
    "\n",
    "eAt_d = calc_x(A_B, t = test_dt, n=5, exponent=60)\n",
    "\n",
    "A_d = np.array([[eAt_d[0][0], eAt_d[0][1], eAt_d[0][2], eAt_d[0][3]],\n",
    "                [eAt_d[1][0], eAt_d[1][1], eAt_d[1][2], eAt_d[1][3]],\n",
    "                [eAt_d[2][0], eAt_d[2][1], eAt_d[2][2], eAt_d[2][3]],\n",
    "                [eAt_d[3][0], eAt_d[3][1], eAt_d[3][2], eAt_d[3][3]]])\n",
    "\n",
    "B_d = np.array([[eAt_d[0][4]],\n",
    "                [eAt_d[1][4]],\n",
    "                [eAt_d[2][4]],\n",
    "                [eAt_d[3][4]]])\n",
    "\n",
    "print(\"A discrete:\\n\", A_d)\n",
    "print(\"------------------------------------------------\")\n",
    "print(\"B discrete:\\n\", B_d, \"\\n\")\n",
    "\n",
    "x0_kf = np.array([[0.25],\n",
    "               [0.13],\n",
    "               [0.2],\n",
    "               [0.17]])\n",
    "\n",
    "x0_actual = np.array([[0.3],\n",
    "               [0.13],\n",
    "               [0.2],\n",
    "               [0.17]])\n",
    "\n",
    "sigma_x = 0.05\n",
    "sigma_x_dot = 0.05\n",
    "sigma_theta = 0.05\n",
    "sigma_theta_dot = 0.05\n",
    "\n",
    "P0 = np.array([[sigma_x**2, sigma_x * sigma_x_dot, sigma_x * sigma_theta, sigma_x * sigma_theta_dot],\n",
    "               [sigma_x_dot * sigma_x, sigma_x_dot**2, sigma_x_dot * sigma_theta, sigma_x_dot * sigma_theta_dot],\n",
    "               [sigma_theta * sigma_x, sigma_theta * sigma_x_dot, sigma_theta**2, sigma_theta * sigma_theta_dot],\n",
    "               [sigma_theta_dot * sigma_x, sigma_theta_dot * sigma_x_dot, sigma_theta_dot * sigma_theta, sigma_theta_dot**2]])\n",
    "\n",
    "#P0 = np.identity(4)\n",
    "\n",
    "K_control = np.array([[-4.47213595],\n",
    "                      [-7.93037482],\n",
    "                      [87.44022063],\n",
    "                      [17.69462815]])\n",
    "\n",
    "x_predicted = [x0_kf] # The predicted state vector purely based on model and noise\n",
    "P_predicted = [P0] # Predicted Covariance matrix before having calculated the gain\n",
    "\n",
    "K = [] # Kalman gains\n",
    "K_numerator = []\n",
    "K_denominator = []\n",
    "\n",
    "Y = [] # Measurements with added noise\n",
    "\n",
    "x_actual = [x0_actual]\n",
    "u_calculated = []\n",
    "\n",
    "P_updated = [P0] # The updated Covariance after having calculated the gain.\n",
    "x_updated = [x0_kf] # The full adjusted state factor after including measurements\n",
    "\n",
    "H = np.array([0, 1, 0, 0]).reshape(1,4)\n",
    "\n",
    "C = H\n",
    "\n",
    "R = 0.003 #np.random.normal(0, 0.005, int(test_length * (1/test_dt)))\n",
    "\n",
    "w = np.random.normal(0, 0.003, int(test_length * (1/test_dt)))\n",
    "\n",
    "Z = np.random.normal(0, 0.003, int(test_length * (1/test_dt)))\n",
    "\n",
    "for i in np.arange(test_dt, test_length, test_dt):\n",
    "\n",
    "    t = int(i * (1/test_dt))\n",
    "    #print(\"\\nt:\", t)\n",
    "    \n",
    "    u_t = -np.matmul(K_control.T, x_actual[-1])\n",
    "    #print(\"u:\", u_t)\n",
    "    \n",
    "    x_actual_t = A_d.dot(x_actual[-1]) + B_d.dot(u_t)\n",
    "    #print(\"x_actual_t:\", x_actual_t)\n",
    "    \n",
    "    Y_t = C.dot(x_actual_t) + Z[t]\n",
    "    #print(\"Y_t:\", Y_t)\n",
    "    \n",
    "    x_p_t = A_d.dot(x_updated[-1]) + B_d.dot(u_t) + w[t]\n",
    "    #print(\"x_predicted_t:\", x_p_t)\n",
    "    \n",
    "    P_p_t = np.matmul(A_d.dot(P_updated[-1]), A_d.T) #+ Q[t]\n",
    "    #print(\"P_predicted_t:\", P_p_t)\n",
    "    \n",
    "    K_numerator_t = P_p_t.dot(H.T)\n",
    "    #print(\"K_numerator:\", K_numerator)\n",
    "    \n",
    "    K_denominator_t = H.dot(P_p_t).dot(H.T) + R\n",
    "    #print(\"K_denominator:\", K_denominator)\n",
    "    \n",
    "    K_t = K_numerator_t.dot(np.linalg.inv(K_denominator_t))\n",
    "    #print(\"K_t:\", K_t)\n",
    "    \n",
    "    P_updated_t = (np.identity(4) - K_t.dot(H)).dot(P_p_t)\n",
    "    #print(\"P_updated_t:\", P_updated_t)\n",
    "    \n",
    "    x_updated_t = x_p_t + K_t.dot(Y_t - H.dot(x_p_t))\n",
    "    #print(\"x_updated_t:\", x_updated_t)\n",
    "    \n",
    "    x_actual.append(x_actual_t)\n",
    "    u_calculated.append(u_t)\n",
    "    \n",
    "    x_predicted.append(x_p_t)\n",
    "    P_predicted.append(P_p_t)\n",
    "    \n",
    "    K.append(K_t)\n",
    "    K_numerator.append(K_numerator_t)\n",
    "    K_denominator.append(K_denominator_t)\n",
    "    \n",
    "    Y.append(Y_t)\n",
    "    \n",
    "    P_updated.append(P_updated_t)\n",
    "    x_updated.append(x_updated_t)\n",
    "    \n",
    "print(len(x_updated))\n",
    "\n",
    "#print(\"Max R:\", max(R))\n",
    "#print(\"Min R:\", min(R))\n",
    "#print(\"-------------------------------\")\n",
    "\n",
    "print(\"Max w:\", max(w))\n",
    "print(\"Min w:\", min(w))\n",
    "print(\"-------------------------------\")\n",
    "\n",
    "print(\"Max Z:\", max(Z))\n",
    "print(\"Min Z:\", min(Z))\n",
    "print(\"-------------------------------\")"
   ]
  },
  {
   "cell_type": "code",
   "execution_count": 299,
   "metadata": {},
   "outputs": [
    {
     "name": "stdout",
     "output_type": "stream",
     "text": [
      "10000\n"
     ]
    },
    {
     "data": {
      "image/png": "[encoded data removed]",
      "text/plain": [
       "<Figure size 432x288 with 4 Axes>"
      ]
     },
     "metadata": {
      "needs_background": "light"
     },
     "output_type": "display_data"
    }
   ],
   "source": [
    "x_actual_plot = []\n",
    "xd_actual_plot = []\n",
    "theta_actual_plot = []\n",
    "thetad_actual_plot = []\n",
    "\n",
    "for i in x_actual:\n",
    "    x_actual_plot.append(i[0])\n",
    "    xd_actual_plot.append(i[1])\n",
    "    theta_actual_plot.append(i[2])\n",
    "    thetad_actual_plot.append(i[3])\n",
    "    \n",
    "print(len(x_actual_plot))\n",
    "#print(x_updated[65])\n",
    "#print(P_updated[64])\n",
    "plot_states(np.arange(0, test_length, test_dt), [x_actual_plot, xd_actual_plot, theta_actual_plot, thetad_actual_plot])"
   ]
  },
  {
   "cell_type": "code",
   "execution_count": 300,
   "metadata": {
    "scrolled": true
   },
   "outputs": [
    {
     "name": "stdout",
     "output_type": "stream",
     "text": [
      "10000\n"
     ]
    },
    {
     "data": {
      "image/png": "[encoded data removed]",
      "text/plain": [
       "<Figure size 432x288 with 4 Axes>"
      ]
     },
     "metadata": {
      "needs_background": "light"
     },
     "output_type": "display_data"
    }
   ],
   "source": [
    "x_updated_plot = []\n",
    "xd_updated_plot = []\n",
    "theta_updated_plot = []\n",
    "thetad_updated_plot = []\n",
    "\n",
    "for i in x_updated:\n",
    "    x_updated_plot.append(i[0][0])\n",
    "    xd_updated_plot.append(i[1][0])\n",
    "    theta_updated_plot.append(i[2][0])\n",
    "    thetad_updated_plot.append(i[3][0])\n",
    "    \n",
    "print(len(xd_updated_plot))\n",
    "plot_states(np.arange(0, test_length, test_dt), [x_updated_plot, xd_updated_plot, theta_updated_plot, thetad_updated_plot])"
   ]
  },
  {
   "cell_type": "code",
   "execution_count": 291,
   "metadata": {},
   "outputs": [
    {
     "data": {
      "image/png": "[encoded data removed]",
      "text/plain": [
       "<Figure size 432x288 with 4 Axes>"
      ]
     },
     "metadata": {
      "needs_background": "light"
     },
     "output_type": "display_data"
    }
   ],
   "source": [
    "x_predicted_plot = []\n",
    "xd_predicted_plot = []\n",
    "theta_predicted_plot = []\n",
    "thetad_predicted_plot = []\n",
    "\n",
    "for i in x_predicted:\n",
    "    x_predicted_plot.append(i[0])\n",
    "    xd_predicted_plot.append(i[1])\n",
    "    theta_predicted_plot.append(i[2])\n",
    "    thetad_predicted_plot.append(i[3])\n",
    "\n",
    "plot_states(np.arange(0, test_length, test_dt), [x_predicted_plot, xd_predicted_plot, theta_predicted_plot, thetad_predicted_plot])"
   ]
  },
  {
   "cell_type": "code",
   "execution_count": 231,
   "metadata": {
    "scrolled": true
   },
   "outputs": [
    {
     "data": {
      "text/plain": [
       "[<matplotlib.lines.Line2D at 0x7f15feebb940>]"
      ]
     },
     "execution_count": 231,
     "metadata": {},
     "output_type": "execute_result"
    },
    {
     "data": {
      "image/png": "[encoded data removed]",
      "text/plain": [
       "<Figure size 432x288 with 1 Axes>"
      ]
     },
     "metadata": {
      "needs_background": "light"
     },
     "output_type": "display_data"
    }
   ],
   "source": [
    "plt.plot([k[0] for k in K])"
   ]
  },
  {
   "cell_type": "code",
   "execution_count": 83,
   "metadata": {},
   "outputs": [
    {
     "data": {
      "text/plain": [
       "array([[0.04    , 0.      , 0.      , 0.      ],\n",
       "       [0.      , 0.0625  , 0.      , 0.      ],\n",
       "       [0.      , 0.      , 0.25    , 0.      ],\n",
       "       [0.      , 0.      , 0.      , 0.015625]])"
      ]
     },
     "execution_count": 83,
     "metadata": {},
     "output_type": "execute_result"
    }
   ],
   "source": [
    "sigma_x = 5\n",
    "sigma_x_dot = 4\n",
    "sigma_theta = 2\n",
    "sigma_theta_dot = 8\n",
    "\n",
    "P0 = np.array([[sigma_x**2, sigma_x * sigma_x_dot, sigma_x * sigma_theta, sigma_x * sigma_theta_dot],\n",
    "               [sigma_x_dot * sigma_x, sigma_x_dot**2, sigma_x_dot * sigma_theta, sigma_x_dot * sigma_theta_dot],\n",
    "               [sigma_theta * sigma_x, sigma_theta * sigma_x_dot, sigma_theta**2, sigma_theta * sigma_theta_dot],\n",
    "               [sigma_theta_dot * sigma_x, sigma_theta_dot * sigma_x_dot, sigma_theta_dot * sigma_theta, sigma_theta_dot**2]])\n",
    "np.linalg.inv(np.diag(np.diag(P0)))"
   ]
  },
  {
   "cell_type": "code",
   "execution_count": null,
   "metadata": {},
   "outputs": [],
   "source": []
  },
  {
   "cell_type": "code",
   "execution_count": null,
   "metadata": {},
   "outputs": [],
   "source": []
  }
 ],
 "metadata": {
  "kernelspec": {
   "display_name": "Python 3",
   "language": "python",
   "name": "python3"
  },
  "language_info": {
   "codemirror_mode": {
    "name": "ipython",
    "version": 3
   },
   "file_extension": ".py",
   "mimetype": "text/x-python",
   "name": "python",
   "nbconvert_exporter": "python",
   "pygments_lexer": "ipython3",
   "version": "3.6.9"
  }
 },
 "nbformat": 4,
 "nbformat_minor": 2
}
