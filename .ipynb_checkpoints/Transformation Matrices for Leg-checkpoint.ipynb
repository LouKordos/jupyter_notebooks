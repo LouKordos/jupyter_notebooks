{
 "cells": [
  {
   "cell_type": "code",
   "execution_count": 9,
   "metadata": {},
   "outputs": [
    {
     "data": {
      "image/png": "[encoded data removed]",
      "text/latex": [
       "$\\displaystyle \\left[\\begin{matrix}\\operatorname{cos}\\left(\\theta_{y}\\right) & \\operatorname{sin}\\left(\\theta_{x}\\right) \\operatorname{sin}\\left(\\theta_{y}\\right) & \\operatorname{sin}\\left(\\theta_{y}\\right) \\operatorname{cos}\\left(\\theta_{x}\\right)\\\\0 & \\operatorname{cos}\\left(\\theta_{x}\\right) & - \\operatorname{sin}\\left(\\theta_{x}\\right)\\\\- \\operatorname{sin}\\left(\\theta_{y}\\right) & \\operatorname{sin}\\left(\\theta_{x}\\right) \\operatorname{cos}\\left(\\theta_{y}\\right) & \\operatorname{cos}\\left(\\theta_{x}\\right) \\operatorname{cos}\\left(\\theta_{y}\\right)\\end{matrix}\\right]$"
      ],
      "text/plain": [
       "⎡cos(θ_y)   sin(θₓ)⋅sin(θ_y)  sin(θ_y)⋅cos(θₓ)⎤\n",
       "⎢                                             ⎥\n",
       "⎢    0          cos(θₓ)           -sin(θₓ)    ⎥\n",
       "⎢                                             ⎥\n",
       "⎣-sin(θ_y)  sin(θₓ)⋅cos(θ_y)  cos(θₓ)⋅cos(θ_y)⎦"
      ]
     },
     "execution_count": 9,
     "metadata": {},
     "output_type": "execute_result"
    }
   ],
   "source": [
    "from sympy import *\n",
    "import numpy as np\n",
    "import matplotlib.pyplot as plt\n",
    "from sympy.physics.mechanics import dynamicsymbols, init_vprinting, msubs\n",
    "\n",
    "init_printing()\n",
    "init_vprinting()\n",
    "\n",
    "theta, theta1, theta2, theta3, theta4, theta_x, theta_y, theta_z = symbols('theta theta_1 theta_2 theta_3 theta_4 theta_x theta_y theta_z')\n",
    "\n",
    "R_z = Matrix([[cos(theta_z), -sin(theta_z), 0],\n",
    "              [sin(theta_z), cos(theta_z), 0],\n",
    "              [0, 0, 1]])\n",
    "\n",
    "R_y = Matrix([[cos(theta_y), 0, sin(theta_y)],\n",
    "              [0, 1, 0],\n",
    "              [-sin(theta_y), 0, cos(theta_y)]])\n",
    "\n",
    "R_x = Matrix([[1, 0, 0],\n",
    "              [0, cos(theta_x), -sin(theta_x)],\n",
    "              [0, sin(theta_x), cos(theta_x)]])\n",
    "\n",
    "R_z_y = R_z * R_y\n",
    "R_z_y\n",
    "\n",
    "R_y_x = R_y * R_x\n",
    "R_y_x"
   ]
  },
  {
   "cell_type": "code",
   "execution_count": null,
   "metadata": {},
   "outputs": [],
   "source": []
  }
 ],
 "metadata": {
  "kernelspec": {
   "display_name": "Python 3",
   "language": "python",
   "name": "python3"
  },
  "language_info": {
   "codemirror_mode": {
    "name": "ipython",
    "version": 3
   },
   "file_extension": ".py",
   "mimetype": "text/x-python",
   "name": "python",
   "nbconvert_exporter": "python",
   "pygments_lexer": "ipython3",
   "version": "3.6.9"
  }
 },
 "nbformat": 4,
 "nbformat_minor": 2
}
